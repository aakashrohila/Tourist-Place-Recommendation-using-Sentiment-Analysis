{
 "cells": [
  {
   "cell_type": "code",
   "execution_count": 1,
   "id": "0efb0a14",
   "metadata": {},
   "outputs": [],
   "source": [
    "from bs4 import BeautifulSoup\n",
    "import requests\n",
    "import numpy as np\n",
    "import pandas as pd"
   ]
  },
  {
   "cell_type": "code",
   "execution_count": 2,
   "id": "b1e9e08d",
   "metadata": {},
   "outputs": [],
   "source": [
    "counter = 1\n",
    "def writer(city_name , place_to_visit, place_name , reviews):\n",
    "    ''' This method is created to create output excel file with ease '''\n",
    "    global counter\n",
    "    \n",
    "    hotel_dict = {'city_name' : city_name , 'place_to_visit' : place_to_visit , 'place_name' : place_name , 'reviews' : reviews}\n",
    "    \n",
    "    df = pd.DataFrame(hotel_dict)\n",
    "    \n",
    "    folder_path = f'C:\\Major Project\\Web_Scapping\\\\{city_name}\\\\{place_to_visit}\\\\{counter}.xlsx'\n",
    "    \n",
    "    df.to_excel( folder_path , index = False , header = True)\n",
    "    \n",
    "    print('This files has',len(reviews),'rows')\n",
    "    \n",
    "    print(f'File : {counter}.xlsx  written to path' )\n",
    "    \n",
    "    counter = counter + 1"
   ]
  },
  {
   "cell_type": "markdown",
   "id": "274f3881",
   "metadata": {},
   "source": [
    "## Hotels"
   ]
  },
  {
   "cell_type": "markdown",
   "id": "5499ffde",
   "metadata": {},
   "source": [
    "1. The Lalit Great Eastern Hotel"
   ]
  },
  {
   "cell_type": "code",
   "execution_count": 3,
   "id": "74151627",
   "metadata": {},
   "outputs": [],
   "source": [
    "# Defining user\n",
    "user_agent = {'User-agent': 'Mozilla/5.0'}\n",
    "\n",
    "\n",
    "url_first = 'https://www.tripadvisor.in/Hotel_Review-g304558-d1155602-Reviews'\n",
    "\n",
    "url_last = 'The_Lalit_Great_Eastern_Kolkata-Kolkata_Calcutta_Kolkata_District_West_Bengal.html'\n",
    "\n",
    "\n",
    "reviews_lalit = []\n",
    "\n",
    "#This loop was necessary to go to next page on trip advisor\n",
    "for x in range(10,310,10):\n",
    "    #This url_mid will change va\n",
    "    url_mid = '-or' + str(x) + '-'\n",
    "    \n",
    "    url = url_first + url_mid + url_last\n",
    "\n",
    "\n",
    "    html_text = requests.get( url , headers = user_agent).text\n",
    "    \n",
    "    soup = BeautifulSoup(html_text , 'html.parser')\n",
    "\n",
    "    review_div = soup.find_all('div' , class_ = 'fIrGe _T')\n",
    "\n",
    "    for r in review_div:\n",
    "\n",
    "        review_text = r.find('q' , class_ = 'QewHA H4 _a')\n",
    "        if review_text != None:\n",
    "            #print(review_text.span.text)\n",
    "            #print()\n",
    "            reviews_lalit.append(review_text.span.text)\n",
    "            \n",
    "#print(reviews_lalit)"
   ]
  },
  {
   "cell_type": "code",
   "execution_count": 4,
   "id": "77f1b880",
   "metadata": {},
   "outputs": [
    {
     "name": "stdout",
     "output_type": "stream",
     "text": [
      "This files has 300 rows\n",
      "File : 1.xlsx  written to path\n"
     ]
    }
   ],
   "source": [
    "writer('Kolkata' , 'Hotels' , 'The Lalit Great Eastern' , reviews_lalit)"
   ]
  },
  {
   "cell_type": "markdown",
   "id": "2d017cd9",
   "metadata": {},
   "source": [
    "2. The Park"
   ]
  },
  {
   "cell_type": "code",
   "execution_count": 5,
   "id": "05a47a4b",
   "metadata": {},
   "outputs": [],
   "source": [
    "# Defining user\n",
    "user_agent = {'User-agent': 'Mozilla/5.0'}\n",
    "\n",
    "\n",
    "url_first = 'https://www.tripadvisor.in/Hotel_Review-g304558-d301637-Reviews'\n",
    "\n",
    "url_last = 'The_Park_Kolkata-Kolkata_Calcutta_Kolkata_District_West_Bengal.html'\n",
    "\n",
    "\n",
    "reviews_park = []\n",
    "\n",
    "#This loop was necessary to go to next page on trip advisor\n",
    "for x in range(10,310,10):\n",
    "    #This url_mid will change va\n",
    "    url_mid = '-or' + str(x) + '-'\n",
    "    \n",
    "    url = url_first + url_mid + url_last\n",
    "\n",
    "\n",
    "    html_text = requests.get( url , headers = user_agent).text\n",
    "    \n",
    "    soup = BeautifulSoup(html_text , 'html.parser')\n",
    "\n",
    "    review_div = soup.find_all('div' , class_ = 'fIrGe _T')\n",
    "\n",
    "    for r in review_div:\n",
    "\n",
    "        review_text = r.find('q' , class_ = 'QewHA H4 _a')\n",
    "        if review_text != None:\n",
    "            #print(review_text.span.text)\n",
    "            #print()\n",
    "            reviews_park.append(review_text.span.text)\n",
    "            \n",
    "#print(reviews_lalit)"
   ]
  },
  {
   "cell_type": "code",
   "execution_count": 6,
   "id": "88cf0614",
   "metadata": {
    "scrolled": true
   },
   "outputs": [
    {
     "name": "stdout",
     "output_type": "stream",
     "text": [
      "This files has 300 rows\n",
      "File : 2.xlsx  written to path\n"
     ]
    }
   ],
   "source": [
    "writer('Kolkata' , 'Hotels' , 'The Park' , reviews_park)"
   ]
  },
  {
   "cell_type": "markdown",
   "id": "4afa27bf",
   "metadata": {},
   "source": [
    "3. Polo Floatel"
   ]
  },
  {
   "cell_type": "code",
   "execution_count": 7,
   "id": "c36e2ac1",
   "metadata": {},
   "outputs": [],
   "source": [
    "# Defining user\n",
    "user_agent = {'User-agent': 'Mozilla/5.0'}\n",
    "\n",
    "\n",
    "url_first = 'https://www.tripadvisor.in/Hotel_Review-g304558-d23661585-Reviews'\n",
    "\n",
    "url_last = 'Polo_Floatel_Kolkata-Kolkata_Calcutta_Kolkata_District_West_Bengal.html'\n",
    "\n",
    "\n",
    "reviews_polo = []\n",
    "\n",
    "#This loop was necessary to go to next page on trip advisor\n",
    "for x in range(10,310,10):\n",
    "    #This url_mid will change va\n",
    "    url_mid = '-or' + str(x) + '-'\n",
    "    \n",
    "    url = url_first + url_mid + url_last\n",
    "\n",
    "\n",
    "    html_text = requests.get( url , headers = user_agent).text\n",
    "    \n",
    "    soup = BeautifulSoup(html_text , 'html.parser')\n",
    "\n",
    "    review_div = soup.find_all('div' , class_ = 'fIrGe _T')\n",
    "\n",
    "    for r in review_div:\n",
    "\n",
    "        review_text = r.find('q' , class_ = 'QewHA H4 _a')\n",
    "        if review_text != None:\n",
    "            #print(review_text.span.text)\n",
    "            #print()\n",
    "            reviews_polo.append(review_text.span.text)\n",
    "            \n",
    "#print(reviews_lalit)"
   ]
  },
  {
   "cell_type": "code",
   "execution_count": 8,
   "id": "a3e38b32",
   "metadata": {},
   "outputs": [
    {
     "name": "stdout",
     "output_type": "stream",
     "text": [
      "This files has 300 rows\n",
      "File : 3.xlsx  written to path\n"
     ]
    }
   ],
   "source": [
    "writer('Kolkata' , 'Hotels' , 'The Polo Floatel' , reviews_polo)"
   ]
  },
  {
   "cell_type": "markdown",
   "id": "25d2c5e2",
   "metadata": {},
   "source": [
    "4. The Peerless Inn"
   ]
  },
  {
   "cell_type": "code",
   "execution_count": 9,
   "id": "e5a7c196",
   "metadata": {},
   "outputs": [],
   "source": [
    "# Defining user\n",
    "user_agent = {'User-agent': 'Mozilla/5.0'}\n",
    "\n",
    "\n",
    "url_first = 'https://www.tripadvisor.in/Hotel_Review-g304558-d308575-Reviews'\n",
    "\n",
    "url_last = 'The_Peerless_Inn-Kolkata_Calcutta_Kolkata_District_West_Bengal.html'\n",
    "\n",
    "\n",
    "reviews_peerless = []\n",
    "\n",
    "#This loop was necessary to go to next page on trip advisor\n",
    "for x in range(10,310,10):\n",
    "    #This url_mid will change va\n",
    "    url_mid = '-or' + str(x) + '-'\n",
    "    \n",
    "    url = url_first + url_mid + url_last\n",
    "\n",
    "\n",
    "    html_text = requests.get( url , headers = user_agent).text\n",
    "    \n",
    "    soup = BeautifulSoup(html_text , 'html.parser')\n",
    "\n",
    "    review_div = soup.find_all('div' , class_ = 'fIrGe _T')\n",
    "\n",
    "    for r in review_div:\n",
    "\n",
    "        review_text = r.find('q' , class_ = 'QewHA H4 _a')\n",
    "        if review_text != None:\n",
    "            #print(review_text.span.text)\n",
    "            #print()\n",
    "            reviews_peerless.append(review_text.span.text)\n",
    "            \n",
    "#print(reviews_lalit)"
   ]
  },
  {
   "cell_type": "code",
   "execution_count": 10,
   "id": "74efd791",
   "metadata": {},
   "outputs": [
    {
     "name": "stdout",
     "output_type": "stream",
     "text": [
      "This files has 300 rows\n",
      "File : 4.xlsx  written to path\n"
     ]
    }
   ],
   "source": [
    "writer('Kolkata' , 'Hotels' , 'The Peerless Inn' , reviews_peerless)"
   ]
  },
  {
   "cell_type": "markdown",
   "id": "f2e62e23",
   "metadata": {},
   "source": [
    "5. Vedic Village Spa Resort"
   ]
  },
  {
   "cell_type": "code",
   "execution_count": 11,
   "id": "a66c0f51",
   "metadata": {},
   "outputs": [],
   "source": [
    "# Defining user\n",
    "user_agent = {'User-agent': 'Mozilla/5.0'}\n",
    "\n",
    "\n",
    "url_first = 'https://www.tripadvisor.in/Hotel_Review-g304558-d734588-Reviews'\n",
    "\n",
    "url_last = 'Vedic_Village_Spa_Resort-Kolkata_Calcutta_Kolkata_District_West_Bengal.html'\n",
    "\n",
    "\n",
    "reviews_vedic = []\n",
    "\n",
    "#This loop was necessary to go to next page on trip advisor\n",
    "for x in range(10,310,10):\n",
    "    #This url_mid will change va\n",
    "    url_mid = '-or' + str(x) + '-'\n",
    "    \n",
    "    url = url_first + url_mid + url_last\n",
    "\n",
    "\n",
    "    html_text = requests.get( url , headers = user_agent).text\n",
    "    \n",
    "    soup = BeautifulSoup(html_text , 'html.parser')\n",
    "\n",
    "    review_div = soup.find_all('div' , class_ = 'fIrGe _T')\n",
    "\n",
    "    for r in review_div:\n",
    "\n",
    "        review_text = r.find('q' , class_ = 'QewHA H4 _a')\n",
    "        if review_text != None:\n",
    "            #print(review_text.span.text)\n",
    "            #print()\n",
    "            reviews_vedic.append(review_text.span.text)\n",
    "            \n",
    "#print(reviews_lalit)"
   ]
  },
  {
   "cell_type": "code",
   "execution_count": 12,
   "id": "1e5b930b",
   "metadata": {},
   "outputs": [
    {
     "name": "stdout",
     "output_type": "stream",
     "text": [
      "This files has 300 rows\n",
      "File : 5.xlsx  written to path\n"
     ]
    }
   ],
   "source": [
    "writer('Kolkata' , 'Hotels' , 'Vedic Village Spa Resort' , reviews_vedic)"
   ]
  },
  {
   "cell_type": "markdown",
   "id": "2bb6340f",
   "metadata": {},
   "source": [
    "6. The Oberoi Grand"
   ]
  },
  {
   "cell_type": "code",
   "execution_count": 13,
   "id": "2c1f71ef",
   "metadata": {},
   "outputs": [],
   "source": [
    "# Defining user\n",
    "user_agent = {'User-agent': 'Mozilla/5.0'}\n",
    "\n",
    "\n",
    "url_first = 'https://www.tripadvisor.in/Hotel_Review-g304558-d302191-Reviews'\n",
    "\n",
    "url_last = 'The_Oberoi_Grand-Kolkata_Calcutta_Kolkata_District_West_Bengal.html'\n",
    "\n",
    "\n",
    "reviews_oberoi = []\n",
    "\n",
    "#This loop was necessary to go to next page on trip advisor\n",
    "for x in range(10,310,10):\n",
    "    #This url_mid will change va\n",
    "    url_mid = '-or' + str(x) + '-'\n",
    "    \n",
    "    url = url_first + url_mid + url_last\n",
    "\n",
    "\n",
    "    html_text = requests.get( url , headers = user_agent).text\n",
    "    \n",
    "    soup = BeautifulSoup(html_text , 'html.parser')\n",
    "\n",
    "    review_div = soup.find_all('div' , class_ = 'fIrGe _T')\n",
    "\n",
    "    for r in review_div:\n",
    "\n",
    "        review_text = r.find('q' , class_ = 'QewHA H4 _a')\n",
    "        if review_text != None:\n",
    "            #print(review_text.span.text)\n",
    "            #print()\n",
    "            reviews_oberoi.append(review_text.span.text)\n",
    "            \n",
    "#print(reviews_lalit)"
   ]
  },
  {
   "cell_type": "code",
   "execution_count": 14,
   "id": "5a694b94",
   "metadata": {},
   "outputs": [
    {
     "name": "stdout",
     "output_type": "stream",
     "text": [
      "This files has 300 rows\n",
      "File : 6.xlsx  written to path\n"
     ]
    }
   ],
   "source": [
    "writer('Kolkata' , 'Hotels' , 'The Oberoi Grand' , reviews_oberoi)"
   ]
  },
  {
   "cell_type": "markdown",
   "id": "c2e7935e",
   "metadata": {},
   "source": [
    "7. The Astor Hotel"
   ]
  },
  {
   "cell_type": "code",
   "execution_count": 15,
   "id": "2c2a571e",
   "metadata": {},
   "outputs": [],
   "source": [
    "# Defining user\n",
    "user_agent = {'User-agent': 'Mozilla/5.0'}\n",
    "\n",
    "\n",
    "url_first = 'https://www.tripadvisor.in/Hotel_Review-g304558-d308571-Reviews'\n",
    "\n",
    "url_last = 'The_Astor_Hotel_Kolkata-Kolkata_Calcutta_Kolkata_District_West_Bengal.html'\n",
    "\n",
    "\n",
    "reviews_astor = []\n",
    "\n",
    "#This loop was necessary to go to next page on trip advisor\n",
    "for x in range(10,310,10):\n",
    "    #This url_mid will change va\n",
    "    url_mid = '-or' + str(x) + '-'\n",
    "    \n",
    "    url = url_first + url_mid + url_last\n",
    "\n",
    "\n",
    "    html_text = requests.get( url , headers = user_agent).text\n",
    "    \n",
    "    soup = BeautifulSoup(html_text , 'html.parser')\n",
    "\n",
    "    review_div = soup.find_all('div' , class_ = 'fIrGe _T')\n",
    "\n",
    "    for r in review_div:\n",
    "\n",
    "        review_text = r.find('q' , class_ = 'QewHA H4 _a')\n",
    "        if review_text != None:\n",
    "            #print(review_text.span.text)\n",
    "            #print()\n",
    "            reviews_astor.append(review_text.span.text)\n",
    "            \n",
    "#print(reviews_lalit)"
   ]
  },
  {
   "cell_type": "code",
   "execution_count": 16,
   "id": "774c9981",
   "metadata": {},
   "outputs": [
    {
     "name": "stdout",
     "output_type": "stream",
     "text": [
      "This files has 300 rows\n",
      "File : 7.xlsx  written to path\n"
     ]
    }
   ],
   "source": [
    "writer('Kolkata' , 'Hotels' , 'The Astor Hotel' , reviews_astor)"
   ]
  },
  {
   "cell_type": "markdown",
   "id": "5fa9aec2",
   "metadata": {},
   "source": [
    "8. Novotel Kolkata Hotel and Residences"
   ]
  },
  {
   "cell_type": "code",
   "execution_count": 17,
   "id": "87cb6279",
   "metadata": {},
   "outputs": [],
   "source": [
    "# Defining user\n",
    "user_agent = {'User-agent': 'Mozilla/5.0'}\n",
    "\n",
    "\n",
    "url_first = 'https://www.tripadvisor.in/Hotel_Review-g304558-d6509623-Reviews'\n",
    "\n",
    "url_last = 'Novotel_Kolkata_Hotel_and_Residences-Kolkata_Calcutta_Kolkata_District_West_Bengal.html'\n",
    "\n",
    "\n",
    "reviews_novotel = []\n",
    "\n",
    "#This loop was necessary to go to next page on trip advisor\n",
    "for x in range(10,310,10):\n",
    "    #This url_mid will change va\n",
    "    url_mid = '-or' + str(x) + '-'\n",
    "    \n",
    "    url = url_first + url_mid + url_last\n",
    "\n",
    "\n",
    "    html_text = requests.get( url , headers = user_agent).text\n",
    "    \n",
    "    soup = BeautifulSoup(html_text , 'html.parser')\n",
    "\n",
    "    review_div = soup.find_all('div' , class_ = 'fIrGe _T')\n",
    "\n",
    "    for r in review_div:\n",
    "\n",
    "        review_text = r.find('q' , class_ = 'QewHA H4 _a')\n",
    "        if review_text != None:\n",
    "            #print(review_text.span.text)\n",
    "            #print()\n",
    "            reviews_novotel.append(review_text.span.text)\n",
    "            \n",
    "#print(reviews_lalit)"
   ]
  },
  {
   "cell_type": "code",
   "execution_count": 18,
   "id": "0ce2ce54",
   "metadata": {},
   "outputs": [
    {
     "name": "stdout",
     "output_type": "stream",
     "text": [
      "This files has 300 rows\n",
      "File : 8.xlsx  written to path\n"
     ]
    }
   ],
   "source": [
    "writer('Kolkata' , 'Hotels' , 'Novotel Kolkata Hotel and Residences' , reviews_novotel)"
   ]
  },
  {
   "cell_type": "markdown",
   "id": "f2d28551",
   "metadata": {},
   "source": [
    "9. Pride Plaza Hotel"
   ]
  },
  {
   "cell_type": "code",
   "execution_count": 19,
   "id": "1a50bbe7",
   "metadata": {},
   "outputs": [],
   "source": [
    "# Defining user\n",
    "user_agent = {'User-agent': 'Mozilla/5.0'}\n",
    "\n",
    "\n",
    "url_first = 'https://www.tripadvisor.in/Hotel_Review-g304558-d2535083-Reviews'\n",
    "\n",
    "url_last = 'Pride_Plaza_Hotel_Kolkata-Kolkata_Calcutta_Kolkata_District_West_Bengal.html'\n",
    "\n",
    "\n",
    "reviews_pride = []\n",
    "\n",
    "#This loop was necessary to go to next page on trip advisor\n",
    "for x in range(10,310,10):\n",
    "    #This url_mid will change va\n",
    "    url_mid = '-or' + str(x) + '-'\n",
    "    \n",
    "    url = url_first + url_mid + url_last\n",
    "\n",
    "\n",
    "    html_text = requests.get( url , headers = user_agent).text\n",
    "    \n",
    "    soup = BeautifulSoup(html_text , 'html.parser')\n",
    "\n",
    "    review_div = soup.find_all('div' , class_ = 'fIrGe _T')\n",
    "\n",
    "    for r in review_div:\n",
    "\n",
    "        review_text = r.find('q' , class_ = 'QewHA H4 _a')\n",
    "        if review_text != None:\n",
    "            #print(review_text.span.text)\n",
    "            #print()\n",
    "            reviews_pride.append(review_text.span.text)\n",
    "            \n",
    "#print(reviews_lalit)"
   ]
  },
  {
   "cell_type": "code",
   "execution_count": 20,
   "id": "722141a7",
   "metadata": {},
   "outputs": [
    {
     "name": "stdout",
     "output_type": "stream",
     "text": [
      "This files has 300 rows\n",
      "File : 9.xlsx  written to path\n"
     ]
    }
   ],
   "source": [
    "writer('Kolkata' , 'Hotels' , 'Pride Plaza Hotel' , reviews_pride)"
   ]
  },
  {
   "cell_type": "markdown",
   "id": "02823277",
   "metadata": {},
   "source": [
    "10. Siamton Inn"
   ]
  },
  {
   "cell_type": "code",
   "execution_count": 21,
   "id": "8c93bf77",
   "metadata": {},
   "outputs": [],
   "source": [
    "# Defining user\n",
    "user_agent = {'User-agent': 'Mozilla/5.0'}\n",
    "\n",
    "\n",
    "url_first = 'https://www.tripadvisor.in/Hotel_Review-g304558-d2556609-Reviews'\n",
    "\n",
    "url_last = 'Siamton_Inn-Kolkata_Calcutta_Kolkata_District_West_Bengal.html'\n",
    "\n",
    "\n",
    "reviews_siamton = []\n",
    "\n",
    "#This loop was necessary to go to next page on trip advisor\n",
    "for x in range(10,310,10):\n",
    "    #This url_mid will change va\n",
    "    url_mid = '-or' + str(x) + '-'\n",
    "    \n",
    "    url = url_first + url_mid + url_last\n",
    "\n",
    "\n",
    "    html_text = requests.get( url , headers = user_agent).text\n",
    "    \n",
    "    soup = BeautifulSoup(html_text , 'html.parser')\n",
    "\n",
    "    review_div = soup.find_all('div' , class_ = 'fIrGe _T')\n",
    "\n",
    "    for r in review_div:\n",
    "\n",
    "        review_text = r.find('q' , class_ = 'QewHA H4 _a')\n",
    "        if review_text != None:\n",
    "            #print(review_text.span.text)\n",
    "            #print()\n",
    "            reviews_siamton.append(review_text.span.text)\n",
    "            \n",
    "#print(reviews_lalit)"
   ]
  },
  {
   "cell_type": "code",
   "execution_count": 22,
   "id": "443c2ce2",
   "metadata": {},
   "outputs": [
    {
     "name": "stdout",
     "output_type": "stream",
     "text": [
      "This files has 300 rows\n",
      "File : 10.xlsx  written to path\n"
     ]
    }
   ],
   "source": [
    "writer('Kolkata' , 'Hotels' , 'Siamton Inn' , reviews_siamton)"
   ]
  },
  {
   "cell_type": "markdown",
   "id": "3b7884e1",
   "metadata": {},
   "source": [
    "## Restaurants"
   ]
  },
  {
   "cell_type": "markdown",
   "id": "f4d394de",
   "metadata": {},
   "source": [
    "1. Ottimo Cucina Italiana"
   ]
  },
  {
   "cell_type": "code",
   "execution_count": 23,
   "id": "09dd3728",
   "metadata": {},
   "outputs": [],
   "source": [
    "# Defining user\n",
    "user_agent = {'User-agent': 'Mozilla/5.0'}\n",
    "\n",
    "\n",
    "url_first = 'https://www.tripadvisor.in/Restaurant_Review-g304558-d17630339-Reviews'\n",
    "\n",
    "url_last = 'Ottimo_Cucina_Italiana-Kolkata_Calcutta_Kolkata_District_West_Bengal.html'\n",
    "\n",
    "\n",
    "reviews_ottimo = []\n",
    "\n",
    "#This loop was necessary to go to next page on trip advisor\n",
    "for x in range(15,315,15):\n",
    "    #This url_mid will change va\n",
    "    url_mid = '-or' + str(x) + '-'\n",
    "    \n",
    "    url = url_first + url_mid + url_last\n",
    "\n",
    "    html_text = requests.get( url , headers = user_agent).text\n",
    "    \n",
    "    soup = BeautifulSoup(html_text , 'html.parser')\n",
    "\n",
    "    review_div = soup.find_all('div' , class_ = 'ui_column is-9')\n",
    "    \n",
    "    \n",
    "    #review_div = soup.find_all('div' , class_ = 'prw_rup prw_reviews_text_summary_hsx')\n",
    "    \n",
    "   # tags_to_delete = soup.find_all('div' , class_ = 'mgrRspnInline')\n",
    "    \n",
    "    #for t in tags_to_delete:\n",
    "        #t.decompose()\n",
    "    \n",
    "\n",
    "    \n",
    "    for r in review_div:\n",
    "        \n",
    "        review_text = r.find('p' , class_ = 'partial_entry')\n",
    "        \n",
    "        if review_text != None:\n",
    "           # review_text.span.decompose()\n",
    "            reviews_ottimo.append(review_text.text)"
   ]
  },
  {
   "cell_type": "code",
   "execution_count": 24,
   "id": "65488c9d",
   "metadata": {},
   "outputs": [
    {
     "name": "stdout",
     "output_type": "stream",
     "text": [
      "This files has 300 rows\n",
      "File : 11.xlsx  written to path\n"
     ]
    }
   ],
   "source": [
    "writer('Kolkata' , 'Restaurants' , 'Ottimo Cucina Italiana' , reviews_ottimo)"
   ]
  },
  {
   "cell_type": "markdown",
   "id": "c408ada4",
   "metadata": {},
   "source": [
    "2. 6 Ballygunge Place"
   ]
  },
  {
   "cell_type": "code",
   "execution_count": 25,
   "id": "11f7c684",
   "metadata": {},
   "outputs": [],
   "source": [
    "# Defining user\n",
    "user_agent = {'User-agent': 'Mozilla/5.0'}\n",
    "\n",
    "\n",
    "url_first = 'https://www.tripadvisor.in/Restaurant_Review-g304558-d1571770-Reviews'\n",
    "\n",
    "url_last = '6_Ballygunge_Place-Kolkata_Calcutta_Kolkata_District_West_Bengal.html'\n",
    "\n",
    "\n",
    "reviews_Ballygunge = []\n",
    "\n",
    "#This loop was necessary to go to next page on trip advisor\n",
    "for x in range(15,315,15):\n",
    "    #This url_mid will change va\n",
    "    url_mid = '-or' + str(x) + '-'\n",
    "    \n",
    "    url = url_first + url_mid + url_last\n",
    "\n",
    "    html_text = requests.get( url , headers = user_agent).text\n",
    "    \n",
    "    soup = BeautifulSoup(html_text , 'html.parser')\n",
    "\n",
    "    review_div = soup.find_all('div' , class_ = 'ui_column is-9')\n",
    "    \n",
    "    \n",
    "    #review_div = soup.find_all('div' , class_ = 'prw_rup prw_reviews_text_summary_hsx')\n",
    "    \n",
    "   # tags_to_delete = soup.find_all('div' , class_ = 'mgrRspnInline')\n",
    "    \n",
    "    #for t in tags_to_delete:\n",
    "        #t.decompose()\n",
    "    \n",
    "\n",
    "    \n",
    "    for r in review_div:\n",
    "        \n",
    "        review_text = r.find('p' , class_ = 'partial_entry')\n",
    "        \n",
    "        if review_text != None:\n",
    "           # review_text.span.decompose()\n",
    "            reviews_Ballygunge.append(review_text.text)"
   ]
  },
  {
   "cell_type": "code",
   "execution_count": 26,
   "id": "0169085e",
   "metadata": {},
   "outputs": [
    {
     "name": "stdout",
     "output_type": "stream",
     "text": [
      "This files has 300 rows\n",
      "File : 12.xlsx  written to path\n"
     ]
    }
   ],
   "source": [
    "writer('Kolkata' , 'Restaurants' , '6 Ballygunge Place' , reviews_Ballygunge)"
   ]
  },
  {
   "cell_type": "markdown",
   "id": "dc89591d",
   "metadata": {},
   "source": [
    "3.  Oh! Calcutta"
   ]
  },
  {
   "cell_type": "code",
   "execution_count": 27,
   "id": "544a6b39",
   "metadata": {},
   "outputs": [],
   "source": [
    "# Defining user\n",
    "user_agent = {'User-agent': 'Mozilla/5.0'}\n",
    "\n",
    "\n",
    "url_first = 'https://www.tripadvisor.in/Restaurant_Review-g304558-d1189598-Reviews'\n",
    "\n",
    "url_last = 'Oh_Calcutta-Kolkata_Calcutta_Kolkata_District_West_Bengal.html'\n",
    "\n",
    "\n",
    "reviews_Calcutta = []\n",
    "\n",
    "#This loop was necessary to go to next page on trip advisor\n",
    "for x in range(15,315,15):\n",
    "    #This url_mid will change va\n",
    "    url_mid = '-or' + str(x) + '-'\n",
    "    \n",
    "    url = url_first + url_mid + url_last\n",
    "\n",
    "    html_text = requests.get( url , headers = user_agent).text\n",
    "    \n",
    "    soup = BeautifulSoup(html_text , 'html.parser')\n",
    "\n",
    "    review_div = soup.find_all('div' , class_ = 'ui_column is-9')\n",
    "    \n",
    "    \n",
    "    #review_div = soup.find_all('div' , class_ = 'prw_rup prw_reviews_text_summary_hsx')\n",
    "    \n",
    "   # tags_to_delete = soup.find_all('div' , class_ = 'mgrRspnInline')\n",
    "    \n",
    "    #for t in tags_to_delete:\n",
    "        #t.decompose()\n",
    "    \n",
    "\n",
    "    \n",
    "    for r in review_div:\n",
    "        \n",
    "        review_text = r.find('p' , class_ = 'partial_entry')\n",
    "        \n",
    "        if review_text != None:\n",
    "           # review_text.span.decompose()\n",
    "            reviews_Calcutta.append(review_text.text)"
   ]
  },
  {
   "cell_type": "code",
   "execution_count": 28,
   "id": "11545c92",
   "metadata": {},
   "outputs": [
    {
     "name": "stdout",
     "output_type": "stream",
     "text": [
      "This files has 300 rows\n",
      "File : 13.xlsx  written to path\n"
     ]
    }
   ],
   "source": [
    "writer('Kolkata' , 'Restaurants' , 'Oh! Calcutta' , reviews_Calcutta)"
   ]
  },
  {
   "cell_type": "markdown",
   "id": "75632e23",
   "metadata": {},
   "source": [
    "4. Grand Market Pavilion"
   ]
  },
  {
   "cell_type": "code",
   "execution_count": 29,
   "id": "04dc1f10",
   "metadata": {},
   "outputs": [],
   "source": [
    "# Defining user\n",
    "user_agent = {'User-agent': 'Mozilla/5.0'}\n",
    "\n",
    "\n",
    "url_first = 'https://www.tripadvisor.in/Restaurant_Review-g304558-d17729749-Reviews'\n",
    "\n",
    "url_last = 'Grand_Market_Pavilion-Kolkata_Calcutta_Kolkata_District_West_Bengal.html'\n",
    "\n",
    "\n",
    "reviews_Grand = []\n",
    "\n",
    "#This loop was necessary to go to next page on trip advisor\n",
    "for x in range(15,315,15):\n",
    "    #This url_mid will change va\n",
    "    url_mid = '-or' + str(x) + '-'\n",
    "    \n",
    "    url = url_first + url_mid + url_last\n",
    "\n",
    "    html_text = requests.get( url , headers = user_agent).text\n",
    "    \n",
    "    soup = BeautifulSoup(html_text , 'html.parser')\n",
    "\n",
    "    review_div = soup.find_all('div' , class_ = 'ui_column is-9')\n",
    "    \n",
    "    \n",
    "    #review_div = soup.find_all('div' , class_ = 'prw_rup prw_reviews_text_summary_hsx')\n",
    "    \n",
    "   # tags_to_delete = soup.find_all('div' , class_ = 'mgrRspnInline')\n",
    "    \n",
    "    #for t in tags_to_delete:\n",
    "        #t.decompose()\n",
    "    \n",
    "\n",
    "    \n",
    "    for r in review_div:\n",
    "        \n",
    "        review_text = r.find('p' , class_ = 'partial_entry')\n",
    "        \n",
    "        if review_text != None:\n",
    "           # review_text.span.decompose()\n",
    "            reviews_Grand.append(review_text.text)"
   ]
  },
  {
   "cell_type": "code",
   "execution_count": 30,
   "id": "2573f4f2",
   "metadata": {},
   "outputs": [
    {
     "name": "stdout",
     "output_type": "stream",
     "text": [
      "This files has 300 rows\n",
      "File : 14.xlsx  written to path\n"
     ]
    }
   ],
   "source": [
    "writer('Kolkata' , 'Restaurants' , 'Grand Market Pavilion' , reviews_Grand)"
   ]
  },
  {
   "cell_type": "markdown",
   "id": "b8e027b5",
   "metadata": {},
   "source": [
    "5. Dum Phukt"
   ]
  },
  {
   "cell_type": "code",
   "execution_count": 31,
   "id": "50097dff",
   "metadata": {},
   "outputs": [],
   "source": [
    "# Defining user\n",
    "user_agent = {'User-agent': 'Mozilla/5.0'}\n",
    "\n",
    "\n",
    "url_first = 'https://www.tripadvisor.in/Restaurant_Review-g304558-d3223751-Reviews'\n",
    "\n",
    "url_last = 'Dum_Pukht-Kolkata_Calcutta_Kolkata_District_West_Bengal.html'\n",
    "\n",
    "\n",
    "reviews_Dum = []\n",
    "\n",
    "#This loop was necessary to go to next page on trip advisor\n",
    "for x in range(15,315,15):\n",
    "    #This url_mid will change va\n",
    "    url_mid = '-or' + str(x) + '-'\n",
    "    \n",
    "    url = url_first + url_mid + url_last\n",
    "\n",
    "    html_text = requests.get( url , headers = user_agent).text\n",
    "    \n",
    "    soup = BeautifulSoup(html_text , 'html.parser')\n",
    "\n",
    "    review_div = soup.find_all('div' , class_ = 'ui_column is-9')\n",
    "    \n",
    "    \n",
    "    #review_div = soup.find_all('div' , class_ = 'prw_rup prw_reviews_text_summary_hsx')\n",
    "    \n",
    "   # tags_to_delete = soup.find_all('div' , class_ = 'mgrRspnInline')\n",
    "    \n",
    "    #for t in tags_to_delete:\n",
    "        #t.decompose()\n",
    "    \n",
    "\n",
    "    \n",
    "    for r in review_div:\n",
    "        \n",
    "        review_text = r.find('p' , class_ = 'partial_entry')\n",
    "        \n",
    "        if review_text != None:\n",
    "           # review_text.span.decompose()\n",
    "            reviews_Dum.append(review_text.text)"
   ]
  },
  {
   "cell_type": "code",
   "execution_count": 32,
   "id": "215c8f0f",
   "metadata": {
    "scrolled": true
   },
   "outputs": [
    {
     "name": "stdout",
     "output_type": "stream",
     "text": [
      "This files has 300 rows\n",
      "File : 15.xlsx  written to path\n"
     ]
    }
   ],
   "source": [
    "writer('Kolkata' , 'Restaurants' , 'Dum Phukt' , reviews_Dum)"
   ]
  },
  {
   "cell_type": "markdown",
   "id": "6e688cd9",
   "metadata": {},
   "source": [
    "6. Eden Pavilion"
   ]
  },
  {
   "cell_type": "code",
   "execution_count": 33,
   "id": "45148069",
   "metadata": {},
   "outputs": [],
   "source": [
    "# Defining user\n",
    "user_agent = {'User-agent': 'Mozilla/5.0'}\n",
    "\n",
    "\n",
    "url_first = 'https://www.tripadvisor.in/Restaurant_Review-g304558-d3961412-Reviews'\n",
    "\n",
    "url_last = 'Eden_Pavilion-Kolkata_Calcutta_Kolkata_District_West_Bengal.html'\n",
    "\n",
    "\n",
    "reviews_eden = []\n",
    "\n",
    "#This loop was necessary to go to next page on trip advisor\n",
    "for x in range(15,315,15):\n",
    "    #This url_mid will change va\n",
    "    url_mid = '-or' + str(x) + '-'\n",
    "    \n",
    "    url = url_first + url_mid + url_last\n",
    "\n",
    "    html_text = requests.get( url , headers = user_agent).text\n",
    "    \n",
    "    soup = BeautifulSoup(html_text , 'html.parser')\n",
    "\n",
    "    review_div = soup.find_all('div' , class_ = 'ui_column is-9')\n",
    "    \n",
    "    \n",
    "    #review_div = soup.find_all('div' , class_ = 'prw_rup prw_reviews_text_summary_hsx')\n",
    "    \n",
    "   # tags_to_delete = soup.find_all('div' , class_ = 'mgrRspnInline')\n",
    "    \n",
    "    #for t in tags_to_delete:\n",
    "        #t.decompose()\n",
    "    \n",
    "\n",
    "    \n",
    "    for r in review_div:\n",
    "        \n",
    "        review_text = r.find('p' , class_ = 'partial_entry')\n",
    "        \n",
    "        if review_text != None:\n",
    "           # review_text.span.decompose()\n",
    "            reviews_eden.append(review_text.text)"
   ]
  },
  {
   "cell_type": "code",
   "execution_count": 34,
   "id": "cb59b6af",
   "metadata": {},
   "outputs": [
    {
     "name": "stdout",
     "output_type": "stream",
     "text": [
      "This files has 300 rows\n",
      "File : 16.xlsx  written to path\n"
     ]
    }
   ],
   "source": [
    "writer('Kolkata' , 'Restaurants' , 'Eden Pavilion' , reviews_eden)"
   ]
  },
  {
   "cell_type": "markdown",
   "id": "4ecf302d",
   "metadata": {},
   "source": [
    "7. Arsalan"
   ]
  },
  {
   "cell_type": "code",
   "execution_count": 35,
   "id": "50166fb4",
   "metadata": {},
   "outputs": [],
   "source": [
    "# Defining user\n",
    "user_agent = {'User-agent': 'Mozilla/5.0'}\n",
    "\n",
    "\n",
    "url_first = 'https://www.tripadvisor.in/Restaurant_Review-g304558-d1201445-Reviews'\n",
    "\n",
    "url_last = 'Arsalan-Kolkata_Calcutta_Kolkata_District_West_Bengal.html'\n",
    "\n",
    "\n",
    "reviews_arsalan = []\n",
    "\n",
    "#This loop was necessary to go to next page on trip advisor\n",
    "for x in range(15,315,15):\n",
    "    #This url_mid will change va\n",
    "    url_mid = '-or' + str(x) + '-'\n",
    "    \n",
    "    url = url_first + url_mid + url_last\n",
    "\n",
    "    html_text = requests.get( url , headers = user_agent).text\n",
    "    \n",
    "    soup = BeautifulSoup(html_text , 'html.parser')\n",
    "\n",
    "    review_div = soup.find_all('div' , class_ = 'ui_column is-9')\n",
    "    \n",
    "    \n",
    "    #review_div = soup.find_all('div' , class_ = 'prw_rup prw_reviews_text_summary_hsx')\n",
    "    \n",
    "   # tags_to_delete = soup.find_all('div' , class_ = 'mgrRspnInline')\n",
    "    \n",
    "    #for t in tags_to_delete:\n",
    "        #t.decompose()\n",
    "    \n",
    "\n",
    "    \n",
    "    for r in review_div:\n",
    "        \n",
    "        review_text = r.find('p' , class_ = 'partial_entry')\n",
    "        \n",
    "        if review_text != None:\n",
    "           # review_text.span.decompose()\n",
    "            reviews_arsalan.append(review_text.text)"
   ]
  },
  {
   "cell_type": "code",
   "execution_count": 36,
   "id": "2e824f0c",
   "metadata": {},
   "outputs": [
    {
     "name": "stdout",
     "output_type": "stream",
     "text": [
      "This files has 300 rows\n",
      "File : 17.xlsx  written to path\n"
     ]
    }
   ],
   "source": [
    "writer('Kolkata' , 'Restaurants' , 'Arsalan' , reviews_arsalan)"
   ]
  },
  {
   "cell_type": "markdown",
   "id": "3a63815a",
   "metadata": {},
   "source": [
    "8. Mocambo"
   ]
  },
  {
   "cell_type": "code",
   "execution_count": 37,
   "id": "10dfca17",
   "metadata": {},
   "outputs": [],
   "source": [
    "# Defining user\n",
    "user_agent = {'User-agent': 'Mozilla/5.0'}\n",
    "\n",
    "\n",
    "url_first = 'https://www.tripadvisor.in/Restaurant_Review-g304558-d809492-Reviews'\n",
    "\n",
    "url_last = 'Mocambo-Kolkata_Calcutta_Kolkata_District_West_Bengal.html'\n",
    "\n",
    "\n",
    "reviews_mocambo = []\n",
    "\n",
    "#This loop was necessary to go to next page on trip advisor\n",
    "for x in range(15,315,15):\n",
    "    #This url_mid will change va\n",
    "    url_mid = '-or' + str(x) + '-'\n",
    "    \n",
    "    url = url_first + url_mid + url_last\n",
    "\n",
    "    html_text = requests.get( url , headers = user_agent).text\n",
    "    \n",
    "    soup = BeautifulSoup(html_text , 'html.parser')\n",
    "\n",
    "    review_div = soup.find_all('div' , class_ = 'ui_column is-9')\n",
    "    \n",
    "    \n",
    "    #review_div = soup.find_all('div' , class_ = 'prw_rup prw_reviews_text_summary_hsx')\n",
    "    \n",
    "   # tags_to_delete = soup.find_all('div' , class_ = 'mgrRspnInline')\n",
    "    \n",
    "    #for t in tags_to_delete:\n",
    "        #t.decompose()\n",
    "    \n",
    "\n",
    "    \n",
    "    for r in review_div:\n",
    "        \n",
    "        review_text = r.find('p' , class_ = 'partial_entry')\n",
    "        \n",
    "        if review_text != None:\n",
    "           # review_text.span.decompose()\n",
    "            reviews_mocambo.append(review_text.text)"
   ]
  },
  {
   "cell_type": "code",
   "execution_count": 38,
   "id": "e11e1ad3",
   "metadata": {},
   "outputs": [
    {
     "name": "stdout",
     "output_type": "stream",
     "text": [
      "This files has 300 rows\n",
      "File : 18.xlsx  written to path\n"
     ]
    }
   ],
   "source": [
    "writer('Kolkata' , 'Restaurants' , 'Mocambo' , reviews_mocambo)"
   ]
  },
  {
   "cell_type": "markdown",
   "id": "1fe31ef7",
   "metadata": {},
   "source": [
    "9. Peter Cat"
   ]
  },
  {
   "cell_type": "code",
   "execution_count": 39,
   "id": "d86915ed",
   "metadata": {},
   "outputs": [],
   "source": [
    "# Defining user\n",
    "user_agent = {'User-agent': 'Mozilla/5.0'}\n",
    "\n",
    "\n",
    "url_first = 'https://www.tripadvisor.in/Restaurant_Review-g304558-d812876-Reviews'\n",
    "\n",
    "url_last = 'Peter_Cat-Kolkata_Calcutta_Kolkata_District_West_Bengal.html'\n",
    "\n",
    "\n",
    "reviews_peter = []\n",
    "\n",
    "#This loop was necessary to go to next page on trip advisor\n",
    "for x in range(15,315,15):\n",
    "    #This url_mid will change va\n",
    "    url_mid = '-or' + str(x) + '-'\n",
    "    \n",
    "    url = url_first + url_mid + url_last\n",
    "\n",
    "    html_text = requests.get( url , headers = user_agent).text\n",
    "    \n",
    "    soup = BeautifulSoup(html_text , 'html.parser')\n",
    "\n",
    "    review_div = soup.find_all('div' , class_ = 'ui_column is-9')\n",
    "    \n",
    "    \n",
    "    #review_div = soup.find_all('div' , class_ = 'prw_rup prw_reviews_text_summary_hsx')\n",
    "    \n",
    "   # tags_to_delete = soup.find_all('div' , class_ = 'mgrRspnInline')\n",
    "    \n",
    "    #for t in tags_to_delete:\n",
    "        #t.decompose()\n",
    "    \n",
    "\n",
    "    \n",
    "    for r in review_div:\n",
    "        \n",
    "        review_text = r.find('p' , class_ = 'partial_entry')\n",
    "        \n",
    "        if review_text != None:\n",
    "           # review_text.span.decompose()\n",
    "            reviews_peter.append(review_text.text)"
   ]
  },
  {
   "cell_type": "code",
   "execution_count": 40,
   "id": "431fe960",
   "metadata": {},
   "outputs": [
    {
     "name": "stdout",
     "output_type": "stream",
     "text": [
      "This files has 300 rows\n",
      "File : 19.xlsx  written to path\n"
     ]
    }
   ],
   "source": [
    "writer('Kolkata' , 'Restaurants' , 'Peter Cat' , reviews_peter)"
   ]
  },
  {
   "cell_type": "markdown",
   "id": "bf615f1d",
   "metadata": {},
   "source": [
    "10. Baan Thai"
   ]
  },
  {
   "cell_type": "code",
   "execution_count": 41,
   "id": "0695a31a",
   "metadata": {},
   "outputs": [],
   "source": [
    "# Defining user\n",
    "user_agent = {'User-agent': 'Mozilla/5.0'}\n",
    "\n",
    "\n",
    "url_first = 'https://www.tripadvisor.in/Restaurant_Review-g304558-d1096703-Reviews'\n",
    "\n",
    "url_last = 'Baan_Thai-Kolkata_Calcutta_Kolkata_District_West_Bengal.html'\n",
    "\n",
    "\n",
    "reviews_baan = []\n",
    "\n",
    "#This loop was necessary to go to next page on trip advisor\n",
    "for x in range(15,315,15):\n",
    "    #This url_mid will change va\n",
    "    url_mid = '-or' + str(x) + '-'\n",
    "    \n",
    "    url = url_first + url_mid + url_last\n",
    "\n",
    "    html_text = requests.get( url , headers = user_agent).text\n",
    "    \n",
    "    soup = BeautifulSoup(html_text , 'html.parser')\n",
    "\n",
    "    review_div = soup.find_all('div' , class_ = 'ui_column is-9')\n",
    "    \n",
    "    \n",
    "    #review_div = soup.find_all('div' , class_ = 'prw_rup prw_reviews_text_summary_hsx')\n",
    "    \n",
    "   # tags_to_delete = soup.find_all('div' , class_ = 'mgrRspnInline')\n",
    "    \n",
    "    #for t in tags_to_delete:\n",
    "        #t.decompose()\n",
    "    \n",
    "\n",
    "    \n",
    "    for r in review_div:\n",
    "        \n",
    "        review_text = r.find('p' , class_ = 'partial_entry')\n",
    "        \n",
    "        if review_text != None:\n",
    "           # review_text.span.decompose()\n",
    "            reviews_baan.append(review_text.text)"
   ]
  },
  {
   "cell_type": "code",
   "execution_count": 42,
   "id": "6bcf096a",
   "metadata": {},
   "outputs": [
    {
     "name": "stdout",
     "output_type": "stream",
     "text": [
      "This files has 300 rows\n",
      "File : 20.xlsx  written to path\n"
     ]
    }
   ],
   "source": [
    "writer('Kolkata' , 'Restaurants' , 'Baan Thai' , reviews_baan)"
   ]
  },
  {
   "cell_type": "markdown",
   "id": "2db2aa81",
   "metadata": {},
   "source": [
    "## Things To Do"
   ]
  },
  {
   "cell_type": "markdown",
   "id": "0b9d959b",
   "metadata": {},
   "source": [
    "1. Victoria Memorial Hall"
   ]
  },
  {
   "cell_type": "code",
   "execution_count": 43,
   "id": "032ec80a",
   "metadata": {},
   "outputs": [],
   "source": [
    "# Defining user\n",
    "user_agent = {'User-agent': 'Mozilla/5.0'}\n",
    "\n",
    "url_first = 'https://www.tripadvisor.in/Attraction_Review-g304558-d311680-Reviews'\n",
    "\n",
    "url_last = 'Victoria_Memorial_Hall-Kolkata_Calcutta_Kolkata_District_West_Bengal.html'\n",
    "    \n",
    "reviews_victoria = []\n",
    "\n",
    "#This loop was necessary to go to next page on trip advisor\n",
    "for x in range(10,310,10):\n",
    "    #This url_mid will change va\n",
    "    url_mid = '-or' + str(x) + '-'\n",
    "    \n",
    "    url = url_first + url_mid + url_last\n",
    "\n",
    "    html_text = requests.get( url , headers = user_agent).text\n",
    "    \n",
    "    soup = BeautifulSoup(html_text , 'html.parser')\n",
    "\n",
    "    review_div = soup.find_all('div' , class_ = '_c')\n",
    "    \n",
    "    \n",
    "    for r in review_div:\n",
    "        \n",
    "        review_text = r.find('div' , class_ = 'biGQs _P pZUbB KxBGd')\n",
    "        \n",
    "        if review_text != None:\n",
    "            #print(review_text.span.text)\n",
    "            #print()\n",
    "            reviews_victoria.append(review_text.text)"
   ]
  },
  {
   "cell_type": "code",
   "execution_count": 44,
   "id": "46c5478f",
   "metadata": {},
   "outputs": [
    {
     "name": "stdout",
     "output_type": "stream",
     "text": [
      "This files has 300 rows\n",
      "File : 21.xlsx  written to path\n"
     ]
    }
   ],
   "source": [
    "writer('Kolkata' , 'Things' , 'Victoria Memorial Hall' , reviews_victoria)"
   ]
  },
  {
   "cell_type": "markdown",
   "id": "df903942",
   "metadata": {},
   "source": [
    "2. Dakshineswar Kali Temple"
   ]
  },
  {
   "cell_type": "code",
   "execution_count": 45,
   "id": "47c66af3",
   "metadata": {},
   "outputs": [],
   "source": [
    "# Defining user\n",
    "user_agent = {'User-agent': 'Mozilla/5.0'}\n",
    "\n",
    "url_first = 'https://www.tripadvisor.in/Attraction_Review-g304558-d3952876-Reviews'\n",
    "\n",
    "url_last = 'Dakshineswar_Kali_Temple-Kolkata_Calcutta_Kolkata_District_West_Bengal.html'\n",
    "    \n",
    "reviews_kali = []\n",
    "\n",
    "#This loop was necessary to go to next page on trip advisor\n",
    "for x in range(10,310,10):\n",
    "    #This url_mid will change va\n",
    "    url_mid = '-or' + str(x) + '-'\n",
    "    \n",
    "    url = url_first + url_mid + url_last\n",
    "\n",
    "    html_text = requests.get( url , headers = user_agent).text\n",
    "    \n",
    "    soup = BeautifulSoup(html_text , 'html.parser')\n",
    "\n",
    "    review_div = soup.find_all('div' , class_ = '_c')\n",
    "    \n",
    "    \n",
    "    for r in review_div:\n",
    "        \n",
    "        review_text = r.find('div' , class_ = 'biGQs _P pZUbB KxBGd')\n",
    "        \n",
    "        if review_text != None:\n",
    "            #print(review_text.span.text)\n",
    "            #print()\n",
    "            reviews_kali.append(review_text.text)"
   ]
  },
  {
   "cell_type": "code",
   "execution_count": 46,
   "id": "4f4a5051",
   "metadata": {},
   "outputs": [
    {
     "name": "stdout",
     "output_type": "stream",
     "text": [
      "This files has 300 rows\n",
      "File : 22.xlsx  written to path\n"
     ]
    }
   ],
   "source": [
    "writer('Kolkata' , 'Things' , 'Dakshineswar Kali Temple' , reviews_kali)"
   ]
  },
  {
   "cell_type": "markdown",
   "id": "d5c67fda",
   "metadata": {},
   "source": [
    "3. Park Street"
   ]
  },
  {
   "cell_type": "code",
   "execution_count": 47,
   "id": "d1b36429",
   "metadata": {},
   "outputs": [],
   "source": [
    "\n",
    "    \n",
    "# Defining user\n",
    "user_agent = {'User-agent': 'Mozilla/5.0'}\n",
    "\n",
    "url_first = 'https://www.tripadvisor.in/Attraction_Review-g304558-d1746039-Reviews'\n",
    "\n",
    "url_last = 'Park_Street-Kolkata_Calcutta_Kolkata_District_West_Bengal.html'\n",
    "    \n",
    "reviews_park = []\n",
    "\n",
    "#This loop was necessary to go to next page on trip advisor\n",
    "for x in range(10,310,10):\n",
    "    #This url_mid will change va\n",
    "    url_mid = '-or' + str(x) + '-'\n",
    "    \n",
    "    url = url_first + url_mid + url_last\n",
    "\n",
    "    html_text = requests.get( url , headers = user_agent).text\n",
    "    \n",
    "    soup = BeautifulSoup(html_text , 'html.parser')\n",
    "\n",
    "    review_div = soup.find_all('div' , class_ = '_c')\n",
    "    \n",
    "    \n",
    "    for r in review_div:\n",
    "        \n",
    "        review_text = r.find('div' , class_ = 'biGQs _P pZUbB KxBGd')\n",
    "        \n",
    "        if review_text != None:\n",
    "            #print(review_text.span.text)\n",
    "            #print()\n",
    "            reviews_park.append(review_text.text)"
   ]
  },
  {
   "cell_type": "code",
   "execution_count": 48,
   "id": "cbe66ab7",
   "metadata": {},
   "outputs": [
    {
     "name": "stdout",
     "output_type": "stream",
     "text": [
      "This files has 300 rows\n",
      "File : 23.xlsx  written to path\n"
     ]
    }
   ],
   "source": [
    "writer('Kolkata' , 'Things' , 'Park Street' , reviews_park)"
   ]
  },
  {
   "cell_type": "markdown",
   "id": "f783a5a9",
   "metadata": {},
   "source": [
    "4. Indian Musuem (Jadu Ghar)"
   ]
  },
  {
   "cell_type": "code",
   "execution_count": 49,
   "id": "fd2bd07c",
   "metadata": {},
   "outputs": [],
   "source": [
    "\n",
    "    \n",
    "# Defining user\n",
    "user_agent = {'User-agent': 'Mozilla/5.0'}\n",
    "\n",
    "url_first = 'https://www.tripadvisor.in/Attraction_Review-g304558-d311670-Reviews'\n",
    "\n",
    "url_last = 'Indian_Museum_Jadu_Ghar-Kolkata_Calcutta_Kolkata_District_West_Bengal.html'\n",
    "    \n",
    "reviews_jadu = []\n",
    "\n",
    "#This loop was necessary to go to next page on trip advisor\n",
    "for x in range(10,310,10):\n",
    "    #This url_mid will change va\n",
    "    url_mid = '-or' + str(x) + '-'\n",
    "    \n",
    "    url = url_first + url_mid + url_last\n",
    "\n",
    "    html_text = requests.get( url , headers = user_agent).text\n",
    "    \n",
    "    soup = BeautifulSoup(html_text , 'html.parser')\n",
    "\n",
    "    review_div = soup.find_all('div' , class_ = '_c')\n",
    "    \n",
    "    \n",
    "    for r in review_div:\n",
    "        \n",
    "        review_text = r.find('div' , class_ = 'biGQs _P pZUbB KxBGd')\n",
    "        \n",
    "        if review_text != None:\n",
    "            #print(review_text.span.text)\n",
    "            #print()\n",
    "            reviews_jadu.append(review_text.text)"
   ]
  },
  {
   "cell_type": "code",
   "execution_count": 50,
   "id": "43d7c6d5",
   "metadata": {},
   "outputs": [
    {
     "name": "stdout",
     "output_type": "stream",
     "text": [
      "This files has 300 rows\n",
      "File : 24.xlsx  written to path\n"
     ]
    }
   ],
   "source": [
    "writer('Kolkata' , 'Things' , 'Indian Museum' , reviews_jadu)"
   ]
  },
  {
   "cell_type": "markdown",
   "id": "0724b5c1",
   "metadata": {},
   "source": [
    "5. Sciene City"
   ]
  },
  {
   "cell_type": "code",
   "execution_count": 51,
   "id": "62683616",
   "metadata": {},
   "outputs": [],
   "source": [
    "    \n",
    "\n",
    "    \n",
    "# Defining user\n",
    "user_agent = {'User-agent': 'Mozilla/5.0'}\n",
    "\n",
    "url_first = 'https://www.tripadvisor.in/Attraction_Review-g304558-d1405842-Reviews'\n",
    "\n",
    "url_last = 'Science_City-Kolkata_Calcutta_Kolkata_District_West_Bengal.html'\n",
    "    \n",
    "reviews_science = []\n",
    "\n",
    "#This loop was necessary to go to next page on trip advisor\n",
    "for x in range(10,310,10):\n",
    "    #This url_mid will change va\n",
    "    url_mid = '-or' + str(x) + '-'\n",
    "    \n",
    "    url = url_first + url_mid + url_last\n",
    "\n",
    "    html_text = requests.get( url , headers = user_agent).text\n",
    "    \n",
    "    soup = BeautifulSoup(html_text , 'html.parser')\n",
    "\n",
    "    review_div = soup.find_all('div' , class_ = '_c')\n",
    "    \n",
    "    \n",
    "    for r in review_div:\n",
    "        \n",
    "        review_text = r.find('div' , class_ = 'biGQs _P pZUbB KxBGd')\n",
    "        \n",
    "        if review_text != None:\n",
    "            #print(review_text.span.text)\n",
    "            #print()\n",
    "            reviews_science.append(review_text.text)  "
   ]
  },
  {
   "cell_type": "code",
   "execution_count": 52,
   "id": "caada6eb",
   "metadata": {},
   "outputs": [
    {
     "name": "stdout",
     "output_type": "stream",
     "text": [
      "This files has 300 rows\n",
      "File : 25.xlsx  written to path\n"
     ]
    }
   ],
   "source": [
    "writer('Kolkata' , 'Things' , 'Science City' , reviews_science)"
   ]
  },
  {
   "cell_type": "markdown",
   "id": "aed4499a",
   "metadata": {},
   "source": [
    "6. Howrah Bridge"
   ]
  },
  {
   "cell_type": "code",
   "execution_count": 53,
   "id": "bf38b65c",
   "metadata": {},
   "outputs": [],
   "source": [
    "    \n",
    "\n",
    "    \n",
    "# Defining user\n",
    "user_agent = {'User-agent': 'Mozilla/5.0'}\n",
    "\n",
    "url_first = 'https://www.tripadvisor.in/Attraction_Review-g304558-d311655-Reviews'\n",
    "\n",
    "url_last = 'Howrah_Bridge-Kolkata_Calcutta_Kolkata_District_West_Bengal.html'\n",
    "    \n",
    "reviews_howrah = []\n",
    "\n",
    "#This loop was necessary to go to next page on trip advisor\n",
    "for x in range(10,310,10):\n",
    "    #This url_mid will change va\n",
    "    url_mid = '-or' + str(x) + '-'\n",
    "    \n",
    "    url = url_first + url_mid + url_last\n",
    "\n",
    "    html_text = requests.get( url , headers = user_agent).text\n",
    "    \n",
    "    soup = BeautifulSoup(html_text , 'html.parser')\n",
    "\n",
    "    review_div = soup.find_all('div' , class_ = '_c')\n",
    "    \n",
    "    \n",
    "    for r in review_div:\n",
    "        \n",
    "        review_text = r.find('div' , class_ = 'biGQs _P pZUbB KxBGd')\n",
    "        \n",
    "        if review_text != None:\n",
    "            #print(review_text.span.text)\n",
    "            #print()\n",
    "            reviews_howrah.append(review_text.text)  "
   ]
  },
  {
   "cell_type": "code",
   "execution_count": 54,
   "id": "bb4d18e9",
   "metadata": {},
   "outputs": [
    {
     "name": "stdout",
     "output_type": "stream",
     "text": [
      "This files has 300 rows\n",
      "File : 26.xlsx  written to path\n"
     ]
    }
   ],
   "source": [
    "writer('Kolkata' , 'Things' , 'Howrah Bridge' , reviews_howrah)"
   ]
  },
  {
   "cell_type": "markdown",
   "id": "41c58a9f",
   "metadata": {},
   "source": [
    "7. Mother House"
   ]
  },
  {
   "cell_type": "code",
   "execution_count": 55,
   "id": "7d67101c",
   "metadata": {},
   "outputs": [],
   "source": [
    "    \n",
    "\n",
    "    \n",
    "# Defining user\n",
    "user_agent = {'User-agent': 'Mozilla/5.0'}\n",
    "\n",
    "url_first = 'https://www.tripadvisor.in/Attraction_Review-g304558-d321215-Reviews'\n",
    "\n",
    "url_last = 'Mother_House-Kolkata_Calcutta_Kolkata_District_West_Bengal.html'\n",
    "    \n",
    "reviews_mother = []\n",
    "\n",
    "#This loop was necessary to go to next page on trip advisor\n",
    "for x in range(10,310,10):\n",
    "    #This url_mid will change va\n",
    "    url_mid = '-or' + str(x) + '-'\n",
    "    \n",
    "    url = url_first + url_mid + url_last\n",
    "\n",
    "    html_text = requests.get( url , headers = user_agent).text\n",
    "    \n",
    "    soup = BeautifulSoup(html_text , 'html.parser')\n",
    "\n",
    "    review_div = soup.find_all('div' , class_ = '_c')\n",
    "    \n",
    "    \n",
    "    for r in review_div:\n",
    "        \n",
    "        review_text = r.find('div' , class_ = 'biGQs _P pZUbB KxBGd')\n",
    "        \n",
    "        if review_text != None:\n",
    "            #print(review_text.span.text)\n",
    "            #print()\n",
    "            reviews_mother.append(review_text.text)  "
   ]
  },
  {
   "cell_type": "code",
   "execution_count": 56,
   "id": "77757183",
   "metadata": {},
   "outputs": [
    {
     "name": "stdout",
     "output_type": "stream",
     "text": [
      "This files has 300 rows\n",
      "File : 27.xlsx  written to path\n"
     ]
    }
   ],
   "source": [
    "writer('Kolkata' , 'Things' , 'Mother House' , reviews_mother)"
   ]
  },
  {
   "cell_type": "markdown",
   "id": "bd4b45ef",
   "metadata": {},
   "source": [
    "8. Eco Tourism Park"
   ]
  },
  {
   "cell_type": "code",
   "execution_count": 57,
   "id": "27424c92",
   "metadata": {},
   "outputs": [],
   "source": [
    "    \n",
    "\n",
    "    \n",
    "# Defining user\n",
    "user_agent = {'User-agent': 'Mozilla/5.0'}\n",
    "\n",
    "url_first = 'https://www.tripadvisor.in/Attraction_Review-g304558-d3786041-Reviews'\n",
    "\n",
    "url_last = 'Eco_Tourism_Park-Kolkata_Calcutta_Kolkata_District_West_Bengal.html'\n",
    "    \n",
    "reviews_eco = []\n",
    "\n",
    "#This loop was necessary to go to next page on trip advisor\n",
    "for x in range(10,310,10):\n",
    "    #This url_mid will change va\n",
    "    url_mid = '-or' + str(x) + '-'\n",
    "    \n",
    "    url = url_first + url_mid + url_last\n",
    "\n",
    "    html_text = requests.get( url , headers = user_agent).text\n",
    "    \n",
    "    soup = BeautifulSoup(html_text , 'html.parser')\n",
    "\n",
    "    review_div = soup.find_all('div' , class_ = '_c')\n",
    "    \n",
    "    \n",
    "    for r in review_div:\n",
    "        \n",
    "        review_text = r.find('div' , class_ = 'biGQs _P pZUbB KxBGd')\n",
    "        \n",
    "        if review_text != None:\n",
    "            #print(review_text.span.text)\n",
    "            #print()\n",
    "            reviews_eco.append(review_text.text)  "
   ]
  },
  {
   "cell_type": "code",
   "execution_count": 58,
   "id": "fea2a0a9",
   "metadata": {},
   "outputs": [
    {
     "name": "stdout",
     "output_type": "stream",
     "text": [
      "This files has 300 rows\n",
      "File : 28.xlsx  written to path\n"
     ]
    }
   ],
   "source": [
    "writer('Kolkata' , 'Things' , 'Eco Tourism Park' , reviews_eco)"
   ]
  },
  {
   "cell_type": "markdown",
   "id": "046f22b4",
   "metadata": {},
   "source": [
    "9. St. Paul's Cathedral"
   ]
  },
  {
   "cell_type": "code",
   "execution_count": 59,
   "id": "7900c312",
   "metadata": {},
   "outputs": [],
   "source": [
    "    \n",
    "\n",
    "    \n",
    "# Defining user\n",
    "user_agent = {'User-agent': 'Mozilla/5.0'}\n",
    "\n",
    "url_first = 'https://www.tripadvisor.in/Attraction_Review-g304558-d321217-Reviews'\n",
    "\n",
    "url_last = 'St_Paul_s_Cathedral-Kolkata_Calcutta_Kolkata_District_West_Bengal.html'\n",
    "    \n",
    "reviews_paul = []\n",
    "\n",
    "#This loop was necessary to go to next page on trip advisor\n",
    "for x in range(10,310,10):\n",
    "    #This url_mid will change va\n",
    "    url_mid = '-or' + str(x) + '-'\n",
    "    \n",
    "    url = url_first + url_mid + url_last\n",
    "\n",
    "    html_text = requests.get( url , headers = user_agent).text\n",
    "    \n",
    "    soup = BeautifulSoup(html_text , 'html.parser')\n",
    "\n",
    "    review_div = soup.find_all('div' , class_ = '_c')\n",
    "    \n",
    "    \n",
    "    for r in review_div:\n",
    "        \n",
    "        review_text = r.find('div' , class_ = 'biGQs _P pZUbB KxBGd')\n",
    "        \n",
    "        if review_text != None:\n",
    "            #print(review_text.span.text)\n",
    "            #print()\n",
    "            reviews_paul.append(review_text.text)  "
   ]
  },
  {
   "cell_type": "code",
   "execution_count": 60,
   "id": "1b252c87",
   "metadata": {},
   "outputs": [
    {
     "name": "stdout",
     "output_type": "stream",
     "text": [
      "This files has 300 rows\n",
      "File : 29.xlsx  written to path\n"
     ]
    }
   ],
   "source": [
    "writer('Kolkata' , 'Things' , \"St. Paul's Cathedral\" , reviews_paul)"
   ]
  },
  {
   "cell_type": "markdown",
   "id": "982b5910",
   "metadata": {},
   "source": [
    "10. Jorasanko Thakur Bari"
   ]
  },
  {
   "cell_type": "code",
   "execution_count": 63,
   "id": "86bf8e94",
   "metadata": {},
   "outputs": [],
   "source": [
    "    \n",
    "\n",
    "    \n",
    "# Defining user\n",
    "user_agent = {'User-agent': 'Mozilla/5.0'}\n",
    "\n",
    "url_first = 'https://www.tripadvisor.in/Attraction_Review-g304558-d3218644-Reviews'\n",
    "\n",
    "url_last = 'Jorasanko_Thakur_Bari-Kolkata_Calcutta_Kolkata_District_West_Bengal.html'\n",
    "    \n",
    "reviews_bari = []\n",
    "\n",
    "#This loop was necessary to go to next page on trip advisor\n",
    "for x in range(10,315,10):\n",
    "    #This url_mid will change va\n",
    "    url_mid = '-or' + str(x) + '-'\n",
    "    \n",
    "    url = url_first + url_mid + url_last\n",
    "\n",
    "    html_text = requests.get( url , headers = user_agent).text\n",
    "    \n",
    "    soup = BeautifulSoup(html_text , 'html.parser')\n",
    "\n",
    "    review_div = soup.find_all('div' , class_ = '_c')\n",
    "    \n",
    "    \n",
    "    for r in review_div:\n",
    "        \n",
    "        review_text = r.find('div' , class_ = 'biGQs _P pZUbB KxBGd')\n",
    "        \n",
    "        if review_text != None:\n",
    "            #print(review_text.span.text)\n",
    "            #print()\n",
    "            reviews_bari.append(review_text.text)  "
   ]
  },
  {
   "cell_type": "code",
   "execution_count": 64,
   "id": "a097f128",
   "metadata": {},
   "outputs": [
    {
     "name": "stdout",
     "output_type": "stream",
     "text": [
      "This files has 297 rows\n",
      "File : 31.xlsx  written to path\n"
     ]
    }
   ],
   "source": [
    "writer('Kolkata' , 'Things' , 'Jorasanko Thakur Bari' , reviews_bari)"
   ]
  },
  {
   "cell_type": "code",
   "execution_count": null,
   "id": "24d5acc2",
   "metadata": {},
   "outputs": [],
   "source": []
  }
 ],
 "metadata": {
  "kernelspec": {
   "display_name": "Python 3 (ipykernel)",
   "language": "python",
   "name": "python3"
  },
  "language_info": {
   "codemirror_mode": {
    "name": "ipython",
    "version": 3
   },
   "file_extension": ".py",
   "mimetype": "text/x-python",
   "name": "python",
   "nbconvert_exporter": "python",
   "pygments_lexer": "ipython3",
   "version": "3.9.13"
  }
 },
 "nbformat": 4,
 "nbformat_minor": 5
}
