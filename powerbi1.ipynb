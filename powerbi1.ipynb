{
 "cells": [
  {
   "cell_type": "code",
   "execution_count": 7,
   "id": "cab9a63d",
   "metadata": {},
   "outputs": [],
   "source": [
    "import pandas as pd\n",
    "import numpy as np\n",
    "\n",
    "#Importing necessary library"
   ]
  },
  {
   "cell_type": "code",
   "execution_count": 8,
   "id": "c1b8c1b8",
   "metadata": {},
   "outputs": [],
   "source": [
    "df = pd.read_csv('reviews_cleaned2.csv')"
   ]
  },
  {
   "cell_type": "code",
   "execution_count": 9,
   "id": "f7de4846",
   "metadata": {},
   "outputs": [
    {
     "data": {
      "text/html": [
       "<div>\n",
       "<style scoped>\n",
       "    .dataframe tbody tr th:only-of-type {\n",
       "        vertical-align: middle;\n",
       "    }\n",
       "\n",
       "    .dataframe tbody tr th {\n",
       "        vertical-align: top;\n",
       "    }\n",
       "\n",
       "    .dataframe thead th {\n",
       "        text-align: right;\n",
       "    }\n",
       "</style>\n",
       "<table border=\"1\" class=\"dataframe\">\n",
       "  <thead>\n",
       "    <tr style=\"text-align: right;\">\n",
       "      <th></th>\n",
       "      <th>city_name</th>\n",
       "      <th>place_to_visit</th>\n",
       "      <th>place_name</th>\n",
       "      <th>score_V</th>\n",
       "      <th>avg_score</th>\n",
       "      <th>avg_scoreR</th>\n",
       "    </tr>\n",
       "  </thead>\n",
       "  <tbody>\n",
       "    <tr>\n",
       "      <th>0</th>\n",
       "      <td>Agra</td>\n",
       "      <td>Hotels</td>\n",
       "      <td>Holiday_Inn</td>\n",
       "      <td>0.8126</td>\n",
       "      <td>0.914462</td>\n",
       "      <td>0.941</td>\n",
       "    </tr>\n",
       "    <tr>\n",
       "      <th>1</th>\n",
       "      <td>Agra</td>\n",
       "      <td>Hotels</td>\n",
       "      <td>Jaypee_Palace_Hotel</td>\n",
       "      <td>0.9864</td>\n",
       "      <td>0.883915</td>\n",
       "      <td>0.905</td>\n",
       "    </tr>\n",
       "    <tr>\n",
       "      <th>2</th>\n",
       "      <td>Agra</td>\n",
       "      <td>Hotels</td>\n",
       "      <td>Bansi_Home_Stay</td>\n",
       "      <td>0.8860</td>\n",
       "      <td>0.891969</td>\n",
       "      <td>0.882</td>\n",
       "    </tr>\n",
       "    <tr>\n",
       "      <th>3</th>\n",
       "      <td>Agra</td>\n",
       "      <td>Hotels</td>\n",
       "      <td>Hotel_Taj_Resorts</td>\n",
       "      <td>0.9686</td>\n",
       "      <td>0.826703</td>\n",
       "      <td>0.840</td>\n",
       "    </tr>\n",
       "    <tr>\n",
       "      <th>4</th>\n",
       "      <td>Agra</td>\n",
       "      <td>Hotels</td>\n",
       "      <td>Howard_Plaza</td>\n",
       "      <td>0.9724</td>\n",
       "      <td>0.777425</td>\n",
       "      <td>0.750</td>\n",
       "    </tr>\n",
       "  </tbody>\n",
       "</table>\n",
       "</div>"
      ],
      "text/plain": [
       "  city_name place_to_visit           place_name  score_V  avg_score  \\\n",
       "0      Agra         Hotels          Holiday_Inn   0.8126   0.914462   \n",
       "1      Agra         Hotels  Jaypee_Palace_Hotel   0.9864   0.883915   \n",
       "2      Agra         Hotels      Bansi_Home_Stay   0.8860   0.891969   \n",
       "3      Agra         Hotels    Hotel_Taj_Resorts   0.9686   0.826703   \n",
       "4      Agra         Hotels         Howard_Plaza   0.9724   0.777425   \n",
       "\n",
       "   avg_scoreR  \n",
       "0       0.941  \n",
       "1       0.905  \n",
       "2       0.882  \n",
       "3       0.840  \n",
       "4       0.750  "
      ]
     },
     "execution_count": 9,
     "metadata": {},
     "output_type": "execute_result"
    }
   ],
   "source": [
    "df.head()"
   ]
  },
  {
   "cell_type": "code",
   "execution_count": 10,
   "id": "2db1b26d",
   "metadata": {},
   "outputs": [
    {
     "data": {
      "text/plain": [
       "Index(['Bangalore', 'Chandigarh', 'Delhi', 'Goa', 'Kolkata', 'Mumbai',\n",
       "       'Ahmedabad', 'Pune', 'Udaipur', 'Jaipur', 'Agra', 'Varanasi'],\n",
       "      dtype='object')"
      ]
     },
     "execution_count": 10,
     "metadata": {},
     "output_type": "execute_result"
    }
   ],
   "source": [
    "df.city_name.value_counts().index"
   ]
  },
  {
   "cell_type": "code",
   "execution_count": 11,
   "id": "1f0d7873",
   "metadata": {},
   "outputs": [],
   "source": [
    "df['avg_scoreR'] = round(5 * df.avg_scoreR,1)"
   ]
  },
  {
   "cell_type": "code",
   "execution_count": 12,
   "id": "08ad7f76",
   "metadata": {},
   "outputs": [],
   "source": [
    "df['avg_score'] = round(5 * df.avg_score,1)"
   ]
  },
  {
   "cell_type": "code",
   "execution_count": 14,
   "id": "29e7ba76",
   "metadata": {},
   "outputs": [
    {
     "data": {
      "text/html": [
       "<div>\n",
       "<style scoped>\n",
       "    .dataframe tbody tr th:only-of-type {\n",
       "        vertical-align: middle;\n",
       "    }\n",
       "\n",
       "    .dataframe tbody tr th {\n",
       "        vertical-align: top;\n",
       "    }\n",
       "\n",
       "    .dataframe thead th {\n",
       "        text-align: right;\n",
       "    }\n",
       "</style>\n",
       "<table border=\"1\" class=\"dataframe\">\n",
       "  <thead>\n",
       "    <tr style=\"text-align: right;\">\n",
       "      <th></th>\n",
       "      <th>city_name</th>\n",
       "      <th>place_to_visit</th>\n",
       "      <th>place_name</th>\n",
       "      <th>score_V</th>\n",
       "      <th>avg_score</th>\n",
       "      <th>avg_scoreR</th>\n",
       "    </tr>\n",
       "  </thead>\n",
       "  <tbody>\n",
       "    <tr>\n",
       "      <th>0</th>\n",
       "      <td>Agra</td>\n",
       "      <td>Hotels</td>\n",
       "      <td>Holiday_Inn</td>\n",
       "      <td>0.8126</td>\n",
       "      <td>4.6</td>\n",
       "      <td>4.7</td>\n",
       "    </tr>\n",
       "    <tr>\n",
       "      <th>1</th>\n",
       "      <td>Agra</td>\n",
       "      <td>Hotels</td>\n",
       "      <td>Jaypee_Palace_Hotel</td>\n",
       "      <td>0.9864</td>\n",
       "      <td>4.4</td>\n",
       "      <td>4.5</td>\n",
       "    </tr>\n",
       "    <tr>\n",
       "      <th>2</th>\n",
       "      <td>Agra</td>\n",
       "      <td>Hotels</td>\n",
       "      <td>Bansi_Home_Stay</td>\n",
       "      <td>0.8860</td>\n",
       "      <td>4.5</td>\n",
       "      <td>4.4</td>\n",
       "    </tr>\n",
       "    <tr>\n",
       "      <th>3</th>\n",
       "      <td>Agra</td>\n",
       "      <td>Hotels</td>\n",
       "      <td>Hotel_Taj_Resorts</td>\n",
       "      <td>0.9686</td>\n",
       "      <td>4.1</td>\n",
       "      <td>4.2</td>\n",
       "    </tr>\n",
       "    <tr>\n",
       "      <th>4</th>\n",
       "      <td>Agra</td>\n",
       "      <td>Hotels</td>\n",
       "      <td>Howard_Plaza</td>\n",
       "      <td>0.9724</td>\n",
       "      <td>3.9</td>\n",
       "      <td>3.8</td>\n",
       "    </tr>\n",
       "  </tbody>\n",
       "</table>\n",
       "</div>"
      ],
      "text/plain": [
       "  city_name place_to_visit           place_name  score_V  avg_score  \\\n",
       "0      Agra         Hotels          Holiday_Inn   0.8126        4.6   \n",
       "1      Agra         Hotels  Jaypee_Palace_Hotel   0.9864        4.4   \n",
       "2      Agra         Hotels      Bansi_Home_Stay   0.8860        4.5   \n",
       "3      Agra         Hotels    Hotel_Taj_Resorts   0.9686        4.1   \n",
       "4      Agra         Hotels         Howard_Plaza   0.9724        3.9   \n",
       "\n",
       "   avg_scoreR  \n",
       "0         4.7  \n",
       "1         4.5  \n",
       "2         4.4  \n",
       "3         4.2  \n",
       "4         3.8  "
      ]
     },
     "execution_count": 14,
     "metadata": {},
     "output_type": "execute_result"
    }
   ],
   "source": [
    "df.head()"
   ]
  },
  {
   "cell_type": "code",
   "execution_count": 15,
   "id": "d204e99c",
   "metadata": {},
   "outputs": [],
   "source": [
    "df.drop(['score_V'], axis = 1 , inplace = True)"
   ]
  },
  {
   "cell_type": "code",
   "execution_count": 16,
   "id": "62161958",
   "metadata": {},
   "outputs": [],
   "source": [
    "df.to_csv('powerbi.csv')"
   ]
  },
  {
   "cell_type": "code",
   "execution_count": null,
   "id": "e01efdbb",
   "metadata": {},
   "outputs": [],
   "source": []
  }
 ],
 "metadata": {
  "kernelspec": {
   "display_name": "Python 3 (ipykernel)",
   "language": "python",
   "name": "python3"
  },
  "language_info": {
   "codemirror_mode": {
    "name": "ipython",
    "version": 3
   },
   "file_extension": ".py",
   "mimetype": "text/x-python",
   "name": "python",
   "nbconvert_exporter": "python",
   "pygments_lexer": "ipython3",
   "version": "3.9.13"
  }
 },
 "nbformat": 4,
 "nbformat_minor": 5
}
