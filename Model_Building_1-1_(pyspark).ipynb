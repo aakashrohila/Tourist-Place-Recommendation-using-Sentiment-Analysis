{
 "cells": [
  {
   "cell_type": "code",
   "execution_count": 1,
   "metadata": {
    "colab": {
     "base_uri": "https://localhost:8080/"
    },
    "id": "Uigg2sQvmyeB",
    "outputId": "6746468d-f76f-47d7-c971-2015b87ac21a"
   },
   "outputs": [
    {
     "name": "stdout",
     "output_type": "stream",
     "text": [
      "Drive already mounted at /content/drive; to attempt to forcibly remount, call drive.mount(\"/content/drive\", force_remount=True).\n"
     ]
    }
   ],
   "source": [
    "from google.colab import drive\n",
    "drive.mount('/content/drive')"
   ]
  },
  {
   "cell_type": "code",
   "execution_count": 2,
   "metadata": {
    "_cell_guid": "b1076dfc-b9ad-4769-8c92-a6c4dae69d19",
    "_uuid": "8f2839f25d086af736a60e9eeb907d3b93b6e0e5",
    "colab": {
     "base_uri": "https://localhost:8080/"
    },
    "execution": {
     "iopub.execute_input": "2023-03-10T17:30:45.024579Z",
     "iopub.status.busy": "2023-03-10T17:30:45.024159Z",
     "iopub.status.idle": "2023-03-10T17:31:34.208666Z",
     "shell.execute_reply": "2023-03-10T17:31:34.207349Z",
     "shell.execute_reply.started": "2023-03-10T17:30:45.024541Z"
    },
    "id": "UUbjNKdfmeJA",
    "outputId": "54f56775-ec48-4bde-caff-2bbfcb5c7e1b"
   },
   "outputs": [
    {
     "name": "stdout",
     "output_type": "stream",
     "text": [
      "Looking in indexes: https://pypi.org/simple, https://us-python.pkg.dev/colab-wheels/public/simple/\n",
      "Requirement already satisfied: pyspark in /usr/local/lib/python3.9/dist-packages (3.3.2)\n",
      "Requirement already satisfied: py4j==0.10.9.5 in /usr/local/lib/python3.9/dist-packages (from pyspark) (0.10.9.5)\n"
     ]
    }
   ],
   "source": [
    "!pip install pyspark"
   ]
  },
  {
   "cell_type": "code",
   "execution_count": 3,
   "metadata": {
    "id": "CTCvi9RjN-N2"
   },
   "outputs": [],
   "source": [
    "import time\n",
    " \n",
    "# store starting time\n",
    "begin = time.time()\n",
    " "
   ]
  },
  {
   "cell_type": "code",
   "execution_count": 4,
   "metadata": {
    "execution": {
     "iopub.execute_input": "2023-03-10T17:31:34.211282Z",
     "iopub.status.busy": "2023-03-10T17:31:34.210891Z",
     "iopub.status.idle": "2023-03-10T17:31:40.152418Z",
     "shell.execute_reply": "2023-03-10T17:31:40.151196Z",
     "shell.execute_reply.started": "2023-03-10T17:31:34.211242Z"
    },
    "id": "QvVws8asmeJG"
   },
   "outputs": [],
   "source": [
    "from pyspark.sql import SparkSession\n",
    "spark = SparkSession.builder\\\n",
    "        .master(\"local\")\\\n",
    "        .appName(\"Kaggle\")\\\n",
    "        .config('spark.ui.port', '4050')\\\n",
    "        .getOrCreate()"
   ]
  },
  {
   "cell_type": "code",
   "execution_count": 5,
   "metadata": {
    "colab": {
     "base_uri": "https://localhost:8080/",
     "height": 219
    },
    "execution": {
     "iopub.execute_input": "2023-03-10T17:31:40.154469Z",
     "iopub.status.busy": "2023-03-10T17:31:40.154034Z",
     "iopub.status.idle": "2023-03-10T17:31:41.355572Z",
     "shell.execute_reply": "2023-03-10T17:31:41.354281Z",
     "shell.execute_reply.started": "2023-03-10T17:31:40.154422Z"
    },
    "id": "Cg7jpjHKmeJI",
    "outputId": "9611df2c-8f43-4fb7-d836-116731d2b95b"
   },
   "outputs": [
    {
     "data": {
      "text/html": [
       "\n",
       "            <div>\n",
       "                <p><b>SparkSession - in-memory</b></p>\n",
       "                \n",
       "        <div>\n",
       "            <p><b>SparkContext</b></p>\n",
       "\n",
       "            <p><a href=\"http://5218e5e149ab:4050\">Spark UI</a></p>\n",
       "\n",
       "            <dl>\n",
       "              <dt>Version</dt>\n",
       "                <dd><code>v3.3.2</code></dd>\n",
       "              <dt>Master</dt>\n",
       "                <dd><code>local</code></dd>\n",
       "              <dt>AppName</dt>\n",
       "                <dd><code>Kaggle</code></dd>\n",
       "            </dl>\n",
       "        </div>\n",
       "        \n",
       "            </div>\n",
       "        "
      ],
      "text/plain": [
       "<pyspark.sql.session.SparkSession at 0x7f9e648c05b0>"
      ]
     },
     "execution_count": 5,
     "metadata": {},
     "output_type": "execute_result"
    }
   ],
   "source": [
    "spark"
   ]
  },
  {
   "cell_type": "code",
   "execution_count": 6,
   "metadata": {
    "execution": {
     "iopub.execute_input": "2023-03-10T17:31:41.358798Z",
     "iopub.status.busy": "2023-03-10T17:31:41.358431Z",
     "iopub.status.idle": "2023-03-10T17:31:41.364808Z",
     "shell.execute_reply": "2023-03-10T17:31:41.363282Z",
     "shell.execute_reply.started": "2023-03-10T17:31:41.358760Z"
    },
    "id": "rPKPj22emeJJ"
   },
   "outputs": [],
   "source": [
    "import pandas as pd"
   ]
  },
  {
   "cell_type": "code",
   "execution_count": 7,
   "metadata": {
    "execution": {
     "iopub.execute_input": "2023-03-10T17:31:41.369512Z",
     "iopub.status.busy": "2023-03-10T17:31:41.367849Z",
     "iopub.status.idle": "2023-03-10T17:31:42.504542Z",
     "shell.execute_reply": "2023-03-10T17:31:42.503084Z",
     "shell.execute_reply.started": "2023-03-10T17:31:41.369287Z"
    },
    "id": "KKMDAwtomeJJ"
   },
   "outputs": [],
   "source": [
    "data = pd.read_csv('/content/drive/MyDrive/Team13_Project/Fake_DataSet/reviews.csv')"
   ]
  },
  {
   "cell_type": "code",
   "execution_count": 8,
   "metadata": {
    "colab": {
     "base_uri": "https://localhost:8080/",
     "height": 206
    },
    "execution": {
     "iopub.execute_input": "2023-03-10T17:31:42.506612Z",
     "iopub.status.busy": "2023-03-10T17:31:42.506256Z",
     "iopub.status.idle": "2023-03-10T17:31:42.539231Z",
     "shell.execute_reply": "2023-03-10T17:31:42.537929Z",
     "shell.execute_reply.started": "2023-03-10T17:31:42.506579Z"
    },
    "id": "6EqFS6aMmeJL",
    "outputId": "9072c87c-1702-4a06-ba33-f5beb0cb5ab7"
   },
   "outputs": [
    {
     "data": {
      "text/html": [
       "\n",
       "  <div id=\"df-580ba99a-2935-453c-834c-076c477a617b\">\n",
       "    <div class=\"colab-df-container\">\n",
       "      <div>\n",
       "<style scoped>\n",
       "    .dataframe tbody tr th:only-of-type {\n",
       "        vertical-align: middle;\n",
       "    }\n",
       "\n",
       "    .dataframe tbody tr th {\n",
       "        vertical-align: top;\n",
       "    }\n",
       "\n",
       "    .dataframe thead th {\n",
       "        text-align: right;\n",
       "    }\n",
       "</style>\n",
       "<table border=\"1\" class=\"dataframe\">\n",
       "  <thead>\n",
       "    <tr style=\"text-align: right;\">\n",
       "      <th></th>\n",
       "      <th>Unnamed: 0</th>\n",
       "      <th>city_name</th>\n",
       "      <th>place_to_visit</th>\n",
       "      <th>place_name</th>\n",
       "      <th>reviews</th>\n",
       "    </tr>\n",
       "  </thead>\n",
       "  <tbody>\n",
       "    <tr>\n",
       "      <th>0</th>\n",
       "      <td>0</td>\n",
       "      <td>Kolkata</td>\n",
       "      <td>Restaurants</td>\n",
       "      <td>Ottimo Cucina Italiana</td>\n",
       "      <td>Mr.Prakash Kumar and Mr.Sourav both are one on...</td>\n",
       "    </tr>\n",
       "    <tr>\n",
       "      <th>1</th>\n",
       "      <td>1</td>\n",
       "      <td>Kolkata</td>\n",
       "      <td>Restaurants</td>\n",
       "      <td>Ottimo Cucina Italiana</td>\n",
       "      <td>Absolutely great place for gathering and indee...</td>\n",
       "    </tr>\n",
       "    <tr>\n",
       "      <th>2</th>\n",
       "      <td>2</td>\n",
       "      <td>Kolkata</td>\n",
       "      <td>Restaurants</td>\n",
       "      <td>Ottimo Cucina Italiana</td>\n",
       "      <td>Pizza was good.Chefs antipasti antipasti selec...</td>\n",
       "    </tr>\n",
       "    <tr>\n",
       "      <th>3</th>\n",
       "      <td>3</td>\n",
       "      <td>Kolkata</td>\n",
       "      <td>Restaurants</td>\n",
       "      <td>Ottimo Cucina Italiana</td>\n",
       "      <td>It was a wonderful dinning experience in the r...</td>\n",
       "    </tr>\n",
       "    <tr>\n",
       "      <th>4</th>\n",
       "      <td>4</td>\n",
       "      <td>Kolkata</td>\n",
       "      <td>Restaurants</td>\n",
       "      <td>Ottimo Cucina Italiana</td>\n",
       "      <td>Had a really great time with family.\\nFood was...</td>\n",
       "    </tr>\n",
       "  </tbody>\n",
       "</table>\n",
       "</div>\n",
       "      <button class=\"colab-df-convert\" onclick=\"convertToInteractive('df-580ba99a-2935-453c-834c-076c477a617b')\"\n",
       "              title=\"Convert this dataframe to an interactive table.\"\n",
       "              style=\"display:none;\">\n",
       "        \n",
       "  <svg xmlns=\"http://www.w3.org/2000/svg\" height=\"24px\"viewBox=\"0 0 24 24\"\n",
       "       width=\"24px\">\n",
       "    <path d=\"M0 0h24v24H0V0z\" fill=\"none\"/>\n",
       "    <path d=\"M18.56 5.44l.94 2.06.94-2.06 2.06-.94-2.06-.94-.94-2.06-.94 2.06-2.06.94zm-11 1L8.5 8.5l.94-2.06 2.06-.94-2.06-.94L8.5 2.5l-.94 2.06-2.06.94zm10 10l.94 2.06.94-2.06 2.06-.94-2.06-.94-.94-2.06-.94 2.06-2.06.94z\"/><path d=\"M17.41 7.96l-1.37-1.37c-.4-.4-.92-.59-1.43-.59-.52 0-1.04.2-1.43.59L10.3 9.45l-7.72 7.72c-.78.78-.78 2.05 0 2.83L4 21.41c.39.39.9.59 1.41.59.51 0 1.02-.2 1.41-.59l7.78-7.78 2.81-2.81c.8-.78.8-2.07 0-2.86zM5.41 20L4 18.59l7.72-7.72 1.47 1.35L5.41 20z\"/>\n",
       "  </svg>\n",
       "      </button>\n",
       "      \n",
       "  <style>\n",
       "    .colab-df-container {\n",
       "      display:flex;\n",
       "      flex-wrap:wrap;\n",
       "      gap: 12px;\n",
       "    }\n",
       "\n",
       "    .colab-df-convert {\n",
       "      background-color: #E8F0FE;\n",
       "      border: none;\n",
       "      border-radius: 50%;\n",
       "      cursor: pointer;\n",
       "      display: none;\n",
       "      fill: #1967D2;\n",
       "      height: 32px;\n",
       "      padding: 0 0 0 0;\n",
       "      width: 32px;\n",
       "    }\n",
       "\n",
       "    .colab-df-convert:hover {\n",
       "      background-color: #E2EBFA;\n",
       "      box-shadow: 0px 1px 2px rgba(60, 64, 67, 0.3), 0px 1px 3px 1px rgba(60, 64, 67, 0.15);\n",
       "      fill: #174EA6;\n",
       "    }\n",
       "\n",
       "    [theme=dark] .colab-df-convert {\n",
       "      background-color: #3B4455;\n",
       "      fill: #D2E3FC;\n",
       "    }\n",
       "\n",
       "    [theme=dark] .colab-df-convert:hover {\n",
       "      background-color: #434B5C;\n",
       "      box-shadow: 0px 1px 3px 1px rgba(0, 0, 0, 0.15);\n",
       "      filter: drop-shadow(0px 1px 2px rgba(0, 0, 0, 0.3));\n",
       "      fill: #FFFFFF;\n",
       "    }\n",
       "  </style>\n",
       "\n",
       "      <script>\n",
       "        const buttonEl =\n",
       "          document.querySelector('#df-580ba99a-2935-453c-834c-076c477a617b button.colab-df-convert');\n",
       "        buttonEl.style.display =\n",
       "          google.colab.kernel.accessAllowed ? 'block' : 'none';\n",
       "\n",
       "        async function convertToInteractive(key) {\n",
       "          const element = document.querySelector('#df-580ba99a-2935-453c-834c-076c477a617b');\n",
       "          const dataTable =\n",
       "            await google.colab.kernel.invokeFunction('convertToInteractive',\n",
       "                                                     [key], {});\n",
       "          if (!dataTable) return;\n",
       "\n",
       "          const docLinkHtml = 'Like what you see? Visit the ' +\n",
       "            '<a target=\"_blank\" href=https://colab.research.google.com/notebooks/data_table.ipynb>data table notebook</a>'\n",
       "            + ' to learn more about interactive tables.';\n",
       "          element.innerHTML = '';\n",
       "          dataTable['output_type'] = 'display_data';\n",
       "          await google.colab.output.renderOutput(dataTable, element);\n",
       "          const docLink = document.createElement('div');\n",
       "          docLink.innerHTML = docLinkHtml;\n",
       "          element.appendChild(docLink);\n",
       "        }\n",
       "      </script>\n",
       "    </div>\n",
       "  </div>\n",
       "  "
      ],
      "text/plain": [
       "   Unnamed: 0 city_name place_to_visit              place_name  \\\n",
       "0           0   Kolkata    Restaurants  Ottimo Cucina Italiana   \n",
       "1           1   Kolkata    Restaurants  Ottimo Cucina Italiana   \n",
       "2           2   Kolkata    Restaurants  Ottimo Cucina Italiana   \n",
       "3           3   Kolkata    Restaurants  Ottimo Cucina Italiana   \n",
       "4           4   Kolkata    Restaurants  Ottimo Cucina Italiana   \n",
       "\n",
       "                                             reviews  \n",
       "0  Mr.Prakash Kumar and Mr.Sourav both are one on...  \n",
       "1  Absolutely great place for gathering and indee...  \n",
       "2  Pizza was good.Chefs antipasti antipasti selec...  \n",
       "3  It was a wonderful dinning experience in the r...  \n",
       "4  Had a really great time with family.\\nFood was...  "
      ]
     },
     "execution_count": 8,
     "metadata": {},
     "output_type": "execute_result"
    }
   ],
   "source": [
    "data.head()"
   ]
  },
  {
   "cell_type": "code",
   "execution_count": 9,
   "metadata": {
    "execution": {
     "iopub.execute_input": "2023-03-10T17:31:42.542014Z",
     "iopub.status.busy": "2023-03-10T17:31:42.541536Z",
     "iopub.status.idle": "2023-03-10T17:31:50.666731Z",
     "shell.execute_reply": "2023-03-10T17:31:50.665240Z",
     "shell.execute_reply.started": "2023-03-10T17:31:42.541962Z"
    },
    "id": "YR824s-SmeJN"
   },
   "outputs": [],
   "source": [
    "df = spark.createDataFrame(data)"
   ]
  },
  {
   "cell_type": "code",
   "execution_count": 10,
   "metadata": {
    "colab": {
     "base_uri": "https://localhost:8080/"
    },
    "execution": {
     "iopub.execute_input": "2023-03-10T17:31:50.669594Z",
     "iopub.status.busy": "2023-03-10T17:31:50.669071Z",
     "iopub.status.idle": "2023-03-10T17:32:03.189564Z",
     "shell.execute_reply": "2023-03-10T17:32:03.188277Z",
     "shell.execute_reply.started": "2023-03-10T17:31:50.669538Z"
    },
    "id": "zA3N3SnHmeJO",
    "outputId": "bf92a35e-5950-456f-a3d0-a9ec36e5a5a1"
   },
   "outputs": [
    {
     "data": {
      "text/plain": [
       "DataFrame[summary: string, Unnamed: 0: string, city_name: string, place_to_visit: string, place_name: string, reviews: string]"
      ]
     },
     "execution_count": 10,
     "metadata": {},
     "output_type": "execute_result"
    }
   ],
   "source": [
    "df.describe()"
   ]
  },
  {
   "cell_type": "code",
   "execution_count": 11,
   "metadata": {
    "colab": {
     "base_uri": "https://localhost:8080/"
    },
    "execution": {
     "iopub.execute_input": "2023-03-10T17:32:03.192665Z",
     "iopub.status.busy": "2023-03-10T17:32:03.192234Z",
     "iopub.status.idle": "2023-03-10T17:32:03.907425Z",
     "shell.execute_reply": "2023-03-10T17:32:03.906043Z",
     "shell.execute_reply.started": "2023-03-10T17:32:03.192617Z"
    },
    "id": "fxZSVyrDmeJQ",
    "outputId": "36d3be5c-3258-4dcc-98eb-dc04aa77714a"
   },
   "outputs": [
    {
     "data": {
      "text/plain": [
       "98623"
      ]
     },
     "execution_count": 11,
     "metadata": {},
     "output_type": "execute_result"
    }
   ],
   "source": [
    "df.count()"
   ]
  },
  {
   "cell_type": "code",
   "execution_count": 12,
   "metadata": {
    "colab": {
     "base_uri": "https://localhost:8080/"
    },
    "execution": {
     "iopub.execute_input": "2023-03-10T17:32:03.918241Z",
     "iopub.status.busy": "2023-03-10T17:32:03.916074Z",
     "iopub.status.idle": "2023-03-10T17:32:08.690670Z",
     "shell.execute_reply": "2023-03-10T17:32:08.689220Z",
     "shell.execute_reply.started": "2023-03-10T17:32:03.918145Z"
    },
    "id": "WsqAXbJQmeJR",
    "outputId": "a7230d17-8e15-4104-b8ac-eeda8e7cafb3"
   },
   "outputs": [
    {
     "name": "stdout",
     "output_type": "stream",
     "text": [
      "+----------+---------+--------------+--------------------+--------------------+\n",
      "|Unnamed: 0|city_name|place_to_visit|          place_name|             reviews|\n",
      "+----------+---------+--------------+--------------------+--------------------+\n",
      "|         0|  Kolkata|   Restaurants|Ottimo Cucina Ita...|Mr.Prakash Kumar ...|\n",
      "|         1|  Kolkata|   Restaurants|Ottimo Cucina Ita...|Absolutely great ...|\n",
      "|         2|  Kolkata|   Restaurants|Ottimo Cucina Ita...|Pizza was good.Ch...|\n",
      "|         3|  Kolkata|   Restaurants|Ottimo Cucina Ita...|It was a wonderfu...|\n",
      "|         4|  Kolkata|   Restaurants|Ottimo Cucina Ita...|Had a really grea...|\n",
      "|         5|  Kolkata|   Restaurants|Ottimo Cucina Ita...|Excellent food an...|\n",
      "|         6|  Kolkata|   Restaurants|Ottimo Cucina Ita...|Very nice place m...|\n",
      "|         7|  Kolkata|   Restaurants|Ottimo Cucina Ita...|Great to be annou...|\n",
      "|         8|  Kolkata|   Restaurants|Ottimo Cucina Ita...|The food was grea...|\n",
      "|         9|  Kolkata|   Restaurants|Ottimo Cucina Ita...|The food was amaz...|\n",
      "|        10|  Kolkata|   Restaurants|Ottimo Cucina Ita...|The best Italian ...|\n",
      "|        11|  Kolkata|   Restaurants|Ottimo Cucina Ita...|Visited this plac...|\n",
      "|        12|  Kolkata|   Restaurants|Ottimo Cucina Ita...|Nice Food.. Appre...|\n",
      "|        13|  Kolkata|   Restaurants|Ottimo Cucina Ita...|The service was i...|\n",
      "|        14|  Kolkata|   Restaurants|Ottimo Cucina Ita...|Food was great. O...|\n",
      "|        15|  Kolkata|   Restaurants|Ottimo Cucina Ita...|Excellent food an...|\n",
      "|        16|  Kolkata|   Restaurants|Ottimo Cucina Ita...|Without doubt thi...|\n",
      "|        17|  Kolkata|   Restaurants|Ottimo Cucina Ita...|It was a good exp...|\n",
      "|        18|  Kolkata|   Restaurants|Ottimo Cucina Ita...|Had a lovely time...|\n",
      "|        19|  Kolkata|   Restaurants|Ottimo Cucina Ita...|Had a fabulous ev...|\n",
      "+----------+---------+--------------+--------------------+--------------------+\n",
      "only showing top 20 rows\n",
      "\n"
     ]
    }
   ],
   "source": [
    "df.show()"
   ]
  },
  {
   "cell_type": "code",
   "execution_count": 13,
   "metadata": {
    "execution": {
     "iopub.execute_input": "2023-03-10T17:32:08.692093Z",
     "iopub.status.busy": "2023-03-10T17:32:08.691762Z",
     "iopub.status.idle": "2023-03-10T17:32:08.708174Z",
     "shell.execute_reply": "2023-03-10T17:32:08.706976Z",
     "shell.execute_reply.started": "2023-03-10T17:32:08.692060Z"
    },
    "id": "lLQeBRIImeJS"
   },
   "outputs": [],
   "source": [
    "df = df.drop('Unnamed: 0')"
   ]
  },
  {
   "cell_type": "code",
   "execution_count": 14,
   "metadata": {
    "colab": {
     "base_uri": "https://localhost:8080/"
    },
    "execution": {
     "iopub.execute_input": "2023-03-10T17:32:08.710081Z",
     "iopub.status.busy": "2023-03-10T17:32:08.709730Z",
     "iopub.status.idle": "2023-03-10T17:32:12.914461Z",
     "shell.execute_reply": "2023-03-10T17:32:12.913455Z",
     "shell.execute_reply.started": "2023-03-10T17:32:08.710045Z"
    },
    "id": "I6GmqaxjmeJS",
    "outputId": "fc7cfb3c-2095-4d21-80bf-ea6f5171d177"
   },
   "outputs": [
    {
     "name": "stdout",
     "output_type": "stream",
     "text": [
      "+---------+--------------+--------------------+--------------------+\n",
      "|city_name|place_to_visit|          place_name|             reviews|\n",
      "+---------+--------------+--------------------+--------------------+\n",
      "|  Kolkata|   Restaurants|Ottimo Cucina Ita...|Mr.Prakash Kumar ...|\n",
      "|  Kolkata|   Restaurants|Ottimo Cucina Ita...|Absolutely great ...|\n",
      "|  Kolkata|   Restaurants|Ottimo Cucina Ita...|Pizza was good.Ch...|\n",
      "|  Kolkata|   Restaurants|Ottimo Cucina Ita...|It was a wonderfu...|\n",
      "|  Kolkata|   Restaurants|Ottimo Cucina Ita...|Had a really grea...|\n",
      "+---------+--------------+--------------------+--------------------+\n",
      "only showing top 5 rows\n",
      "\n"
     ]
    }
   ],
   "source": [
    "df.show(5)"
   ]
  },
  {
   "cell_type": "code",
   "execution_count": 15,
   "metadata": {
    "colab": {
     "base_uri": "https://localhost:8080/"
    },
    "execution": {
     "iopub.execute_input": "2023-03-10T17:36:05.770801Z",
     "iopub.status.busy": "2023-03-10T17:36:05.770355Z",
     "iopub.status.idle": "2023-03-10T17:36:07.535566Z",
     "shell.execute_reply": "2023-03-10T17:36:07.534114Z",
     "shell.execute_reply.started": "2023-03-10T17:36:05.770764Z"
    },
    "id": "Bsha4pSYmeJT",
    "outputId": "423ebd4a-aad4-433b-c432-5004123bb0fd"
   },
   "outputs": [
    {
     "name": "stderr",
     "output_type": "stream",
     "text": [
      "[nltk_data] Downloading package wordnet to /root/nltk_data...\n",
      "[nltk_data]   Package wordnet is already up-to-date!\n",
      "[nltk_data] Downloading package omw-1.4 to /root/nltk_data...\n",
      "[nltk_data]   Package omw-1.4 is already up-to-date!\n"
     ]
    }
   ],
   "source": [
    "from pyspark.ml.feature import IDF, Tokenizer , StopWordsRemover\n",
    "import nltk\n",
    "nltk.download('wordnet')\n",
    "nltk.download('omw-1.4')\n",
    "from nltk.stem import WordNetLemmatizer\n",
    "from pyspark.sql.functions import udf\n",
    "from pyspark.sql.functions import lower\n",
    "from pyspark.sql.types import ArrayType, StringType\n",
    "from pyspark.sql.functions import regexp_replace\n",
    "from pyspark.sql.functions import concat_ws\n",
    "\n",
    "\n",
    "df = df.withColumn(\"reviews\", regexp_replace(\"reviews\", \"[^a-zA-Z]\", \" \"))\n",
    "\n",
    "df = df.withColumn(\"lower_reviews\", lower(df[\"reviews\"]))\n",
    "\n",
    "tokenizer = Tokenizer(inputCol=\"lower_reviews\", outputCol=\"tokenize_reviews\")\n",
    "\n",
    "df = tokenizer.transform(df)\n",
    "\n",
    "stopwords_remover = StopWordsRemover(inputCol=\"tokenize_reviews\", outputCol=\"filtered_words\")\n",
    "\n",
    "df = stopwords_remover.transform(df)  \n",
    "\n",
    "wordnet = WordNetLemmatizer()\n",
    "\n",
    "lemmatize_udf = udf(lambda tokens: [wordnet.lemmatize(token) for token in tokens], ArrayType(StringType()))\n",
    "\n",
    "df = df.withColumn(\"lemmatize_reviews\", lemmatize_udf(df[\"filtered_words\"]))\n",
    "\n",
    "df = df.withColumn(\"reviews_cleaned\", concat_ws(\" \", \"lemmatize_reviews\"))"
   ]
  },
  {
   "cell_type": "code",
   "execution_count": 16,
   "metadata": {
    "colab": {
     "base_uri": "https://localhost:8080/"
    },
    "execution": {
     "iopub.execute_input": "2023-03-10T17:36:12.920845Z",
     "iopub.status.busy": "2023-03-10T17:36:12.920418Z",
     "iopub.status.idle": "2023-03-10T17:36:17.513513Z",
     "shell.execute_reply": "2023-03-10T17:36:17.511870Z",
     "shell.execute_reply.started": "2023-03-10T17:36:12.920809Z"
    },
    "id": "AiDkH3DNmeJU",
    "outputId": "a982cf7b-3117-409b-c385-df751f3f5b8b"
   },
   "outputs": [
    {
     "name": "stdout",
     "output_type": "stream",
     "text": [
      "+---------+--------------+--------------------+--------------------+--------------------+--------------------+--------------------+--------------------+--------------------+\n",
      "|city_name|place_to_visit|          place_name|             reviews|       lower_reviews|    tokenize_reviews|      filtered_words|   lemmatize_reviews|     reviews_cleaned|\n",
      "+---------+--------------+--------------------+--------------------+--------------------+--------------------+--------------------+--------------------+--------------------+\n",
      "|  Kolkata|   Restaurants|Ottimo Cucina Ita...|Mr Prakash Kumar ...|mr prakash kumar ...|[mr, prakash, kum...|[mr, prakash, kum...|[mr, prakash, kum...|mr prakash kumar ...|\n",
      "|  Kolkata|   Restaurants|Ottimo Cucina Ita...|Absolutely great ...|absolutely great ...|[absolutely, grea...|[absolutely, grea...|[absolutely, grea...|absolutely great ...|\n",
      "|  Kolkata|   Restaurants|Ottimo Cucina Ita...|Pizza was good Ch...|pizza was good ch...|[pizza, was, good...|[pizza, good, che...|[pizza, good, che...|pizza good chef a...|\n",
      "|  Kolkata|   Restaurants|Ottimo Cucina Ita...|It was a wonderfu...|it was a wonderfu...|[it, was, a, wond...|[wonderful, dinni...|[wonderful, dinni...|wonderful dinning...|\n",
      "|  Kolkata|   Restaurants|Ottimo Cucina Ita...|Had a really grea...|had a really grea...|[had, a, really, ...|[really, great, t...|[really, great, t...|really great time...|\n",
      "|  Kolkata|   Restaurants|Ottimo Cucina Ita...|Excellent food an...|excellent food an...|[excellent, food,...|[excellent, food,...|[excellent, food,...|excellent food se...|\n",
      "|  Kolkata|   Restaurants|Ottimo Cucina Ita...|Very nice place m...|very nice place m...|[very, nice, plac...|[nice, place, mus...|[nice, place, mus...|nice place must v...|\n",
      "|  Kolkata|   Restaurants|Ottimo Cucina Ita...|Great to be annou...|great to be annou...|[great, to, be, a...|[great, announced...|[great, announced...|great announced b...|\n",
      "|  Kolkata|   Restaurants|Ottimo Cucina Ita...|The food was grea...|the food was grea...|[the, food, was, ...|[food, great, , a...|[food, great, , a...|food great  aweso...|\n",
      "|  Kolkata|   Restaurants|Ottimo Cucina Ita...|The food was amaz...|the food was amaz...|[the, food, was, ...|[food, amazing, f...|[food, amazing, f...|food amazing fant...|\n",
      "|  Kolkata|   Restaurants|Ottimo Cucina Ita...|The best Italian ...|the best italian ...|[the, best, itali...|[best, italian, f...|[best, italian, f...|best italian food...|\n",
      "|  Kolkata|   Restaurants|Ottimo Cucina Ita...|Visited this plac...|visited this plac...|[visited, this, p...|[visited, place, ...|[visited, place, ...|visited place ann...|\n",
      "|  Kolkata|   Restaurants|Ottimo Cucina Ita...|Nice Food   Appre...|nice food   appre...|[nice, food, , , ...|[nice, food, , , ...|[nice, food, , , ...|nice food   appre...|\n",
      "|  Kolkata|   Restaurants|Ottimo Cucina Ita...|The service was i...|the service was i...|[the, service, wa...|[service, impecca...|[service, impecca...|service impeccabl...|\n",
      "|  Kolkata|   Restaurants|Ottimo Cucina Ita...|Food was great  O...|food was great  o...|[food, was, great...|[food, great, , h...|[food, great, , h...|food great  host ...|\n",
      "|  Kolkata|   Restaurants|Ottimo Cucina Ita...|Excellent food an...|excellent food an...|[excellent, food,...|[excellent, food,...|[excellent, food,...|excellent food se...|\n",
      "|  Kolkata|   Restaurants|Ottimo Cucina Ita...|Without doubt thi...|without doubt thi...|[without, doubt, ...|[without, doubt, ...|[without, doubt, ...|without doubt pal...|\n",
      "|  Kolkata|   Restaurants|Ottimo Cucina Ita...|It was a good exp...|it was a good exp...|[it, was, a, good...|[good, experience...|[good, experience...|good experience o...|\n",
      "|  Kolkata|   Restaurants|Ottimo Cucina Ita...|Had a lovely time...|had a lovely time...|[had, a, lovely, ...|[lovely, time, , ...|[lovely, time, , ...|lovely time  grea...|\n",
      "|  Kolkata|   Restaurants|Ottimo Cucina Ita...|Had a fabulous ev...|had a fabulous ev...|[had, a, fabulous...|[fabulous, evenin...|[fabulous, evenin...|fabulous evening ...|\n",
      "+---------+--------------+--------------------+--------------------+--------------------+--------------------+--------------------+--------------------+--------------------+\n",
      "only showing top 20 rows\n",
      "\n"
     ]
    }
   ],
   "source": [
    "df.show()"
   ]
  },
  {
   "cell_type": "code",
   "execution_count": 17,
   "metadata": {
    "colab": {
     "base_uri": "https://localhost:8080/"
    },
    "execution": {
     "iopub.execute_input": "2023-03-10T15:46:55.217845Z",
     "iopub.status.busy": "2023-03-10T15:46:55.217357Z",
     "iopub.status.idle": "2023-03-10T15:46:55.291483Z",
     "shell.execute_reply": "2023-03-10T15:46:55.290051Z",
     "shell.execute_reply.started": "2023-03-10T15:46:55.217804Z"
    },
    "id": "R1OmJdHJmeJU",
    "outputId": "10e6f793-52f8-422d-ce65-00684a92a7fd"
   },
   "outputs": [
    {
     "data": {
      "text/plain": [
       "Row(lemmatize_reviews=['mr', 'prakash', 'kumar', 'mr', 'sourav', 'one', 'best', 'staff', 'restaurant', 'ottimo', '', 'proper', 'knowledge', 'field', 'work', 'professionally', '', 'passionately', 'also', 'make', 'special', 'field', '', 'keep', 'keep', 'rising'])"
      ]
     },
     "execution_count": 17,
     "metadata": {},
     "output_type": "execute_result"
    }
   ],
   "source": [
    "df.select('lemmatize_reviews').first()"
   ]
  },
  {
   "cell_type": "code",
   "execution_count": 18,
   "metadata": {
    "colab": {
     "base_uri": "https://localhost:8080/"
    },
    "execution": {
     "iopub.execute_input": "2023-03-10T15:48:06.263815Z",
     "iopub.status.busy": "2023-03-10T15:48:06.263390Z",
     "iopub.status.idle": "2023-03-10T15:48:06.340407Z",
     "shell.execute_reply": "2023-03-10T15:48:06.338634Z",
     "shell.execute_reply.started": "2023-03-10T15:48:06.263778Z"
    },
    "id": "Q89laShHmeJV",
    "outputId": "e45e7155-7ccf-479b-85be-c73b4735694c"
   },
   "outputs": [
    {
     "data": {
      "text/plain": [
       "['city_name',\n",
       " 'place_to_visit',\n",
       " 'place_name',\n",
       " 'reviews',\n",
       " 'lower_reviews',\n",
       " 'tokenize_reviews',\n",
       " 'filtered_words',\n",
       " 'lemmatize_reviews',\n",
       " 'reviews_cleaned']"
      ]
     },
     "execution_count": 18,
     "metadata": {},
     "output_type": "execute_result"
    }
   ],
   "source": [
    "df.columns"
   ]
  },
  {
   "cell_type": "code",
   "execution_count": 19,
   "metadata": {
    "id": "kjOmzzK5meJV"
   },
   "outputs": [],
   "source": [
    "df = df.drop('city_name',\\\n",
    " 'place_to_visit',\\\n",
    " 'place_name',\\\n",
    " 'reviews',\\\n",
    " 'lower_reviews',\\\n",
    " 'tokenize_reviews',\\\n",
    " 'filtered_words',\\\n",
    " 'lemmatize_reviews')"
   ]
  },
  {
   "cell_type": "code",
   "execution_count": 20,
   "metadata": {
    "colab": {
     "base_uri": "https://localhost:8080/"
    },
    "id": "yy2snLSArEjh",
    "outputId": "a855a278-4be8-4c67-a2a2-0e359451c19d"
   },
   "outputs": [
    {
     "name": "stdout",
     "output_type": "stream",
     "text": [
      "+--------------------+\n",
      "|     reviews_cleaned|\n",
      "+--------------------+\n",
      "|mr prakash kumar ...|\n",
      "|absolutely great ...|\n",
      "|pizza good chef a...|\n",
      "|wonderful dinning...|\n",
      "|really great time...|\n",
      "|excellent food se...|\n",
      "|nice place must v...|\n",
      "|great announced b...|\n",
      "|food great  aweso...|\n",
      "|food amazing fant...|\n",
      "|best italian food...|\n",
      "|visited place ann...|\n",
      "|nice food   appre...|\n",
      "|service impeccabl...|\n",
      "|food great  host ...|\n",
      "|excellent food se...|\n",
      "|without doubt pal...|\n",
      "|good experience o...|\n",
      "|lovely time  grea...|\n",
      "|fabulous evening ...|\n",
      "+--------------------+\n",
      "only showing top 20 rows\n",
      "\n"
     ]
    }
   ],
   "source": [
    "df.show()"
   ]
  },
  {
   "cell_type": "code",
   "execution_count": 21,
   "metadata": {
    "colab": {
     "base_uri": "https://localhost:8080/"
    },
    "id": "6VNi-IFFrNN1",
    "outputId": "a8852c9e-4563-458f-8b30-294b03b954c4"
   },
   "outputs": [
    {
     "name": "stdout",
     "output_type": "stream",
     "text": [
      "+--------------------+-----+\n",
      "|     reviews_cleaned|label|\n",
      "+--------------------+-----+\n",
      "|mr prakash kumar ...|    0|\n",
      "|absolutely great ...|    0|\n",
      "|pizza good chef a...|    0|\n",
      "|wonderful dinning...|    0|\n",
      "|really great time...|    0|\n",
      "|excellent food se...|    0|\n",
      "|nice place must v...|    0|\n",
      "|great announced b...|    0|\n",
      "|food great  aweso...|    0|\n",
      "|food amazing fant...|    0|\n",
      "|best italian food...|    0|\n",
      "|visited place ann...|    0|\n",
      "|nice food   appre...|    0|\n",
      "|service impeccabl...|    0|\n",
      "|food great  host ...|    0|\n",
      "|excellent food se...|    0|\n",
      "|without doubt pal...|    0|\n",
      "|good experience o...|    0|\n",
      "|lovely time  grea...|    0|\n",
      "|fabulous evening ...|    0|\n",
      "+--------------------+-----+\n",
      "only showing top 20 rows\n",
      "\n"
     ]
    }
   ],
   "source": [
    "from pyspark.sql.functions import lit\n",
    "\n",
    "df = df.withColumn(\"label\", lit(0))\n",
    "df.show()"
   ]
  },
  {
   "cell_type": "code",
   "execution_count": 22,
   "metadata": {
    "id": "8vkLiLnVsBVq"
   },
   "outputs": [],
   "source": [
    "df = df.withColumnRenamed(\"reviews_cleaned\", \"reviews\")"
   ]
  },
  {
   "cell_type": "code",
   "execution_count": 23,
   "metadata": {
    "id": "0PuCfQfSsejh"
   },
   "outputs": [],
   "source": [
    "df = df.select('label','reviews')"
   ]
  },
  {
   "cell_type": "code",
   "execution_count": 24,
   "metadata": {
    "colab": {
     "base_uri": "https://localhost:8080/"
    },
    "id": "TGT-Wr31shBk",
    "outputId": "08389711-ec75-4f90-d32c-b42bdb25f289"
   },
   "outputs": [
    {
     "name": "stdout",
     "output_type": "stream",
     "text": [
      "+-----+--------------------+\n",
      "|label|             reviews|\n",
      "+-----+--------------------+\n",
      "|    0|mr prakash kumar ...|\n",
      "|    0|absolutely great ...|\n",
      "|    0|pizza good chef a...|\n",
      "|    0|wonderful dinning...|\n",
      "|    0|really great time...|\n",
      "|    0|excellent food se...|\n",
      "|    0|nice place must v...|\n",
      "|    0|great announced b...|\n",
      "|    0|food great  aweso...|\n",
      "|    0|food amazing fant...|\n",
      "|    0|best italian food...|\n",
      "|    0|visited place ann...|\n",
      "|    0|nice food   appre...|\n",
      "|    0|service impeccabl...|\n",
      "|    0|food great  host ...|\n",
      "|    0|excellent food se...|\n",
      "|    0|without doubt pal...|\n",
      "|    0|good experience o...|\n",
      "|    0|lovely time  grea...|\n",
      "|    0|fabulous evening ...|\n",
      "+-----+--------------------+\n",
      "only showing top 20 rows\n",
      "\n"
     ]
    }
   ],
   "source": [
    "df.show()"
   ]
  },
  {
   "cell_type": "code",
   "execution_count": 25,
   "metadata": {
    "id": "K7diul5kswRy"
   },
   "outputs": [],
   "source": [
    "new_df = df.toPandas()"
   ]
  },
  {
   "cell_type": "code",
   "execution_count": 26,
   "metadata": {
    "id": "7tWMAOA9s7WZ"
   },
   "outputs": [],
   "source": [
    "new_df.to_csv('messages.csv' , index = False)"
   ]
  },
  {
   "cell_type": "code",
   "execution_count": 27,
   "metadata": {
    "colab": {
     "base_uri": "https://localhost:8080/"
    },
    "id": "jkSCYo6gOEXU",
    "outputId": "741eba4d-87b3-4061-e67d-d943a880c012"
   },
   "outputs": [
    {
     "name": "stdout",
     "output_type": "stream",
     "text": [
      "127.73031497001648\n"
     ]
    }
   ],
   "source": [
    "end = time.time()\n",
    "print(end - begin)"
   ]
  },
  {
   "cell_type": "code",
   "execution_count": 27,
   "metadata": {
    "id": "x0ly1V2nOLI9"
   },
   "outputs": [],
   "source": []
  }
 ],
 "metadata": {
  "colab": {
   "provenance": []
  },
  "kernelspec": {
   "display_name": "Python 3 (ipykernel)",
   "language": "python",
   "name": "python3"
  },
  "language_info": {
   "codemirror_mode": {
    "name": "ipython",
    "version": 3
   },
   "file_extension": ".py",
   "mimetype": "text/x-python",
   "name": "python",
   "nbconvert_exporter": "python",
   "pygments_lexer": "ipython3",
   "version": "3.9.13"
  }
 },
 "nbformat": 4,
 "nbformat_minor": 1
}
