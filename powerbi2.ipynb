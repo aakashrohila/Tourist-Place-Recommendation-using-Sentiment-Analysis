{
 "cells": [
  {
   "cell_type": "code",
   "execution_count": 1,
   "metadata": {
    "execution": {
     "iopub.execute_input": "2023-03-08T05:36:41.366029Z",
     "iopub.status.busy": "2023-03-08T05:36:41.364546Z",
     "iopub.status.idle": "2023-03-08T05:36:41.379396Z",
     "shell.execute_reply": "2023-03-08T05:36:41.378037Z",
     "shell.execute_reply.started": "2023-03-08T05:36:41.365968Z"
    },
    "id": "T-Im1yjHbmqV"
   },
   "outputs": [],
   "source": [
    "import pandas as pd\n",
    "import numpy as np\n",
    "\n",
    "# Importing necessary libraries"
   ]
  },
  {
   "cell_type": "code",
   "execution_count": 2,
   "metadata": {
    "execution": {
     "iopub.execute_input": "2023-03-08T05:36:41.385970Z",
     "iopub.status.busy": "2023-03-08T05:36:41.385621Z",
     "iopub.status.idle": "2023-03-08T05:36:42.182435Z",
     "shell.execute_reply": "2023-03-08T05:36:42.180880Z",
     "shell.execute_reply.started": "2023-03-08T05:36:41.385936Z"
    },
    "id": "zkXm8pTYdMmL"
   },
   "outputs": [],
   "source": [
    "# Importing message.csv from review.csv\n",
    "messages = pd.read_csv('messages.csv')"
   ]
  },
  {
   "cell_type": "code",
   "execution_count": 3,
   "metadata": {
    "execution": {
     "iopub.execute_input": "2023-03-08T05:36:54.552154Z",
     "iopub.status.busy": "2023-03-08T05:36:54.550963Z",
     "iopub.status.idle": "2023-03-08T05:36:54.559884Z",
     "shell.execute_reply": "2023-03-08T05:36:54.558459Z",
     "shell.execute_reply.started": "2023-03-08T05:36:54.552105Z"
    }
   },
   "outputs": [
    {
     "data": {
      "text/plain": [
       "(98285, 2)"
      ]
     },
     "execution_count": 3,
     "metadata": {},
     "output_type": "execute_result"
    }
   ],
   "source": [
    "messages.shape"
   ]
  },
  {
   "cell_type": "code",
   "execution_count": 5,
   "metadata": {
    "execution": {
     "iopub.execute_input": "2023-03-08T05:37:02.322947Z",
     "iopub.status.busy": "2023-03-08T05:37:02.322559Z",
     "iopub.status.idle": "2023-03-08T05:37:02.436401Z",
     "shell.execute_reply": "2023-03-08T05:37:02.435095Z",
     "shell.execute_reply.started": "2023-03-08T05:37:02.322913Z"
    },
    "id": "w440dWMpf-uF"
   },
   "outputs": [],
   "source": [
    "# importing cleaned data\n",
    "df1 = pd.read_csv('fake_data_cleaned.csv')"
   ]
  },
  {
   "cell_type": "code",
   "execution_count": 6,
   "metadata": {
    "colab": {
     "base_uri": "https://localhost:8080/",
     "height": 206
    },
    "execution": {
     "iopub.execute_input": "2023-03-08T05:37:03.251632Z",
     "iopub.status.busy": "2023-03-08T05:37:03.251184Z",
     "iopub.status.idle": "2023-03-08T05:37:03.262216Z",
     "shell.execute_reply": "2023-03-08T05:37:03.261034Z",
     "shell.execute_reply.started": "2023-03-08T05:37:03.251591Z"
    },
    "id": "9dVyawXWgQEG",
    "outputId": "3a1bc41a-2fe4-4068-e440-c2299c05efc4"
   },
   "outputs": [
    {
     "data": {
      "text/html": [
       "<div>\n",
       "<style scoped>\n",
       "    .dataframe tbody tr th:only-of-type {\n",
       "        vertical-align: middle;\n",
       "    }\n",
       "\n",
       "    .dataframe tbody tr th {\n",
       "        vertical-align: top;\n",
       "    }\n",
       "\n",
       "    .dataframe thead th {\n",
       "        text-align: right;\n",
       "    }\n",
       "</style>\n",
       "<table border=\"1\" class=\"dataframe\">\n",
       "  <thead>\n",
       "    <tr style=\"text-align: right;\">\n",
       "      <th></th>\n",
       "      <th>label</th>\n",
       "      <th>text_</th>\n",
       "    </tr>\n",
       "  </thead>\n",
       "  <tbody>\n",
       "    <tr>\n",
       "      <th>0</th>\n",
       "      <td>1</td>\n",
       "      <td>love well made sturdy comfortable love pretty</td>\n",
       "    </tr>\n",
       "    <tr>\n",
       "      <th>1</th>\n",
       "      <td>1</td>\n",
       "      <td>love great upgrade original mine couple year</td>\n",
       "    </tr>\n",
       "    <tr>\n",
       "      <th>2</th>\n",
       "      <td>1</td>\n",
       "      <td>pillow saved back love look feel pillow</td>\n",
       "    </tr>\n",
       "    <tr>\n",
       "      <th>3</th>\n",
       "      <td>1</td>\n",
       "      <td>missing information use great product price</td>\n",
       "    </tr>\n",
       "    <tr>\n",
       "      <th>4</th>\n",
       "      <td>1</td>\n",
       "      <td>nice set good quality set two month</td>\n",
       "    </tr>\n",
       "  </tbody>\n",
       "</table>\n",
       "</div>"
      ],
      "text/plain": [
       "   label                                          text_\n",
       "0      1  love well made sturdy comfortable love pretty\n",
       "1      1   love great upgrade original mine couple year\n",
       "2      1        pillow saved back love look feel pillow\n",
       "3      1    missing information use great product price\n",
       "4      1            nice set good quality set two month"
      ]
     },
     "execution_count": 6,
     "metadata": {},
     "output_type": "execute_result"
    }
   ],
   "source": [
    "#displaying top 5 records of df1\n",
    "df1.head()"
   ]
  },
  {
   "cell_type": "code",
   "execution_count": 7,
   "metadata": {
    "colab": {
     "base_uri": "https://localhost:8080/"
    },
    "execution": {
     "iopub.execute_input": "2023-03-08T05:37:05.729039Z",
     "iopub.status.busy": "2023-03-08T05:37:05.728604Z",
     "iopub.status.idle": "2023-03-08T05:37:05.737004Z",
     "shell.execute_reply": "2023-03-08T05:37:05.735659Z",
     "shell.execute_reply.started": "2023-03-08T05:37:05.729005Z"
    },
    "id": "rl64g_7mgSdy",
    "outputId": "3efd4937-acb5-4ca3-b285-66d0252f39de"
   },
   "outputs": [
    {
     "data": {
      "text/plain": [
       "(40432, 2)"
      ]
     },
     "execution_count": 7,
     "metadata": {},
     "output_type": "execute_result"
    }
   ],
   "source": [
    "# checking number of rows and columns\n",
    "df1.shape"
   ]
  },
  {
   "cell_type": "code",
   "execution_count": 8,
   "metadata": {
    "execution": {
     "iopub.execute_input": "2023-03-08T05:37:18.966399Z",
     "iopub.status.busy": "2023-03-08T05:37:18.965254Z",
     "iopub.status.idle": "2023-03-08T05:37:18.972265Z",
     "shell.execute_reply": "2023-03-08T05:37:18.971130Z",
     "shell.execute_reply.started": "2023-03-08T05:37:18.966347Z"
    },
    "id": "V011ohNXgWIA"
   },
   "outputs": [],
   "source": [
    "# changing column text_ into text\n",
    "df1.columns = ['label' , 'text']"
   ]
  },
  {
   "cell_type": "code",
   "execution_count": 9,
   "metadata": {
    "colab": {
     "base_uri": "https://localhost:8080/"
    },
    "execution": {
     "iopub.execute_input": "2023-03-08T05:37:19.792826Z",
     "iopub.status.busy": "2023-03-08T05:37:19.792155Z",
     "iopub.status.idle": "2023-03-08T05:37:19.812906Z",
     "shell.execute_reply": "2023-03-08T05:37:19.811785Z",
     "shell.execute_reply.started": "2023-03-08T05:37:19.792780Z"
    },
    "id": "k64S--_wkoub",
    "outputId": "b646f641-a739-4023-82cf-76f8517cebe5"
   },
   "outputs": [
    {
     "name": "stdout",
     "output_type": "stream",
     "text": [
      "<class 'pandas.core.frame.DataFrame'>\n",
      "RangeIndex: 40432 entries, 0 to 40431\n",
      "Data columns (total 2 columns):\n",
      " #   Column  Non-Null Count  Dtype \n",
      "---  ------  --------------  ----- \n",
      " 0   label   40432 non-null  int64 \n",
      " 1   text    40431 non-null  object\n",
      "dtypes: int64(1), object(1)\n",
      "memory usage: 631.9+ KB\n"
     ]
    }
   ],
   "source": [
    "# checking null values and datatype of each column\n",
    "df1.info()"
   ]
  },
  {
   "cell_type": "code",
   "execution_count": 10,
   "metadata": {
    "colab": {
     "base_uri": "https://localhost:8080/"
    },
    "execution": {
     "iopub.execute_input": "2023-03-08T05:37:20.555869Z",
     "iopub.status.busy": "2023-03-08T05:37:20.554803Z",
     "iopub.status.idle": "2023-03-08T05:37:20.568545Z",
     "shell.execute_reply": "2023-03-08T05:37:20.566992Z",
     "shell.execute_reply.started": "2023-03-08T05:37:20.555809Z"
    },
    "id": "YHzF465XjB5H",
    "outputId": "e5e1572c-edc1-44a9-fdc2-2d090641e6a1"
   },
   "outputs": [
    {
     "data": {
      "text/plain": [
       "(array([37914], dtype=int64),)"
      ]
     },
     "execution_count": 10,
     "metadata": {},
     "output_type": "execute_result"
    }
   ],
   "source": [
    "# displaying row number where the null value exist\n",
    "\n",
    "import numpy as np\n",
    "np.where(df1.text.isnull())"
   ]
  },
  {
   "cell_type": "code",
   "execution_count": 11,
   "metadata": {
    "execution": {
     "iopub.execute_input": "2023-03-08T05:37:24.923696Z",
     "iopub.status.busy": "2023-03-08T05:37:24.923235Z",
     "iopub.status.idle": "2023-03-08T05:37:24.934607Z",
     "shell.execute_reply": "2023-03-08T05:37:24.933252Z",
     "shell.execute_reply.started": "2023-03-08T05:37:24.923655Z"
    },
    "id": "p8Bf_Anhj2Rm"
   },
   "outputs": [],
   "source": [
    "# dropping the row having null value\n",
    "df1.drop([37914] , inplace = True)"
   ]
  },
  {
   "cell_type": "code",
   "execution_count": 12,
   "metadata": {
    "colab": {
     "base_uri": "https://localhost:8080/"
    },
    "execution": {
     "iopub.execute_input": "2023-03-08T05:37:25.834050Z",
     "iopub.status.busy": "2023-03-08T05:37:25.833650Z",
     "iopub.status.idle": "2023-03-08T05:37:25.851216Z",
     "shell.execute_reply": "2023-03-08T05:37:25.849798Z",
     "shell.execute_reply.started": "2023-03-08T05:37:25.834008Z"
    },
    "id": "A6SUNAO7kj-L",
    "outputId": "79874d40-a265-4850-a825-7fc08bf8412a"
   },
   "outputs": [
    {
     "name": "stdout",
     "output_type": "stream",
     "text": [
      "<class 'pandas.core.frame.DataFrame'>\n",
      "Int64Index: 40431 entries, 0 to 40431\n",
      "Data columns (total 2 columns):\n",
      " #   Column  Non-Null Count  Dtype \n",
      "---  ------  --------------  ----- \n",
      " 0   label   40431 non-null  int64 \n",
      " 1   text    40431 non-null  object\n",
      "dtypes: int64(1), object(1)\n",
      "memory usage: 947.6+ KB\n"
     ]
    }
   ],
   "source": [
    "# checking null values and datatype of each column\n",
    "df1.info()"
   ]
  },
  {
   "cell_type": "code",
   "execution_count": 13,
   "metadata": {
    "execution": {
     "iopub.execute_input": "2023-03-08T05:37:26.338851Z",
     "iopub.status.busy": "2023-03-08T05:37:26.338182Z",
     "iopub.status.idle": "2023-03-08T05:37:26.351691Z",
     "shell.execute_reply": "2023-03-08T05:37:26.350581Z",
     "shell.execute_reply.started": "2023-03-08T05:37:26.338808Z"
    },
    "id": "37ckMmEFf2Vg"
   },
   "outputs": [],
   "source": [
    "# concating the dataset df1 and messages\n",
    "# df1 --> labeled dataset\n",
    "# messages --> scrapped dataset\n",
    "data = pd.concat([df1 , messages] , axis = 0)"
   ]
  },
  {
   "cell_type": "code",
   "execution_count": 14,
   "metadata": {
    "colab": {
     "base_uri": "https://localhost:8080/",
     "height": 206
    },
    "execution": {
     "iopub.execute_input": "2023-03-08T05:37:27.068017Z",
     "iopub.status.busy": "2023-03-08T05:37:27.066489Z",
     "iopub.status.idle": "2023-03-08T05:37:27.080170Z",
     "shell.execute_reply": "2023-03-08T05:37:27.078792Z",
     "shell.execute_reply.started": "2023-03-08T05:37:27.067950Z"
    },
    "id": "AqXcgnvlhxdY",
    "outputId": "95601dd8-23a5-4e0c-841e-fbd132db97f8"
   },
   "outputs": [
    {
     "data": {
      "text/html": [
       "<div>\n",
       "<style scoped>\n",
       "    .dataframe tbody tr th:only-of-type {\n",
       "        vertical-align: middle;\n",
       "    }\n",
       "\n",
       "    .dataframe tbody tr th {\n",
       "        vertical-align: top;\n",
       "    }\n",
       "\n",
       "    .dataframe thead th {\n",
       "        text-align: right;\n",
       "    }\n",
       "</style>\n",
       "<table border=\"1\" class=\"dataframe\">\n",
       "  <thead>\n",
       "    <tr style=\"text-align: right;\">\n",
       "      <th></th>\n",
       "      <th>label</th>\n",
       "      <th>text</th>\n",
       "    </tr>\n",
       "  </thead>\n",
       "  <tbody>\n",
       "    <tr>\n",
       "      <th>138711</th>\n",
       "      <td>0</td>\n",
       "      <td>Exceptional hospitality in every way at Triden...</td>\n",
       "    </tr>\n",
       "    <tr>\n",
       "      <th>138712</th>\n",
       "      <td>0</td>\n",
       "      <td>I have had the privilege of staying at 5 star ...</td>\n",
       "    </tr>\n",
       "    <tr>\n",
       "      <th>138713</th>\n",
       "      <td>0</td>\n",
       "      <td>A lovely experience at Trident. The atmosphere...</td>\n",
       "    </tr>\n",
       "    <tr>\n",
       "      <th>138714</th>\n",
       "      <td>0</td>\n",
       "      <td>\" thanks to trident .The service of the hotel ...</td>\n",
       "    </tr>\n",
       "    <tr>\n",
       "      <th>138715</th>\n",
       "      <td>0</td>\n",
       "      <td>Thanks to trident agra we loved it here and en...</td>\n",
       "    </tr>\n",
       "  </tbody>\n",
       "</table>\n",
       "</div>"
      ],
      "text/plain": [
       "        label                                               text\n",
       "138711      0  Exceptional hospitality in every way at Triden...\n",
       "138712      0  I have had the privilege of staying at 5 star ...\n",
       "138713      0  A lovely experience at Trident. The atmosphere...\n",
       "138714      0  \" thanks to trident .The service of the hotel ...\n",
       "138715      0  Thanks to trident agra we loved it here and en..."
      ]
     },
     "execution_count": 14,
     "metadata": {},
     "output_type": "execute_result"
    }
   ],
   "source": [
    "# reseting the index\n",
    "data.index = range(len(data))\n",
    "data.tail() # displaying bottom 5 records"
   ]
  },
  {
   "cell_type": "markdown",
   "metadata": {
    "id": "OirPf2dZR4PC"
   },
   "source": [
    "## TFIDF "
   ]
  },
  {
   "cell_type": "code",
   "execution_count": 15,
   "metadata": {
    "colab": {
     "base_uri": "https://localhost:8080/"
    },
    "execution": {
     "iopub.execute_input": "2023-03-08T05:37:29.910584Z",
     "iopub.status.busy": "2023-03-08T05:37:29.909859Z",
     "iopub.status.idle": "2023-03-08T05:37:52.035084Z",
     "shell.execute_reply": "2023-03-08T05:37:52.033520Z",
     "shell.execute_reply.started": "2023-03-08T05:37:29.910542Z"
    },
    "id": "AlOU7aFKgezg",
    "outputId": "8d976ff5-cfa9-4dc7-e2e3-7f0e19590e8d"
   },
   "outputs": [
    {
     "name": "stdout",
     "output_type": "stream",
     "text": [
      "         00  000  00am  00pm   01   02   03   05   06   09  ...  zirakpur  \\\n",
      "0       0.0  0.0   0.0   0.0  0.0  0.0  0.0  0.0  0.0  0.0  ...       0.0   \n",
      "1       0.0  0.0   0.0   0.0  0.0  0.0  0.0  0.0  0.0  0.0  ...       0.0   \n",
      "2       0.0  0.0   0.0   0.0  0.0  0.0  0.0  0.0  0.0  0.0  ...       0.0   \n",
      "3       0.0  0.0   0.0   0.0  0.0  0.0  0.0  0.0  0.0  0.0  ...       0.0   \n",
      "4       0.0  0.0   0.0   0.0  0.0  0.0  0.0  0.0  0.0  0.0  ...       0.0   \n",
      "...     ...  ...   ...   ...  ...  ...  ...  ...  ...  ...  ...       ...   \n",
      "138711  0.0  0.0   0.0   0.0  0.0  0.0  0.0  0.0  0.0  0.0  ...       0.0   \n",
      "138712  0.0  0.0   0.0   0.0  0.0  0.0  0.0  0.0  0.0  0.0  ...       0.0   \n",
      "138713  0.0  0.0   0.0   0.0  0.0  0.0  0.0  0.0  0.0  0.0  ...       0.0   \n",
      "138714  0.0  0.0   0.0   0.0  0.0  0.0  0.0  0.0  0.0  0.0  ...       0.0   \n",
      "138715  0.0  0.0   0.0   0.0  0.0  0.0  0.0  0.0  0.0  0.0  ...       0.0   \n",
      "\n",
      "        zodiac  zomato  zombie  zone  zones  zoo  zoom  zoya   और  \n",
      "0          0.0     0.0     0.0   0.0    0.0  0.0   0.0   0.0  0.0  \n",
      "1          0.0     0.0     0.0   0.0    0.0  0.0   0.0   0.0  0.0  \n",
      "2          0.0     0.0     0.0   0.0    0.0  0.0   0.0   0.0  0.0  \n",
      "3          0.0     0.0     0.0   0.0    0.0  0.0   0.0   0.0  0.0  \n",
      "4          0.0     0.0     0.0   0.0    0.0  0.0   0.0   0.0  0.0  \n",
      "...        ...     ...     ...   ...    ...  ...   ...   ...  ...  \n",
      "138711     0.0     0.0     0.0   0.0    0.0  0.0   0.0   0.0  0.0  \n",
      "138712     0.0     0.0     0.0   0.0    0.0  0.0   0.0   0.0  0.0  \n",
      "138713     0.0     0.0     0.0   0.0    0.0  0.0   0.0   0.0  0.0  \n",
      "138714     0.0     0.0     0.0   0.0    0.0  0.0   0.0   0.0  0.0  \n",
      "138715     0.0     0.0     0.0   0.0    0.0  0.0   0.0   0.0  0.0  \n",
      "\n",
      "[138716 rows x 10000 columns]\n"
     ]
    }
   ],
   "source": [
    "# importing library \n",
    "from sklearn.feature_extraction.text import TfidfVectorizer\n",
    "\n",
    "#creating object vectorizer\n",
    "vectorizer = TfidfVectorizer(max_features = 10000) #limiting the number of features to 10000\n",
    "vectorized_corpus = vectorizer.fit_transform(data['text']).toarray() #coverting text column into array\n",
    "\n",
    "df_temp = pd.DataFrame(vectorized_corpus,columns=vectorizer.get_feature_names_out())\n",
    "\n",
    "print(df_temp) #printing the rows and columns"
   ]
  },
  {
   "cell_type": "code",
   "execution_count": 16,
   "metadata": {
    "colab": {
     "base_uri": "https://localhost:8080/"
    },
    "execution": {
     "iopub.execute_input": "2023-03-08T05:37:52.039034Z",
     "iopub.status.busy": "2023-03-08T05:37:52.037888Z",
     "iopub.status.idle": "2023-03-08T05:37:52.045649Z",
     "shell.execute_reply": "2023-03-08T05:37:52.043991Z",
     "shell.execute_reply.started": "2023-03-08T05:37:52.038974Z"
    },
    "id": "CDFXsMRmliDI",
    "outputId": "6e113248-7cab-4686-c7f9-6c949d83a04f"
   },
   "outputs": [
    {
     "name": "stdout",
     "output_type": "stream",
     "text": [
      "[[0. 0. 0. ... 0. 0. 0.]\n",
      " [0. 0. 0. ... 0. 0. 0.]\n",
      " [0. 0. 0. ... 0. 0. 0.]\n",
      " ...\n",
      " [0. 0. 0. ... 0. 0. 0.]\n",
      " [0. 0. 0. ... 0. 0. 0.]\n",
      " [0. 0. 0. ... 0. 0. 0.]]\n"
     ]
    }
   ],
   "source": [
    "# printing vectorized_corpus\n",
    "print(vectorized_corpus)"
   ]
  },
  {
   "cell_type": "code",
   "execution_count": 17,
   "metadata": {
    "colab": {
     "base_uri": "https://localhost:8080/"
    },
    "execution": {
     "iopub.execute_input": "2023-03-08T05:37:52.047478Z",
     "iopub.status.busy": "2023-03-08T05:37:52.047120Z",
     "iopub.status.idle": "2023-03-08T05:37:52.092125Z",
     "shell.execute_reply": "2023-03-08T05:37:52.090898Z",
     "shell.execute_reply.started": "2023-03-08T05:37:52.047429Z"
    },
    "id": "CTLVaHTEhN2R",
    "outputId": "9ae639f9-2bba-4d64-8560-53f8906f010f"
   },
   "outputs": [
    {
     "data": {
      "text/plain": [
       "{'love': 5181,\n",
       " 'well': 9758,\n",
       " 'made': 5225,\n",
       " 'sturdy': 8568,\n",
       " 'comfortable': 1903,\n",
       " 'pretty': 6724,\n",
       " 'great': 3847,\n",
       " 'upgrade': 9395,\n",
       " 'original': 6103,\n",
       " 'mine': 5552,\n",
       " 'couple': 2160,\n",
       " 'year': 9951,\n",
       " 'pillow': 6462,\n",
       " 'saved': 7652,\n",
       " 'back': 826,\n",
       " 'look': 5156,\n",
       " 'feel': 3308,\n",
       " 'missing': 5576,\n",
       " 'information': 4429,\n",
       " 'use': 9426,\n",
       " 'product': 6774,\n",
       " 'price': 6729,\n",
       " 'nice': 5862,\n",
       " 'set': 7823,\n",
       " 'good': 3782,\n",
       " 'quality': 6896,\n",
       " 'two': 9289,\n",
       " 'month': 5641,\n",
       " 'wanted': 9666,\n",
       " 'different': 2570,\n",
       " 'flavor': 3410,\n",
       " 'perfect': 6366,\n",
       " 'touch': 9119,\n",
       " 'thing': 8968,\n",
       " 'wish': 9851,\n",
       " 'little': 5111,\n",
       " 'space': 8269,\n",
       " 'done': 2717,\n",
       " 'fit': 3388,\n",
       " 'edge': 2869,\n",
       " 'extra': 3202,\n",
       " 'big': 1097,\n",
       " 'number': 5952,\n",
       " 'easy': 2850,\n",
       " 'read': 7046,\n",
       " 'like': 5064,\n",
       " 'size': 8072,\n",
       " 'son': 8215,\n",
       " 'also': 407,\n",
       " 'baby': 825,\n",
       " 'advertised': 287,\n",
       " 'th': 8916,\n",
       " 'one': 6038,\n",
       " 'problem': 6764,\n",
       " 'really': 7063,\n",
       " 'handy': 3975,\n",
       " 'kid': 4800,\n",
       " 'tool': 9099,\n",
       " 'included': 4383,\n",
       " 'package': 6170,\n",
       " 'someone': 8207,\n",
       " 'say': 7661,\n",
       " 'oriental': 6099,\n",
       " 'flimsy': 3432,\n",
       " 'would': 9911,\n",
       " 'expect': 3153,\n",
       " 'piece': 6452,\n",
       " 'furniture': 3622,\n",
       " 'make': 5268,\n",
       " 'may': 5408,\n",
       " 'tea': 8845,\n",
       " 'kind': 4812,\n",
       " 'hard': 3992,\n",
       " 'put': 6887,\n",
       " 'absolutely': 169,\n",
       " 'adorable': 275,\n",
       " 'excellent': 3103,\n",
       " 'wooden': 9880,\n",
       " 'entire': 3020,\n",
       " 'family': 3252,\n",
       " 'beautiful': 969,\n",
       " 'mesh': 5496,\n",
       " 'exactly': 3095,\n",
       " 'star': 8404,\n",
       " 'highly': 4122,\n",
       " 'recommend': 7098,\n",
       " 'item': 4568,\n",
       " 'blanket': 1142,\n",
       " 'egg': 2892,\n",
       " 'color': 1878,\n",
       " 'dimension': 2584,\n",
       " 'pictured': 6448,\n",
       " 'fantastic': 3259,\n",
       " 'supposed': 8678,\n",
       " 'come': 1898,\n",
       " 'hardware': 3996,\n",
       " 'vacuum': 9453,\n",
       " 'seems': 7761,\n",
       " 'way': 9719,\n",
       " 'smoothie': 8152,\n",
       " 'small': 8133,\n",
       " 'person': 6386,\n",
       " 'accustomed': 217,\n",
       " 'reason': 7066,\n",
       " 'gave': 3683,\n",
       " 'seller': 7776,\n",
       " 'yes': 9955,\n",
       " 'thin': 8967,\n",
       " 'plastic': 6509,\n",
       " 'however': 4246,\n",
       " 'handle': 3968,\n",
       " 'bought': 1230,\n",
       " 'second': 7739,\n",
       " 'first': 3381,\n",
       " 'sure': 8684,\n",
       " 'wonderful': 9872,\n",
       " 'aroma': 625,\n",
       " 'throughout': 9005,\n",
       " 'house': 4236,\n",
       " 'received': 7076,\n",
       " 'time': 9047,\n",
       " 'flat': 3408,\n",
       " 'husband': 4281,\n",
       " 'okay': 6018,\n",
       " 'got': 3799,\n",
       " 'local': 5125,\n",
       " 'store': 8488,\n",
       " 'away': 807,\n",
       " 'thought': 8985,\n",
       " 'addition': 248,\n",
       " 'kitchen': 4831,\n",
       " 'fine': 3366,\n",
       " 'option': 6075,\n",
       " 'separate': 7794,\n",
       " 'awesome': 809,\n",
       " 'material': 5395,\n",
       " 'decent': 2378,\n",
       " 'heavy': 4069,\n",
       " 'everyday': 3083,\n",
       " 'work': 9884,\n",
       " 'part': 6261,\n",
       " 'cup': 2267,\n",
       " 'go': 3763,\n",
       " 'old': 6023,\n",
       " 'suction': 8599,\n",
       " 'removable': 7208,\n",
       " 'expected': 3156,\n",
       " 'design': 2495,\n",
       " 'place': 6487,\n",
       " 'awful': 811,\n",
       " 'experience': 3164,\n",
       " 'everything': 3085,\n",
       " 'stuck': 8549,\n",
       " 'cooked': 2089,\n",
       " 'evenly': 3075,\n",
       " 'job': 4659,\n",
       " 'keeping': 4771,\n",
       " 'slide': 8110,\n",
       " 'sheet': 7900,\n",
       " 'buy': 1392,\n",
       " 'town': 9139,\n",
       " 'save': 7651,\n",
       " 'instead': 4478,\n",
       " 'shipping': 7925,\n",
       " 'box': 1242,\n",
       " 'keep': 4768,\n",
       " 'money': 5631,\n",
       " 'towel': 9135,\n",
       " 'real': 7053,\n",
       " 'clean': 1784,\n",
       " 'purchasing': 6873,\n",
       " 'alright': 406,\n",
       " 'disappointed': 2621,\n",
       " 'paper': 6236,\n",
       " 'corner': 2124,\n",
       " 'cabinet': 1405,\n",
       " 'sticker': 8457,\n",
       " 'fabric': 3212,\n",
       " 'thick': 8962,\n",
       " 'enough': 2997,\n",
       " 'hold': 4165,\n",
       " 'amount': 450,\n",
       " 'coffee': 1856,\n",
       " 'need': 5816,\n",
       " 'long': 5152,\n",
       " 'movie': 5686,\n",
       " 'took': 9098,\n",
       " 'finish': 3371,\n",
       " 'review': 7345,\n",
       " 'next': 5857,\n",
       " 'seal': 7720,\n",
       " 'properly': 6812,\n",
       " 'break': 1266,\n",
       " 'throw': 9006,\n",
       " 'third': 8973,\n",
       " 'dog': 2698,\n",
       " 'much': 5698,\n",
       " 'better': 1053,\n",
       " 'get': 3717,\n",
       " 'walmart': 9659,\n",
       " 'looking': 5158,\n",
       " 'purchase': 6871,\n",
       " 'beat': 964,\n",
       " 'cheap': 1647,\n",
       " 'intended': 4492,\n",
       " 'choice': 1717,\n",
       " 'bowl': 1239,\n",
       " 'fast': 3271,\n",
       " 'last': 4940,\n",
       " 'forever': 3510,\n",
       " 'cool': 2096,\n",
       " 'warm': 9673,\n",
       " 'bit': 1127,\n",
       " 'bigger': 1098,\n",
       " 'fan': 3254,\n",
       " 'actually': 235,\n",
       " 'super': 8659,\n",
       " 'rough': 7460,\n",
       " 'soft': 8184,\n",
       " 'wash': 9687,\n",
       " 'cloth': 1828,\n",
       " 'bar': 898,\n",
       " 'guy': 3931,\n",
       " 'often': 6013,\n",
       " 'unfold': 9349,\n",
       " 'storage': 8487,\n",
       " 'difficult': 2572,\n",
       " 'frame': 3554,\n",
       " 'beautifully': 971,\n",
       " 'crafted': 2193,\n",
       " 'picture': 6447,\n",
       " 'hot': 4228,\n",
       " 'finally': 3361,\n",
       " 'fabulous': 3214,\n",
       " 'friend': 3585,\n",
       " 'low': 5188,\n",
       " 'purchased': 6872,\n",
       " 'christmas': 1736,\n",
       " 'gift': 3729,\n",
       " 'accurate': 215,\n",
       " 'description': 2485,\n",
       " 'came': 1433,\n",
       " 'happy': 3990,\n",
       " 'cover': 2174,\n",
       " 'fluffy': 3455,\n",
       " 'ever': 3079,\n",
       " 'cozy': 2184,\n",
       " 'smell': 8137,\n",
       " 'mist': 5578,\n",
       " 'dry': 2791,\n",
       " 'quickly': 6915,\n",
       " 'favorite': 3286,\n",
       " 'expecting': 3157,\n",
       " 'curtain': 2279,\n",
       " 'bedroom': 980,\n",
       " 'hang': 3976,\n",
       " 'pant': 6232,\n",
       " 'skirt': 8095,\n",
       " 'something': 8208,\n",
       " 'larger': 4934,\n",
       " 'pricey': 6733,\n",
       " 'charge': 1623,\n",
       " 'kept': 4774,\n",
       " 'day': 2356,\n",
       " 'nothing': 5932,\n",
       " 'special': 8286,\n",
       " 'install': 4470,\n",
       " 'described': 2482,\n",
       " 'arrived': 638,\n",
       " 'timely': 9049,\n",
       " 'manner': 5325,\n",
       " 'sent': 7791,\n",
       " 'brush': 1319,\n",
       " 'pencil': 6356,\n",
       " 'etc': 3062,\n",
       " 'shed': 7895,\n",
       " 'le': 4975,\n",
       " 'opener': 6051,\n",
       " 'hand': 3962,\n",
       " 'air': 343,\n",
       " 'tight': 9033,\n",
       " 'glad': 3743,\n",
       " 'cute': 2294,\n",
       " 'zipper': 9989,\n",
       " 'worked': 9885,\n",
       " 'send': 7782,\n",
       " 'grandkids': 3826,\n",
       " 'halloween': 3951,\n",
       " 'treat': 9197,\n",
       " 'ton': 9089,\n",
       " 'using': 9432,\n",
       " 'weak': 9724,\n",
       " 'barely': 904,\n",
       " 'bring': 1299,\n",
       " 'glass': 3746,\n",
       " 'grand': 3821,\n",
       " 'daughter': 2350,\n",
       " 'connecting': 2013,\n",
       " 'power': 6641,\n",
       " 'supply': 8672,\n",
       " 'camera': 1435,\n",
       " 'definitely': 2423,\n",
       " 'contemporary': 2053,\n",
       " 'assemble': 690,\n",
       " 'appears': 555,\n",
       " 'boyfriend': 1247,\n",
       " 'loved': 5182,\n",
       " 'cousin': 2172,\n",
       " 'stopped': 8483,\n",
       " 'working': 9888,\n",
       " 'still': 8462,\n",
       " 'waiting': 9640,\n",
       " 'refund': 7139,\n",
       " 'reasonably': 7068,\n",
       " 'patient': 6306,\n",
       " 'poor': 6586,\n",
       " 'thanks': 8932,\n",
       " 'foot': 3492,\n",
       " 'chair': 1579,\n",
       " 'order': 6083,\n",
       " 'photo': 6414,\n",
       " 'wall': 9655,\n",
       " 'week': 9742,\n",
       " 'help': 4083,\n",
       " 'food': 3484,\n",
       " 'warmer': 9674,\n",
       " 'wide': 9811,\n",
       " 'opening': 6052,\n",
       " 'best': 1049,\n",
       " 'future': 3628,\n",
       " 'additional': 249,\n",
       " 'convenience': 2076,\n",
       " 'turquoise': 9277,\n",
       " 'almost': 395,\n",
       " 'bright': 1290,\n",
       " 'pink': 6470,\n",
       " 'shelf': 7904,\n",
       " 'chocolate': 1715,\n",
       " 'yogurt': 9963,\n",
       " 'fruit': 3597,\n",
       " 'think': 8970,\n",
       " 'knife': 4841,\n",
       " 'father': 3279,\n",
       " 'needed': 5817,\n",
       " 'winter': 9842,\n",
       " 'slept': 8107,\n",
       " 'find': 3363,\n",
       " 'bed': 978,\n",
       " 'functional': 3614,\n",
       " 'leg': 5005,\n",
       " 'bedding': 979,\n",
       " 'term': 8895,\n",
       " 'container': 2050,\n",
       " 'bag': 842,\n",
       " 'type': 9293,\n",
       " 'smooth': 8151,\n",
       " 'solid': 8196,\n",
       " 'grill': 3865,\n",
       " 'large': 4932,\n",
       " 'canvas': 1461,\n",
       " 'lightweight': 5062,\n",
       " 'ordered': 6084,\n",
       " 'light': 5053,\n",
       " 'blue': 1169,\n",
       " 'yellow': 9953,\n",
       " 'used': 9427,\n",
       " 'every': 3081,\n",
       " 'shampoo': 7869,\n",
       " 'conditioner': 1989,\n",
       " 'want': 9665,\n",
       " 'shower': 7973,\n",
       " 'mini': 5555,\n",
       " 'full': 3609,\n",
       " 'mattress': 5403,\n",
       " 'college': 1876,\n",
       " 'terrible': 8900,\n",
       " 'complete': 1957,\n",
       " 'waste': 9698,\n",
       " 'whole': 9801,\n",
       " 'lot': 5170,\n",
       " 'together': 9076,\n",
       " 'difference': 2569,\n",
       " 'deal': 2363,\n",
       " 'far': 3261,\n",
       " 'quick': 6913,\n",
       " 'customer': 2288,\n",
       " 'service': 7814,\n",
       " 'value': 9471,\n",
       " 'oven': 6136,\n",
       " 'right': 7376,\n",
       " 'height': 4074,\n",
       " 'wait': 9636,\n",
       " 'try': 9250,\n",
       " 'haul': 4021,\n",
       " 'china': 1704,\n",
       " 'mother': 5663,\n",
       " 'spice': 8312,\n",
       " 'anything': 537,\n",
       " 'else': 2930,\n",
       " 'car': 1476,\n",
       " 'snake': 8158,\n",
       " 'oil': 6015,\n",
       " 'cushion': 2283,\n",
       " 'constructed': 2040,\n",
       " 'easily': 2846,\n",
       " 'washed': 9689,\n",
       " 'take': 8781,\n",
       " 'mystery': 5748,\n",
       " 'meat': 5435,\n",
       " 'finished': 3372,\n",
       " 'cooking': 2093,\n",
       " 'organizer': 6097,\n",
       " 'utensil': 9436,\n",
       " 'perfectly': 6368,\n",
       " 'art': 645,\n",
       " 'rug': 7484,\n",
       " 'wrap': 9918,\n",
       " 'longer': 5153,\n",
       " 'tube': 9255,\n",
       " 'disappointing': 2622,\n",
       " 'belt': 1027,\n",
       " 'never': 5849,\n",
       " 'expensive': 3162,\n",
       " 'renting': 7223,\n",
       " 'washing': 9691,\n",
       " 'mug': 5701,\n",
       " 'saver': 7653,\n",
       " 'laundry': 4956,\n",
       " 'room': 7444,\n",
       " 'flexible': 3427,\n",
       " 'leading': 4979,\n",
       " 'quite': 6921,\n",
       " 'helpful': 4086,\n",
       " 'condition': 1987,\n",
       " 'bottom': 1229,\n",
       " 'stay': 8428,\n",
       " 'zero': 9986,\n",
       " 'elegant': 2917,\n",
       " 'improve': 4366,\n",
       " 'taste': 8821,\n",
       " 'wine': 9836,\n",
       " 'side': 8001,\n",
       " 'sleeper': 8104,\n",
       " 'mat': 5388,\n",
       " 'new': 5851,\n",
       " 'bathroom': 935,\n",
       " 'baking': 857,\n",
       " 'top': 9105,\n",
       " 'notch': 5926,\n",
       " 'artistry': 656,\n",
       " 'bust': 1380,\n",
       " 'studio': 8553,\n",
       " 'many': 5340,\n",
       " 'comment': 1912,\n",
       " 'spoon': 8338,\n",
       " 'table': 8761,\n",
       " 'matched': 5391,\n",
       " 'secondary': 7740,\n",
       " 'apartment': 543,\n",
       " 'reaching': 7044,\n",
       " 'area': 609,\n",
       " 'somewhat': 8211,\n",
       " 'convenient': 2077,\n",
       " 'hoped': 4202,\n",
       " 'battery': 942,\n",
       " 'candle': 1447,\n",
       " 'brand': 1258,\n",
       " 'ok': 6017,\n",
       " 'firm': 3378,\n",
       " 'perfection': 6367,\n",
       " 'beyond': 1060,\n",
       " 'minimal': 5557,\n",
       " 'effort': 2887,\n",
       " 'smile': 8142,\n",
       " 'fleece': 3423,\n",
       " 'noticed': 5935,\n",
       " 'today': 9070,\n",
       " 'lb': 4973,\n",
       " 'oz': 6162,\n",
       " 'gram': 3820,\n",
       " 'stick': 8456,\n",
       " 'meal': 5421,\n",
       " 'candy': 1450,\n",
       " 'buffet': 1340,\n",
       " 'certainly': 1569,\n",
       " 'cord': 2117,\n",
       " 'garage': 3663,\n",
       " 'broke': 1307,\n",
       " 'tacky': 8766,\n",
       " 'spare': 8277,\n",
       " 'memory': 5477,\n",
       " 'earlier': 2835,\n",
       " 'packaging': 6173,\n",
       " 'mix': 5580,\n",
       " 'bride': 1284,\n",
       " 'slightly': 8114,\n",
       " 'website': 9737,\n",
       " 'pint': 6472,\n",
       " 'pick': 6435,\n",
       " 'equipment': 3032,\n",
       " 'ring': 7380,\n",
       " 'either': 2899,\n",
       " 'gone': 3780,\n",
       " 'destroyed': 2512,\n",
       " 'trouble': 9237,\n",
       " 'high': 4116,\n",
       " 'end': 2962,\n",
       " 'calming': 1429,\n",
       " 'clock': 1816,\n",
       " 'although': 413,\n",
       " 'flaw': 3418,\n",
       " 'solution': 8199,\n",
       " 'sorting': 8242,\n",
       " 'mess': 5501,\n",
       " 'going': 3772,\n",
       " 'dinner': 2598,\n",
       " 'buying': 1394,\n",
       " 'especially': 3050,\n",
       " 'nicely': 5863,\n",
       " 'wife': 9816,\n",
       " 'packed': 6174,\n",
       " 'variety': 9485,\n",
       " 'hour': 4234,\n",
       " 'mirror': 5569,\n",
       " 'hanging': 3978,\n",
       " 'efficient': 2885,\n",
       " 'adore': 276,\n",
       " 'batch': 931,\n",
       " 'cold': 1861,\n",
       " 'drink': 2771,\n",
       " 'measuring': 5434,\n",
       " 'cupcake': 2268,\n",
       " 'fact': 3223,\n",
       " 'padding': 6179,\n",
       " 'popcorn': 6591,\n",
       " 'machine': 5219,\n",
       " 'easier': 2844,\n",
       " 'wrong': 9930,\n",
       " 'countertop': 2154,\n",
       " 'drawer': 2753,\n",
       " 'defective': 2413,\n",
       " 'fix': 3396,\n",
       " 'boy': 1246,\n",
       " 'turn': 9272,\n",
       " 'snap': 8160,\n",
       " 'burn': 1370,\n",
       " 'hell': 4080,\n",
       " 'temp': 8876,\n",
       " 'replaced': 7232,\n",
       " 'staff': 8381,\n",
       " 'holding': 4167,\n",
       " 'closet': 1825,\n",
       " 'know': 4847,\n",
       " 'tried': 9222,\n",
       " 'merchandise': 5489,\n",
       " 'speedy': 8304,\n",
       " 'delivery': 2448,\n",
       " 'american': 439,\n",
       " 'matching': 5393,\n",
       " 'pie': 6451,\n",
       " 'three': 8993,\n",
       " 'impressed': 4363,\n",
       " 'durable': 2814,\n",
       " 'suppose': 8677,\n",
       " 'water': 9706,\n",
       " 'flash': 3405,\n",
       " 'beer': 989,\n",
       " 'even': 3072,\n",
       " 'sitting': 8065,\n",
       " 'believe': 1013,\n",
       " 'rated': 7014,\n",
       " 'originally': 6104,\n",
       " 'noodle': 5908,\n",
       " 'thread': 8991,\n",
       " 'socket': 8179,\n",
       " 'bulb': 1352,\n",
       " 'totally': 9118,\n",
       " 'yet': 9957,\n",
       " 'pull': 6854,\n",
       " 'along': 398,\n",
       " 'otherwise': 6112,\n",
       " 'clear': 1792,\n",
       " 'toilet': 9077,\n",
       " 'holder': 4166,\n",
       " 'sleek': 8102,\n",
       " 'appear': 552,\n",
       " 'promised': 6800,\n",
       " 'lovely': 5183,\n",
       " 'lamp': 4912,\n",
       " 'cookie': 2091,\n",
       " 'cutter': 2297,\n",
       " 'track': 9145,\n",
       " 'shoe': 7941,\n",
       " 'floor': 3439,\n",
       " 'visible': 9596,\n",
       " 'shipped': 7924,\n",
       " 'promptly': 6806,\n",
       " 'ten': 8883,\n",
       " 'slow': 8129,\n",
       " 'bread': 1264,\n",
       " 'becomes': 976,\n",
       " 'rock': 7419,\n",
       " 'overall': 6138,\n",
       " 'broken': 1308,\n",
       " 'pasta': 6290,\n",
       " 'ice': 4299,\n",
       " 'cream': 2209,\n",
       " 'soup': 8255,\n",
       " 'filter': 3354,\n",
       " 'night': 5869,\n",
       " 'noise': 5899,\n",
       " 'variation': 9481,\n",
       " 'fell': 3314,\n",
       " 'apart': 542,\n",
       " 'became': 973,\n",
       " 'strong': 8538,\n",
       " 'world': 9893,\n",
       " 'carpet': 1493,\n",
       " 'floral': 3444,\n",
       " 'dead': 2362,\n",
       " 'heading': 4041,\n",
       " 'watering': 9710,\n",
       " 'covered': 2176,\n",
       " 'strawberry': 8510,\n",
       " 'molded': 5619,\n",
       " 'heart': 4053,\n",
       " 'shell': 7905,\n",
       " 'tad': 8768,\n",
       " 'loose': 5161,\n",
       " 'eat': 2851,\n",
       " 'breakfast': 1268,\n",
       " 'nook': 5910,\n",
       " 'classic': 1777,\n",
       " 'honey': 4188,\n",
       " 'temperature': 8877,\n",
       " 'dishwasher': 2649,\n",
       " 'access': 188,\n",
       " 'white': 9797,\n",
       " 'elephant': 2921,\n",
       " 'liking': 5069,\n",
       " 'single': 8050,\n",
       " 'lighter': 5055,\n",
       " 'soon': 8228,\n",
       " 'surprised': 8694,\n",
       " 'task': 8819,\n",
       " 'standard': 8400,\n",
       " 'present': 6710,\n",
       " 'guest': 3902,\n",
       " 'amazing': 426,\n",
       " 'straw': 8509,\n",
       " 'thinner': 8972,\n",
       " 'professional': 6779,\n",
       " 'blender': 1148,\n",
       " 'open': 6049,\n",
       " 'see': 7752,\n",
       " 'wear': 9730,\n",
       " 'tear': 8853,\n",
       " 'correct': 2130,\n",
       " 'mom': 5621,\n",
       " 'summer': 8638,\n",
       " 'tiny': 9055,\n",
       " 'spatula': 8280,\n",
       " 'unless': 9368,\n",
       " 'arthritis': 647,\n",
       " 'reading': 7051,\n",
       " 'complement': 1955,\n",
       " 'scheme': 7681,\n",
       " 'vibrant': 9539,\n",
       " 'softer': 8185,\n",
       " 'model': 5599,\n",
       " 'bottle': 1226,\n",
       " 'freezer': 3570,\n",
       " 'fresh': 3579,\n",
       " 'compact': 1929,\n",
       " 'travel': 9184,\n",
       " 'charm': 1632,\n",
       " 'daily': 2310,\n",
       " 'lid': 5042,\n",
       " 'wrist': 9923,\n",
       " 'cleaned': 1785,\n",
       " 'sooner': 8229,\n",
       " 'thicker': 8963,\n",
       " 'dot': 2726,\n",
       " 'hook': 4197,\n",
       " 'ceiling': 1544,\n",
       " 'returned': 7335,\n",
       " 'twice': 9284,\n",
       " 'base': 914,\n",
       " 'sharp': 7888,\n",
       " 'careful': 1487,\n",
       " 'taking': 8785,\n",
       " 'italy': 4566,\n",
       " 'rather': 7016,\n",
       " 'stronger': 8539,\n",
       " 'quit': 6920,\n",
       " 'though': 8984,\n",
       " 'knob': 4843,\n",
       " 'rod': 7424,\n",
       " 'clothes': 1829,\n",
       " 'stuff': 8556,\n",
       " 'rub': 7478,\n",
       " 'shorter': 7955,\n",
       " 'cotton': 2145,\n",
       " 'king': 4818,\n",
       " 'others': 6111,\n",
       " 'mentioned': 5482,\n",
       " 'kinda': 4813,\n",
       " 'hose': 4217,\n",
       " 'stiff': 8461,\n",
       " 'fun': 3612,\n",
       " 'alice': 375,\n",
       " 'themed': 8946,\n",
       " 'party': 6271,\n",
       " 'runner': 7496,\n",
       " 'antique': 523,\n",
       " 'balloon': 867,\n",
       " 'weight': 9751,\n",
       " 'serf': 7804,\n",
       " 'purpose': 6878,\n",
       " 'aesthetically': 297,\n",
       " 'useful': 9428,\n",
       " 'attractive': 759,\n",
       " 'speed': 8303,\n",
       " 'home': 4178,\n",
       " 'cracked': 2191,\n",
       " 'bad': 838,\n",
       " 'soap': 8173,\n",
       " 'fish': 3383,\n",
       " 'looked': 5157,\n",
       " 'lunch': 5203,\n",
       " 'several': 7834,\n",
       " 'plenty': 6533,\n",
       " 'solo': 8198,\n",
       " 'stove': 8499,\n",
       " 'tested': 8906,\n",
       " 'installation': 4471,\n",
       " 'priced': 6730,\n",
       " 'durability': 2813,\n",
       " 'scratch': 7697,\n",
       " 'weird': 9752,\n",
       " 'unlike': 9369,\n",
       " 'liner': 5083,\n",
       " 'debris': 2371,\n",
       " 'fall': 3242,\n",
       " 'designed': 2497,\n",
       " 'added': 243,\n",
       " 'organization': 6094,\n",
       " 'provide': 6832,\n",
       " 'pot': 6627,\n",
       " 'pleased': 6527,\n",
       " 'shown': 7976,\n",
       " 'rack': 6937,\n",
       " 'project': 6794,\n",
       " 'worth': 9907,\n",
       " 'hygienic': 4292,\n",
       " 'salt': 7564,\n",
       " 'ordering': 6085,\n",
       " 'inexpensive': 4418,\n",
       " 'queen': 6902,\n",
       " 'actual': 234,\n",
       " 'tighter': 9036,\n",
       " 'mind': 5547,\n",
       " 'making': 5276,\n",
       " 'blade': 1137,\n",
       " 'collection': 1873,\n",
       " 'instruction': 4480,\n",
       " 'misleading': 5572,\n",
       " 'cooky': 2095,\n",
       " 'older': 6025,\n",
       " 'version': 9526,\n",
       " 'grow': 3886,\n",
       " 'handled': 3970,\n",
       " 'pan': 6214,\n",
       " 'without': 9859,\n",
       " 'stunning': 8562,\n",
       " 'modern': 5604,\n",
       " 'desk': 2502,\n",
       " 'gorgeous': 3797,\n",
       " 'industrial': 4416,\n",
       " 'recipient': 7090,\n",
       " 'release': 7175,\n",
       " 'scale': 7665,\n",
       " 'within': 9858,\n",
       " 'follow': 3477,\n",
       " 'direction': 2610,\n",
       " 'float': 3434,\n",
       " 'chicken': 1688,\n",
       " 'hesitation': 4107,\n",
       " 'pitcher': 6481,\n",
       " 'drip': 2774,\n",
       " 'name': 5764,\n",
       " 'hesitate': 4106,\n",
       " 'cart': 1504,\n",
       " 'must': 5736,\n",
       " 'robot': 7418,\n",
       " 'add': 242,\n",
       " 'bulky': 1354,\n",
       " 'counter': 2152,\n",
       " 'maker': 5269,\n",
       " 'rv': 7510,\n",
       " 'partially': 6263,\n",
       " 'beginner': 998,\n",
       " 'went': 9762,\n",
       " 'dark': 2334,\n",
       " 'rarely': 7004,\n",
       " 'ac': 181,\n",
       " 'live': 5112,\n",
       " 'somewhere': 8212,\n",
       " 'humidity': 4265,\n",
       " 'getting': 3720,\n",
       " 'ready': 7052,\n",
       " 'gray': 3843,\n",
       " 'roller': 7433,\n",
       " 'safe': 7530,\n",
       " 'sharpen': 7889,\n",
       " 'scissors': 7689,\n",
       " 'behind': 1007,\n",
       " 'seat': 7733,\n",
       " 'proof': 6809,\n",
       " 'dust': 2819,\n",
       " 'dirt': 2614,\n",
       " 'handling': 3972,\n",
       " 'crack': 2190,\n",
       " 'recommended': 7102,\n",
       " 'since': 8040,\n",
       " 'said': 7544,\n",
       " 'metal': 5506,\n",
       " 'trick': 9219,\n",
       " 'built': 1350,\n",
       " 'razor': 7036,\n",
       " 'cutting': 2298,\n",
       " 'granddaughter': 3823,\n",
       " 'play': 6516,\n",
       " 'saw': 7658,\n",
       " 'skin': 8090,\n",
       " 'hair': 3942,\n",
       " 'simply': 8037,\n",
       " 'thank': 8928,\n",
       " 'cut': 2293,\n",
       " 'let': 5027,\n",
       " 'window': 9831,\n",
       " 'gotten': 3802,\n",
       " 'compliment': 1963,\n",
       " 'mount': 5674,\n",
       " 'enhances': 2987,\n",
       " 'mood': 5647,\n",
       " 'double': 2728,\n",
       " 'bend': 1037,\n",
       " 'split': 8331,\n",
       " 'outstanding': 6135,\n",
       " 'us': 9420,\n",
       " 'bolt': 1189,\n",
       " 'dropped': 2785,\n",
       " 'detail': 2513,\n",
       " 'could': 2147,\n",
       " 'breeze': 1280,\n",
       " 'simple': 8034,\n",
       " 'awhile': 812,\n",
       " 'lasted': 4941,\n",
       " 'rd': 7038,\n",
       " 'steam': 8436,\n",
       " 'kettle': 4778,\n",
       " 'quiet': 6916,\n",
       " 'stand': 8398,\n",
       " 'mixer': 5582,\n",
       " 'gadget': 3632,\n",
       " 'move': 5682,\n",
       " 'around': 627,\n",
       " 'ive': 4577,\n",
       " 'multiple': 5710,\n",
       " 'panel': 6224,\n",
       " 'chip': 1708,\n",
       " 'mark': 5354,\n",
       " 'inside': 4459,\n",
       " 'fuss': 3626,\n",
       " 'beginning': 999,\n",
       " 'anyone': 536,\n",
       " 'trailer': 9157,\n",
       " 'upright': 9407,\n",
       " 'liked': 5066,\n",
       " 'dining': 2596,\n",
       " 'cheerful': 1661,\n",
       " 'highest': 4118,\n",
       " 'bell': 1017,\n",
       " 'fridge': 3583,\n",
       " 'everyone': 3084,\n",
       " 'self': 7772,\n",
       " 'tile': 9042,\n",
       " 'spout': 8350,\n",
       " 'regular': 7157,\n",
       " 'lily': 5071,\n",
       " 'leaf': 4981,\n",
       " 'realistic': 7057,\n",
       " 'pair': 6192,\n",
       " 'non': 5902,\n",
       " 'medical': 5441,\n",
       " 'level': 5031,\n",
       " 'law': 4960,\n",
       " 'basic': 918,\n",
       " 'obsessed': 5978,\n",
       " 'plant': 6504,\n",
       " 'cooker': 2090,\n",
       " 'trust': 9246,\n",
       " 'give': 3739,\n",
       " 'recipe': 7088,\n",
       " 'horrible': 4212,\n",
       " 'hole': 4169,\n",
       " 'sewn': 7838,\n",
       " 'sleep': 8103,\n",
       " 'found': 3541,\n",
       " 'step': 8444,\n",
       " 'stool': 8480,\n",
       " 'jeep': 4634,\n",
       " 'rice': 7358,\n",
       " 'studying': 8555,\n",
       " 'south': 8262,\n",
       " 'bet': 1051,\n",
       " 'rubber': 7479,\n",
       " 'grip': 3870,\n",
       " 'issue': 4561,\n",
       " 'wonder': 9870,\n",
       " 'able': 161,\n",
       " 'neat': 5810,\n",
       " 'major': 5266,\n",
       " 'pain': 6183,\n",
       " 'putting': 6889,\n",
       " 'hate': 4017,\n",
       " 'agree': 332,\n",
       " 'stock': 8470,\n",
       " 'band': 880,\n",
       " 'wheel': 9776,\n",
       " 'nest': 5842,\n",
       " 'tasty': 8830,\n",
       " 'cutest': 2295,\n",
       " 'theme': 8945,\n",
       " 'regarding': 7147,\n",
       " 'cheaply': 1650,\n",
       " 'lucky': 5198,\n",
       " 'scent': 7678,\n",
       " 'fill': 3346,\n",
       " 'refrigerator': 7138,\n",
       " 'darn': 2337,\n",
       " 'goodness': 3786,\n",
       " 'slipped': 8118,\n",
       " 'constantly': 2038,\n",
       " 'ruler': 7491,\n",
       " 'cap': 1462,\n",
       " 'replacement': 7233,\n",
       " 'useless': 9429,\n",
       " 'gilbert': 3733,\n",
       " 'amazon': 428,\n",
       " 'prime': 6742,\n",
       " 'alone': 397,\n",
       " 'letter': 5029,\n",
       " 'case': 1512,\n",
       " 'mixing': 5583,\n",
       " 'colorful': 1880,\n",
       " 'board': 1171,\n",
       " 'decor': 2388,\n",
       " 'probably': 6763,\n",
       " 'post': 6623,\n",
       " 'cheese': 1663,\n",
       " 'red': 7112,\n",
       " 'wood': 9879,\n",
       " 'completely': 1959,\n",
       " 'spark': 8278,\n",
       " 'learning': 4990,\n",
       " 'admit': 272,\n",
       " 'cant': 1457,\n",
       " 'noisy': 5900,\n",
       " 'strongly': 8540,\n",
       " 'magnetic': 5238,\n",
       " 'duty': 2823,\n",
       " 'loving': 5187,\n",
       " 'huge': 4256,\n",
       " 'hit': 4159,\n",
       " 'assortment': 707,\n",
       " 'installed': 4472,\n",
       " 'company': 1932,\n",
       " 'satisfied': 7635,\n",
       " 'carving': 1510,\n",
       " 'elevated': 2925,\n",
       " 'library': 5038,\n",
       " 'started': 8410,\n",
       " 'rust': 7506,\n",
       " 'tank': 8804,\n",
       " 'forward': 3535,\n",
       " 'homemade': 4180,\n",
       " 'coconut': 1853,\n",
       " 'milk': 5539,\n",
       " 'sided': 8002,\n",
       " 'nostalgic': 5923,\n",
       " 'element': 2919,\n",
       " 'smallest': 8135,\n",
       " 'toy': 9141,\n",
       " 'course': 2164,\n",
       " 'ground': 3881,\n",
       " 'turned': 9273,\n",
       " 'boat': 1176,\n",
       " 'excited': 3112,\n",
       " ...}"
      ]
     },
     "execution_count": 17,
     "metadata": {},
     "output_type": "execute_result"
    }
   ],
   "source": [
    "# printing count of each vectorizer\n",
    "vectorizer.vocabulary_"
   ]
  },
  {
   "cell_type": "code",
   "execution_count": 18,
   "metadata": {
    "colab": {
     "base_uri": "https://localhost:8080/"
    },
    "execution": {
     "iopub.execute_input": "2023-03-08T05:37:52.094939Z",
     "iopub.status.busy": "2023-03-08T05:37:52.094555Z",
     "iopub.status.idle": "2023-03-08T05:37:52.102814Z",
     "shell.execute_reply": "2023-03-08T05:37:52.101531Z",
     "shell.execute_reply.started": "2023-03-08T05:37:52.094902Z"
    },
    "id": "FAHAnDkchQAD",
    "outputId": "d42dc3b1-672f-4ca6-8a40-c610abdc7244"
   },
   "outputs": [
    {
     "data": {
      "text/plain": [
       "(138716, 10000)"
      ]
     },
     "execution_count": 18,
     "metadata": {},
     "output_type": "execute_result"
    }
   ],
   "source": [
    "# checking number of rows and columns\n",
    "vectorized_corpus.shape"
   ]
  },
  {
   "cell_type": "code",
   "execution_count": 19,
   "metadata": {
    "execution": {
     "iopub.execute_input": "2023-03-08T05:39:42.787880Z",
     "iopub.status.busy": "2023-03-08T05:39:42.787396Z",
     "iopub.status.idle": "2023-03-08T05:39:42.794095Z",
     "shell.execute_reply": "2023-03-08T05:39:42.792669Z",
     "shell.execute_reply.started": "2023-03-08T05:39:42.787839Z"
    },
    "id": "lUJB-pg3mjvJ"
   },
   "outputs": [],
   "source": [
    "# putting the labeled data into X to train the model\n",
    "X = vectorized_corpus[:40431,:]"
   ]
  },
  {
   "cell_type": "code",
   "execution_count": 20,
   "metadata": {
    "colab": {
     "base_uri": "https://localhost:8080/"
    },
    "execution": {
     "iopub.execute_input": "2023-03-08T05:39:43.616909Z",
     "iopub.status.busy": "2023-03-08T05:39:43.616110Z",
     "iopub.status.idle": "2023-03-08T05:39:43.623937Z",
     "shell.execute_reply": "2023-03-08T05:39:43.622489Z",
     "shell.execute_reply.started": "2023-03-08T05:39:43.616863Z"
    },
    "id": "_172nCrgnLLP",
    "outputId": "39bcf69c-28a8-4cf7-b365-6733ce88869d"
   },
   "outputs": [
    {
     "data": {
      "text/plain": [
       "(40431, 10000)"
      ]
     },
     "execution_count": 20,
     "metadata": {},
     "output_type": "execute_result"
    }
   ],
   "source": [
    "# checking number of rows and columns\n",
    "X.shape"
   ]
  },
  {
   "cell_type": "code",
   "execution_count": 21,
   "metadata": {
    "execution": {
     "iopub.execute_input": "2023-03-08T05:39:49.344863Z",
     "iopub.status.busy": "2023-03-08T05:39:49.343296Z",
     "iopub.status.idle": "2023-03-08T05:39:49.353088Z",
     "shell.execute_reply": "2023-03-08T05:39:49.350673Z",
     "shell.execute_reply.started": "2023-03-08T05:39:49.344766Z"
    },
    "id": "JH7tsP1GnMVy"
   },
   "outputs": [],
   "source": [
    "# putting the label column from df1 into y\n",
    "y = df1.iloc[:,0].values"
   ]
  },
  {
   "cell_type": "code",
   "execution_count": 22,
   "metadata": {
    "colab": {
     "base_uri": "https://localhost:8080/"
    },
    "execution": {
     "iopub.execute_input": "2023-03-08T05:39:49.672960Z",
     "iopub.status.busy": "2023-03-08T05:39:49.672375Z",
     "iopub.status.idle": "2023-03-08T05:39:49.682579Z",
     "shell.execute_reply": "2023-03-08T05:39:49.680779Z",
     "shell.execute_reply.started": "2023-03-08T05:39:49.672904Z"
    },
    "id": "48Qc8sCenaYx",
    "outputId": "d108d552-2bfd-40ff-e672-8b80a36f5820"
   },
   "outputs": [
    {
     "data": {
      "text/plain": [
       "(40431,)"
      ]
     },
     "execution_count": 22,
     "metadata": {},
     "output_type": "execute_result"
    }
   ],
   "source": [
    "# checking number of rows and columns\n",
    "y.shape"
   ]
  },
  {
   "cell_type": "code",
   "execution_count": 23,
   "metadata": {
    "execution": {
     "iopub.execute_input": "2023-03-08T05:39:50.026430Z",
     "iopub.status.busy": "2023-03-08T05:39:50.025936Z",
     "iopub.status.idle": "2023-03-08T05:39:53.025201Z",
     "shell.execute_reply": "2023-03-08T05:39:53.024056Z",
     "shell.execute_reply.started": "2023-03-08T05:39:50.026383Z"
    },
    "id": "M9ZTEXK-ne_o"
   },
   "outputs": [],
   "source": [
    "# Train Test Split\n",
    "from sklearn.model_selection import train_test_split\n",
    "X_train , X_test , y_train , y_test = train_test_split(X , y , test_size = 0.20 , random_state = 0)"
   ]
  },
  {
   "cell_type": "markdown",
   "metadata": {
    "id": "YgEM9RuhdMmb"
   },
   "source": [
    "### TFIDF ==> Naive Bayes Classifier"
   ]
  },
  {
   "cell_type": "code",
   "execution_count": 27,
   "metadata": {
    "execution": {
     "iopub.execute_input": "2023-03-08T05:40:26.893428Z",
     "iopub.status.busy": "2023-03-08T05:40:26.893125Z",
     "iopub.status.idle": "2023-03-08T05:40:28.233769Z",
     "shell.execute_reply": "2023-03-08T05:40:28.232039Z",
     "shell.execute_reply.started": "2023-03-08T05:40:26.893397Z"
    },
    "id": "VdDRPyMPniwa"
   },
   "outputs": [],
   "source": [
    "# Training model using Naive Bayes Classifier\n",
    "\n",
    "from sklearn.naive_bayes import MultinomialNB\n",
    "\n",
    "fake_detect_model = MultinomialNB().fit(X_train , y_train)\n",
    "\n",
    "y_pred = fake_detect_model.predict(X_test)"
   ]
  },
  {
   "cell_type": "code",
   "execution_count": 31,
   "metadata": {
    "execution": {
     "iopub.execute_input": "2023-03-08T05:47:14.632002Z",
     "iopub.status.busy": "2023-03-08T05:47:14.631559Z",
     "iopub.status.idle": "2023-03-08T05:47:14.637363Z",
     "shell.execute_reply": "2023-03-08T05:47:14.636331Z",
     "shell.execute_reply.started": "2023-03-08T05:47:14.631963Z"
    },
    "id": "nnm1z6Wpnzo0"
   },
   "outputs": [],
   "source": [
    "# Now we have trained our model to identify fake reviews, and now we will check from our webscraped data \n",
    "#how many of the data we have are fake\n",
    "\n",
    "web_scraped_data = vectorized_corpus[40431:,:]\n"
   ]
  },
  {
   "cell_type": "code",
   "execution_count": 32,
   "metadata": {
    "colab": {
     "base_uri": "https://localhost:8080/"
    },
    "execution": {
     "iopub.execute_input": "2023-03-08T05:47:15.686565Z",
     "iopub.status.busy": "2023-03-08T05:47:15.686128Z",
     "iopub.status.idle": "2023-03-08T05:47:15.694820Z",
     "shell.execute_reply": "2023-03-08T05:47:15.693741Z",
     "shell.execute_reply.started": "2023-03-08T05:47:15.686524Z"
    },
    "id": "D00M9MO0ozDN",
    "outputId": "d57f3b0c-daf8-4dfe-fa8e-8d4bd5a96ab5"
   },
   "outputs": [
    {
     "data": {
      "text/plain": [
       "(98285, 10000)"
      ]
     },
     "execution_count": 32,
     "metadata": {},
     "output_type": "execute_result"
    }
   ],
   "source": [
    "# checking number of rows and columns\n",
    "web_scraped_data.shape"
   ]
  },
  {
   "cell_type": "code",
   "execution_count": 44,
   "metadata": {
    "execution": {
     "iopub.execute_input": "2023-03-08T05:47:20.150083Z",
     "iopub.status.busy": "2023-03-08T05:47:20.148986Z",
     "iopub.status.idle": "2023-03-08T05:47:21.946888Z",
     "shell.execute_reply": "2023-03-08T05:47:21.945124Z",
     "shell.execute_reply.started": "2023-03-08T05:47:20.150017Z"
    }
   },
   "outputs": [
    {
     "data": {
      "text/plain": [
       "12166"
      ]
     },
     "execution_count": 44,
     "metadata": {},
     "output_type": "execute_result"
    }
   ],
   "source": [
    "# displaying the total number of fake reviews in web_scraped_data\n",
    "# Naive Bayes Classifier\n",
    "sum(fake_detect_model.predict(web_scraped_data))"
   ]
  },
  {
   "cell_type": "code",
   "execution_count": 45,
   "metadata": {
    "execution": {
     "iopub.execute_input": "2023-03-08T05:49:56.196343Z",
     "iopub.status.busy": "2023-03-08T05:49:56.195892Z",
     "iopub.status.idle": "2023-03-08T05:49:56.798057Z",
     "shell.execute_reply": "2023-03-08T05:49:56.795360Z",
     "shell.execute_reply.started": "2023-03-08T05:49:56.196304Z"
    }
   },
   "outputs": [],
   "source": [
    "df = pd.read_csv('reviews.csv')"
   ]
  },
  {
   "cell_type": "code",
   "execution_count": 46,
   "metadata": {
    "execution": {
     "iopub.execute_input": "2023-03-08T05:49:56.936208Z",
     "iopub.status.busy": "2023-03-08T05:49:56.935758Z",
     "iopub.status.idle": "2023-03-08T05:49:56.954728Z",
     "shell.execute_reply": "2023-03-08T05:49:56.953367Z",
     "shell.execute_reply.started": "2023-03-08T05:49:56.936169Z"
    }
   },
   "outputs": [
    {
     "data": {
      "text/html": [
       "<div>\n",
       "<style scoped>\n",
       "    .dataframe tbody tr th:only-of-type {\n",
       "        vertical-align: middle;\n",
       "    }\n",
       "\n",
       "    .dataframe tbody tr th {\n",
       "        vertical-align: top;\n",
       "    }\n",
       "\n",
       "    .dataframe thead th {\n",
       "        text-align: right;\n",
       "    }\n",
       "</style>\n",
       "<table border=\"1\" class=\"dataframe\">\n",
       "  <thead>\n",
       "    <tr style=\"text-align: right;\">\n",
       "      <th></th>\n",
       "      <th>Unnamed: 0</th>\n",
       "      <th>city_name</th>\n",
       "      <th>place_to_visit</th>\n",
       "      <th>place_name</th>\n",
       "      <th>reviews</th>\n",
       "    </tr>\n",
       "  </thead>\n",
       "  <tbody>\n",
       "    <tr>\n",
       "      <th>0</th>\n",
       "      <td>0</td>\n",
       "      <td>Kolkata</td>\n",
       "      <td>Restaurants</td>\n",
       "      <td>Ottimo Cucina Italiana</td>\n",
       "      <td>Mr.Prakash Kumar and Mr.Sourav both are one on...</td>\n",
       "    </tr>\n",
       "    <tr>\n",
       "      <th>1</th>\n",
       "      <td>1</td>\n",
       "      <td>Kolkata</td>\n",
       "      <td>Restaurants</td>\n",
       "      <td>Ottimo Cucina Italiana</td>\n",
       "      <td>Absolutely great place for gathering and indee...</td>\n",
       "    </tr>\n",
       "    <tr>\n",
       "      <th>2</th>\n",
       "      <td>2</td>\n",
       "      <td>Kolkata</td>\n",
       "      <td>Restaurants</td>\n",
       "      <td>Ottimo Cucina Italiana</td>\n",
       "      <td>Pizza was good.Chefs antipasti antipasti selec...</td>\n",
       "    </tr>\n",
       "    <tr>\n",
       "      <th>3</th>\n",
       "      <td>3</td>\n",
       "      <td>Kolkata</td>\n",
       "      <td>Restaurants</td>\n",
       "      <td>Ottimo Cucina Italiana</td>\n",
       "      <td>It was a wonderful dinning experience in the r...</td>\n",
       "    </tr>\n",
       "    <tr>\n",
       "      <th>4</th>\n",
       "      <td>4</td>\n",
       "      <td>Kolkata</td>\n",
       "      <td>Restaurants</td>\n",
       "      <td>Ottimo Cucina Italiana</td>\n",
       "      <td>Had a really great time with family.\\nFood was...</td>\n",
       "    </tr>\n",
       "  </tbody>\n",
       "</table>\n",
       "</div>"
      ],
      "text/plain": [
       "   Unnamed: 0 city_name place_to_visit              place_name  \\\n",
       "0           0   Kolkata    Restaurants  Ottimo Cucina Italiana   \n",
       "1           1   Kolkata    Restaurants  Ottimo Cucina Italiana   \n",
       "2           2   Kolkata    Restaurants  Ottimo Cucina Italiana   \n",
       "3           3   Kolkata    Restaurants  Ottimo Cucina Italiana   \n",
       "4           4   Kolkata    Restaurants  Ottimo Cucina Italiana   \n",
       "\n",
       "                                             reviews  \n",
       "0  Mr.Prakash Kumar and Mr.Sourav both are one on...  \n",
       "1  Absolutely great place for gathering and indee...  \n",
       "2  Pizza was good.Chefs antipasti antipasti selec...  \n",
       "3  It was a wonderful dinning experience in the r...  \n",
       "4  Had a really great time with family.\\nFood was...  "
      ]
     },
     "execution_count": 46,
     "metadata": {},
     "output_type": "execute_result"
    }
   ],
   "source": [
    "df.head()"
   ]
  },
  {
   "cell_type": "code",
   "execution_count": 47,
   "metadata": {
    "execution": {
     "iopub.execute_input": "2023-03-08T05:49:57.625445Z",
     "iopub.status.busy": "2023-03-08T05:49:57.624841Z",
     "iopub.status.idle": "2023-03-08T05:49:57.671108Z",
     "shell.execute_reply": "2023-03-08T05:49:57.668617Z",
     "shell.execute_reply.started": "2023-03-08T05:49:57.625393Z"
    }
   },
   "outputs": [
    {
     "name": "stdout",
     "output_type": "stream",
     "text": [
      "<class 'pandas.core.frame.DataFrame'>\n",
      "RangeIndex: 98623 entries, 0 to 98622\n",
      "Data columns (total 5 columns):\n",
      " #   Column          Non-Null Count  Dtype \n",
      "---  ------          --------------  ----- \n",
      " 0   Unnamed: 0      98623 non-null  int64 \n",
      " 1   city_name       98623 non-null  object\n",
      " 2   place_to_visit  98623 non-null  object\n",
      " 3   place_name      98623 non-null  object\n",
      " 4   reviews         98623 non-null  object\n",
      "dtypes: int64(1), object(4)\n",
      "memory usage: 3.8+ MB\n"
     ]
    }
   ],
   "source": [
    "df.info()"
   ]
  },
  {
   "cell_type": "code",
   "execution_count": 48,
   "metadata": {
    "execution": {
     "iopub.execute_input": "2023-03-08T05:49:58.231847Z",
     "iopub.status.busy": "2023-03-08T05:49:58.230926Z",
     "iopub.status.idle": "2023-03-08T05:49:58.348895Z",
     "shell.execute_reply": "2023-03-08T05:49:58.346399Z",
     "shell.execute_reply.started": "2023-03-08T05:49:58.231798Z"
    }
   },
   "outputs": [],
   "source": [
    "df.drop(['Unnamed: 0'] , axis = 1 , inplace = True)\n",
    "df = df.drop(df.iloc[np.where(df.city_name == 'city_name')].index , axis = 0)\n",
    "\n",
    "# replacing the value names to avoid duplicacy in the data.\n",
    "\n",
    "df = df.replace('jaipur' , 'Jaipur')\n",
    "df = df.replace('agra' , 'Agra')\n",
    "df = df.replace('Things_to_do' , 'Things')\n",
    "\n"
   ]
  },
  {
   "cell_type": "code",
   "execution_count": 49,
   "metadata": {
    "execution": {
     "iopub.execute_input": "2023-03-08T05:49:59.956116Z",
     "iopub.status.busy": "2023-03-08T05:49:59.954283Z",
     "iopub.status.idle": "2023-03-08T05:49:59.963329Z",
     "shell.execute_reply": "2023-03-08T05:49:59.962274Z",
     "shell.execute_reply.started": "2023-03-08T05:49:59.956045Z"
    }
   },
   "outputs": [
    {
     "data": {
      "text/plain": [
       "(98285, 2)"
      ]
     },
     "execution_count": 49,
     "metadata": {},
     "output_type": "execute_result"
    }
   ],
   "source": [
    "messages.shape"
   ]
  },
  {
   "cell_type": "code",
   "execution_count": 50,
   "metadata": {
    "execution": {
     "iopub.execute_input": "2023-03-08T05:50:01.348920Z",
     "iopub.status.busy": "2023-03-08T05:50:01.346954Z",
     "iopub.status.idle": "2023-03-08T05:50:01.412819Z",
     "shell.execute_reply": "2023-03-08T05:50:01.411297Z",
     "shell.execute_reply.started": "2023-03-08T05:50:01.348849Z"
    }
   },
   "outputs": [
    {
     "name": "stdout",
     "output_type": "stream",
     "text": [
      "<class 'pandas.core.frame.DataFrame'>\n",
      "Int64Index: 98285 entries, 0 to 98622\n",
      "Data columns (total 4 columns):\n",
      " #   Column          Non-Null Count  Dtype \n",
      "---  ------          --------------  ----- \n",
      " 0   city_name       98285 non-null  object\n",
      " 1   place_to_visit  98285 non-null  object\n",
      " 2   place_name      98285 non-null  object\n",
      " 3   reviews         98285 non-null  object\n",
      "dtypes: object(4)\n",
      "memory usage: 3.7+ MB\n"
     ]
    }
   ],
   "source": [
    "df.info()"
   ]
  },
  {
   "cell_type": "code",
   "execution_count": 51,
   "metadata": {
    "execution": {
     "iopub.execute_input": "2023-03-08T05:50:03.013374Z",
     "iopub.status.busy": "2023-03-08T05:50:03.012851Z",
     "iopub.status.idle": "2023-03-08T05:50:03.060783Z",
     "shell.execute_reply": "2023-03-08T05:50:03.058660Z",
     "shell.execute_reply.started": "2023-03-08T05:50:03.013325Z"
    }
   },
   "outputs": [
    {
     "data": {
      "text/plain": [
       "city_name         0\n",
       "place_to_visit    0\n",
       "place_name        0\n",
       "reviews           0\n",
       "dtype: int64"
      ]
     },
     "execution_count": 51,
     "metadata": {},
     "output_type": "execute_result"
    }
   ],
   "source": [
    "df.isna().sum()"
   ]
  },
  {
   "cell_type": "code",
   "execution_count": 52,
   "metadata": {
    "execution": {
     "iopub.execute_input": "2023-03-08T05:50:04.431163Z",
     "iopub.status.busy": "2023-03-08T05:50:04.430600Z",
     "iopub.status.idle": "2023-03-08T05:50:04.441906Z",
     "shell.execute_reply": "2023-03-08T05:50:04.440223Z",
     "shell.execute_reply.started": "2023-03-08T05:50:04.430987Z"
    }
   },
   "outputs": [
    {
     "data": {
      "text/plain": [
       "array([[0., 0., 0., ..., 0., 0., 0.],\n",
       "       [0., 0., 0., ..., 0., 0., 0.],\n",
       "       [0., 0., 0., ..., 0., 0., 0.],\n",
       "       ...,\n",
       "       [0., 0., 0., ..., 0., 0., 0.],\n",
       "       [0., 0., 0., ..., 0., 0., 0.],\n",
       "       [0., 0., 0., ..., 0., 0., 0.]])"
      ]
     },
     "execution_count": 52,
     "metadata": {},
     "output_type": "execute_result"
    }
   ],
   "source": [
    "web_scraped_data"
   ]
  },
  {
   "cell_type": "code",
   "execution_count": 53,
   "metadata": {
    "execution": {
     "iopub.execute_input": "2023-03-08T05:50:06.190671Z",
     "iopub.status.busy": "2023-03-08T05:50:06.189549Z",
     "iopub.status.idle": "2023-03-08T05:50:08.586320Z",
     "shell.execute_reply": "2023-03-08T05:50:08.584336Z",
     "shell.execute_reply.started": "2023-03-08T05:50:06.190559Z"
    },
    "id": "SnTr36d9pCOg"
   },
   "outputs": [],
   "source": [
    "# creating a new column fake which determines whether the reviews is fake or original\n",
    "\n",
    "df['Fake'] = fake_detect_model.predict(web_scraped_data)"
   ]
  },
  {
   "cell_type": "code",
   "execution_count": 57,
   "metadata": {},
   "outputs": [
    {
     "data": {
      "text/html": [
       "<div>\n",
       "<style scoped>\n",
       "    .dataframe tbody tr th:only-of-type {\n",
       "        vertical-align: middle;\n",
       "    }\n",
       "\n",
       "    .dataframe tbody tr th {\n",
       "        vertical-align: top;\n",
       "    }\n",
       "\n",
       "    .dataframe thead th {\n",
       "        text-align: right;\n",
       "    }\n",
       "</style>\n",
       "<table border=\"1\" class=\"dataframe\">\n",
       "  <thead>\n",
       "    <tr style=\"text-align: right;\">\n",
       "      <th></th>\n",
       "      <th>city_name</th>\n",
       "      <th>place_to_visit</th>\n",
       "      <th>place_name</th>\n",
       "      <th>reviews</th>\n",
       "      <th>Fake</th>\n",
       "    </tr>\n",
       "  </thead>\n",
       "  <tbody>\n",
       "    <tr>\n",
       "      <th>0</th>\n",
       "      <td>Kolkata</td>\n",
       "      <td>Restaurants</td>\n",
       "      <td>Ottimo Cucina Italiana</td>\n",
       "      <td>Mr.Prakash Kumar and Mr.Sourav both are one on...</td>\n",
       "      <td>0</td>\n",
       "    </tr>\n",
       "    <tr>\n",
       "      <th>1</th>\n",
       "      <td>Kolkata</td>\n",
       "      <td>Restaurants</td>\n",
       "      <td>Ottimo Cucina Italiana</td>\n",
       "      <td>Absolutely great place for gathering and indee...</td>\n",
       "      <td>0</td>\n",
       "    </tr>\n",
       "    <tr>\n",
       "      <th>2</th>\n",
       "      <td>Kolkata</td>\n",
       "      <td>Restaurants</td>\n",
       "      <td>Ottimo Cucina Italiana</td>\n",
       "      <td>Pizza was good.Chefs antipasti antipasti selec...</td>\n",
       "      <td>0</td>\n",
       "    </tr>\n",
       "    <tr>\n",
       "      <th>3</th>\n",
       "      <td>Kolkata</td>\n",
       "      <td>Restaurants</td>\n",
       "      <td>Ottimo Cucina Italiana</td>\n",
       "      <td>It was a wonderful dinning experience in the r...</td>\n",
       "      <td>0</td>\n",
       "    </tr>\n",
       "    <tr>\n",
       "      <th>4</th>\n",
       "      <td>Kolkata</td>\n",
       "      <td>Restaurants</td>\n",
       "      <td>Ottimo Cucina Italiana</td>\n",
       "      <td>Had a really great time with family.\\nFood was...</td>\n",
       "      <td>0</td>\n",
       "    </tr>\n",
       "  </tbody>\n",
       "</table>\n",
       "</div>"
      ],
      "text/plain": [
       "  city_name place_to_visit              place_name  \\\n",
       "0   Kolkata    Restaurants  Ottimo Cucina Italiana   \n",
       "1   Kolkata    Restaurants  Ottimo Cucina Italiana   \n",
       "2   Kolkata    Restaurants  Ottimo Cucina Italiana   \n",
       "3   Kolkata    Restaurants  Ottimo Cucina Italiana   \n",
       "4   Kolkata    Restaurants  Ottimo Cucina Italiana   \n",
       "\n",
       "                                             reviews  Fake  \n",
       "0  Mr.Prakash Kumar and Mr.Sourav both are one on...     0  \n",
       "1  Absolutely great place for gathering and indee...     0  \n",
       "2  Pizza was good.Chefs antipasti antipasti selec...     0  \n",
       "3  It was a wonderful dinning experience in the r...     0  \n",
       "4  Had a really great time with family.\\nFood was...     0  "
      ]
     },
     "execution_count": 57,
     "metadata": {},
     "output_type": "execute_result"
    }
   ],
   "source": [
    "df.head()"
   ]
  },
  {
   "cell_type": "code",
   "execution_count": 54,
   "metadata": {
    "colab": {
     "base_uri": "https://localhost:8080/",
     "height": 424
    },
    "execution": {
     "iopub.execute_input": "2023-03-08T05:50:10.362620Z",
     "iopub.status.busy": "2023-03-08T05:50:10.362162Z",
     "iopub.status.idle": "2023-03-08T05:50:10.402880Z",
     "shell.execute_reply": "2023-03-08T05:50:10.400834Z",
     "shell.execute_reply.started": "2023-03-08T05:50:10.362582Z"
    },
    "id": "KZ_otouTqgDb",
    "outputId": "6945697e-6ff9-47e2-b3f1-d144542409d6"
   },
   "outputs": [
    {
     "data": {
      "text/html": [
       "<div>\n",
       "<style scoped>\n",
       "    .dataframe tbody tr th:only-of-type {\n",
       "        vertical-align: middle;\n",
       "    }\n",
       "\n",
       "    .dataframe tbody tr th {\n",
       "        vertical-align: top;\n",
       "    }\n",
       "\n",
       "    .dataframe thead th {\n",
       "        text-align: right;\n",
       "    }\n",
       "</style>\n",
       "<table border=\"1\" class=\"dataframe\">\n",
       "  <thead>\n",
       "    <tr style=\"text-align: right;\">\n",
       "      <th></th>\n",
       "      <th>city_name</th>\n",
       "      <th>place_to_visit</th>\n",
       "      <th>place_name</th>\n",
       "      <th>reviews</th>\n",
       "      <th>Fake</th>\n",
       "    </tr>\n",
       "  </thead>\n",
       "  <tbody>\n",
       "    <tr>\n",
       "      <th>6</th>\n",
       "      <td>Kolkata</td>\n",
       "      <td>Restaurants</td>\n",
       "      <td>Ottimo Cucina Italiana</td>\n",
       "      <td>Very nice place must visit , interiors are goo...</td>\n",
       "      <td>1</td>\n",
       "    </tr>\n",
       "    <tr>\n",
       "      <th>7</th>\n",
       "      <td>Kolkata</td>\n",
       "      <td>Restaurants</td>\n",
       "      <td>Ottimo Cucina Italiana</td>\n",
       "      <td>Great to be announced that this was the best p...</td>\n",
       "      <td>1</td>\n",
       "    </tr>\n",
       "    <tr>\n",
       "      <th>9</th>\n",
       "      <td>Kolkata</td>\n",
       "      <td>Restaurants</td>\n",
       "      <td>Ottimo Cucina Italiana</td>\n",
       "      <td>The food was amazing and so fantastically pres...</td>\n",
       "      <td>1</td>\n",
       "    </tr>\n",
       "    <tr>\n",
       "      <th>20</th>\n",
       "      <td>Kolkata</td>\n",
       "      <td>Restaurants</td>\n",
       "      <td>Ottimo Cucina Italiana</td>\n",
       "      <td>Had a great experience at the Ottimo. We were ...</td>\n",
       "      <td>1</td>\n",
       "    </tr>\n",
       "    <tr>\n",
       "      <th>22</th>\n",
       "      <td>Kolkata</td>\n",
       "      <td>Restaurants</td>\n",
       "      <td>Ottimo Cucina Italiana</td>\n",
       "      <td>Excellent food. Very nice and kind waiters. Wo...</td>\n",
       "      <td>1</td>\n",
       "    </tr>\n",
       "    <tr>\n",
       "      <th>...</th>\n",
       "      <td>...</td>\n",
       "      <td>...</td>\n",
       "      <td>...</td>\n",
       "      <td>...</td>\n",
       "      <td>...</td>\n",
       "    </tr>\n",
       "    <tr>\n",
       "      <th>98534</th>\n",
       "      <td>Agra</td>\n",
       "      <td>Hotels</td>\n",
       "      <td>Trident</td>\n",
       "      <td>It was the annual family break that we took to...</td>\n",
       "      <td>1</td>\n",
       "    </tr>\n",
       "    <tr>\n",
       "      <th>98540</th>\n",
       "      <td>Agra</td>\n",
       "      <td>Hotels</td>\n",
       "      <td>Trident</td>\n",
       "      <td>Top notch hospitality.  Each &amp; every staff is ...</td>\n",
       "      <td>1</td>\n",
       "    </tr>\n",
       "    <tr>\n",
       "      <th>98543</th>\n",
       "      <td>Agra</td>\n",
       "      <td>Hotels</td>\n",
       "      <td>Trident</td>\n",
       "      <td>Very good Hotel in Agra. Nice and clean room.G...</td>\n",
       "      <td>1</td>\n",
       "    </tr>\n",
       "    <tr>\n",
       "      <th>98563</th>\n",
       "      <td>Agra</td>\n",
       "      <td>Hotels</td>\n",
       "      <td>Trident</td>\n",
       "      <td>It’s was a great experience I just loved the a...</td>\n",
       "      <td>1</td>\n",
       "    </tr>\n",
       "    <tr>\n",
       "      <th>98615</th>\n",
       "      <td>Agra</td>\n",
       "      <td>Hotels</td>\n",
       "      <td>Trident</td>\n",
       "      <td>A weekend well spent at the Trident Agra, We c...</td>\n",
       "      <td>1</td>\n",
       "    </tr>\n",
       "  </tbody>\n",
       "</table>\n",
       "<p>12166 rows × 5 columns</p>\n",
       "</div>"
      ],
      "text/plain": [
       "      city_name place_to_visit              place_name  \\\n",
       "6       Kolkata    Restaurants  Ottimo Cucina Italiana   \n",
       "7       Kolkata    Restaurants  Ottimo Cucina Italiana   \n",
       "9       Kolkata    Restaurants  Ottimo Cucina Italiana   \n",
       "20      Kolkata    Restaurants  Ottimo Cucina Italiana   \n",
       "22      Kolkata    Restaurants  Ottimo Cucina Italiana   \n",
       "...         ...            ...                     ...   \n",
       "98534      Agra         Hotels                 Trident   \n",
       "98540      Agra         Hotels                 Trident   \n",
       "98543      Agra         Hotels                 Trident   \n",
       "98563      Agra         Hotels                 Trident   \n",
       "98615      Agra         Hotels                 Trident   \n",
       "\n",
       "                                                 reviews  Fake  \n",
       "6      Very nice place must visit , interiors are goo...     1  \n",
       "7      Great to be announced that this was the best p...     1  \n",
       "9      The food was amazing and so fantastically pres...     1  \n",
       "20     Had a great experience at the Ottimo. We were ...     1  \n",
       "22     Excellent food. Very nice and kind waiters. Wo...     1  \n",
       "...                                                  ...   ...  \n",
       "98534  It was the annual family break that we took to...     1  \n",
       "98540  Top notch hospitality.  Each & every staff is ...     1  \n",
       "98543  Very good Hotel in Agra. Nice and clean room.G...     1  \n",
       "98563  It’s was a great experience I just loved the a...     1  \n",
       "98615  A weekend well spent at the Trident Agra, We c...     1  \n",
       "\n",
       "[12166 rows x 5 columns]"
      ]
     },
     "execution_count": 54,
     "metadata": {},
     "output_type": "execute_result"
    }
   ],
   "source": [
    "#creating new dataframe fake_data and copying only the reviews which are fake\n",
    "fake_data = df.iloc[np.where(df['Fake'] == 1)]\n",
    "fake_data"
   ]
  },
  {
   "cell_type": "code",
   "execution_count": 59,
   "metadata": {},
   "outputs": [],
   "source": [
    "df.to_csv('powerbi2.csv')"
   ]
  },
  {
   "cell_type": "code",
   "execution_count": null,
   "metadata": {},
   "outputs": [],
   "source": []
  }
 ],
 "metadata": {
  "accelerator": "TPU",
  "colab": {
   "provenance": []
  },
  "gpuClass": "standard",
  "kernelspec": {
   "display_name": "Python 3 (ipykernel)",
   "language": "python",
   "name": "python3"
  },
  "language_info": {
   "codemirror_mode": {
    "name": "ipython",
    "version": 3
   },
   "file_extension": ".py",
   "mimetype": "text/x-python",
   "name": "python",
   "nbconvert_exporter": "python",
   "pygments_lexer": "ipython3",
   "version": "3.9.13"
  }
 },
 "nbformat": 4,
 "nbformat_minor": 4
}
