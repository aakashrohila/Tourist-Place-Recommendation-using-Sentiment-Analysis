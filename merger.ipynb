{
  "nbformat": 4,
  "nbformat_minor": 0,
  "metadata": {
    "colab": {
      "provenance": []
    },
    "kernelspec": {
      "name": "python3",
      "display_name": "Python 3"
    },
    "language_info": {
      "name": "python"
    }
  },
  "cells": [
    {
      "cell_type": "markdown",
      "source": [
        "Includes code to merge different csv files"
      ],
      "metadata": {
        "id": "_z1kG_D0XsjQ"
      }
    },
    {
      "cell_type": "code",
      "execution_count": null,
      "metadata": {
        "id": "Wm1LiYeqWIE4"
      },
      "outputs": [],
      "source": [
        "import pandas as pd"
      ]
    },
    {
      "cell_type": "code",
      "source": [
        "files = ['/content/drive/MyDrive/Team13_Project/Ahmedabad.csv' , '/content/drive/MyDrive/Team13_Project/Banglore.csv'  , '/content/drive/MyDrive/Team13_Project/Goa.csv' , '/content/drive/MyDrive/Team13_Project/Kolkata.csv','/content/drive/MyDrive/Team13_Project/Mumbai.csv' , '/content/drive/MyDrive/Team13_Project/New Delhi.csv' , '/content/drive/MyDrive/Team13_Project/Pune.csv' , '/content/drive/MyDrive/Team13_Project/Varanasi.csv' , '/content/drive/MyDrive/Team13_Project/Agra.csv' ,'/content/drive/MyDrive/Team13_Project/Jaipur.csv']\n",
        "df = pd.concat(\n",
        "map(pd.read_csv, files), ignore_index=True)"
      ],
      "metadata": {
        "id": "iPBJcl6bWcQ5"
      },
      "execution_count": null,
      "outputs": []
    },
    {
      "cell_type": "code",
      "source": [
        "df.shape"
      ],
      "metadata": {
        "colab": {
          "base_uri": "https://localhost:8080/"
        },
        "id": "BxpyUQdlW7iw",
        "outputId": "7b6c60b6-f804-4a5d-fb2e-4d9d7c8a9695"
      },
      "execution_count": null,
      "outputs": [
        {
          "output_type": "execute_result",
          "data": {
            "text/plain": [
              "(4517, 5)"
            ]
          },
          "metadata": {},
          "execution_count": 15
        }
      ]
    },
    {
      "cell_type": "code",
      "source": [
        "df.tail()"
      ],
      "metadata": {
        "colab": {
          "base_uri": "https://localhost:8080/",
          "height": 206
        },
        "id": "xITP55OSXCkn",
        "outputId": "4fca26f7-af7f-42ea-bc75-eacb348fcedb"
      },
      "execution_count": null,
      "outputs": [
        {
          "output_type": "execute_result",
          "data": {
            "text/plain": [
              "     city_name place_to_visit             place_name  \\\n",
              "4512    Jaipur         Things  City Palace of Jaipur   \n",
              "4513    Jaipur         Things  City Palace of Jaipur   \n",
              "4514    Jaipur         Things  City Palace of Jaipur   \n",
              "4515    Jaipur         Things  City Palace of Jaipur   \n",
              "4516    Jaipur         Things  City Palace of Jaipur   \n",
              "\n",
              "                                                reviews  Unnamed: 0  \n",
              "4512  Underwelming, overpriced, bad tour guide, unst...       445.0  \n",
              "4513  A complex of courtyards, gardens and buildings...       446.0  \n",
              "4514  The architecture of the city palace is beautif...       447.0  \n",
              "4515  Had a great tour with Gajendra haripura, a kno...       448.0  \n",
              "4516  city palace of Jaipur  is also one of the majo...       449.0  "
            ],
            "text/html": [
              "\n",
              "  <div id=\"df-c60b7898-2413-4732-a94e-9e503d93df4c\">\n",
              "    <div class=\"colab-df-container\">\n",
              "      <div>\n",
              "<style scoped>\n",
              "    .dataframe tbody tr th:only-of-type {\n",
              "        vertical-align: middle;\n",
              "    }\n",
              "\n",
              "    .dataframe tbody tr th {\n",
              "        vertical-align: top;\n",
              "    }\n",
              "\n",
              "    .dataframe thead th {\n",
              "        text-align: right;\n",
              "    }\n",
              "</style>\n",
              "<table border=\"1\" class=\"dataframe\">\n",
              "  <thead>\n",
              "    <tr style=\"text-align: right;\">\n",
              "      <th></th>\n",
              "      <th>city_name</th>\n",
              "      <th>place_to_visit</th>\n",
              "      <th>place_name</th>\n",
              "      <th>reviews</th>\n",
              "      <th>Unnamed: 0</th>\n",
              "    </tr>\n",
              "  </thead>\n",
              "  <tbody>\n",
              "    <tr>\n",
              "      <th>4512</th>\n",
              "      <td>Jaipur</td>\n",
              "      <td>Things</td>\n",
              "      <td>City Palace of Jaipur</td>\n",
              "      <td>Underwelming, overpriced, bad tour guide, unst...</td>\n",
              "      <td>445.0</td>\n",
              "    </tr>\n",
              "    <tr>\n",
              "      <th>4513</th>\n",
              "      <td>Jaipur</td>\n",
              "      <td>Things</td>\n",
              "      <td>City Palace of Jaipur</td>\n",
              "      <td>A complex of courtyards, gardens and buildings...</td>\n",
              "      <td>446.0</td>\n",
              "    </tr>\n",
              "    <tr>\n",
              "      <th>4514</th>\n",
              "      <td>Jaipur</td>\n",
              "      <td>Things</td>\n",
              "      <td>City Palace of Jaipur</td>\n",
              "      <td>The architecture of the city palace is beautif...</td>\n",
              "      <td>447.0</td>\n",
              "    </tr>\n",
              "    <tr>\n",
              "      <th>4515</th>\n",
              "      <td>Jaipur</td>\n",
              "      <td>Things</td>\n",
              "      <td>City Palace of Jaipur</td>\n",
              "      <td>Had a great tour with Gajendra haripura, a kno...</td>\n",
              "      <td>448.0</td>\n",
              "    </tr>\n",
              "    <tr>\n",
              "      <th>4516</th>\n",
              "      <td>Jaipur</td>\n",
              "      <td>Things</td>\n",
              "      <td>City Palace of Jaipur</td>\n",
              "      <td>city palace of Jaipur  is also one of the majo...</td>\n",
              "      <td>449.0</td>\n",
              "    </tr>\n",
              "  </tbody>\n",
              "</table>\n",
              "</div>\n",
              "      <button class=\"colab-df-convert\" onclick=\"convertToInteractive('df-c60b7898-2413-4732-a94e-9e503d93df4c')\"\n",
              "              title=\"Convert this dataframe to an interactive table.\"\n",
              "              style=\"display:none;\">\n",
              "        \n",
              "  <svg xmlns=\"http://www.w3.org/2000/svg\" height=\"24px\"viewBox=\"0 0 24 24\"\n",
              "       width=\"24px\">\n",
              "    <path d=\"M0 0h24v24H0V0z\" fill=\"none\"/>\n",
              "    <path d=\"M18.56 5.44l.94 2.06.94-2.06 2.06-.94-2.06-.94-.94-2.06-.94 2.06-2.06.94zm-11 1L8.5 8.5l.94-2.06 2.06-.94-2.06-.94L8.5 2.5l-.94 2.06-2.06.94zm10 10l.94 2.06.94-2.06 2.06-.94-2.06-.94-.94-2.06-.94 2.06-2.06.94z\"/><path d=\"M17.41 7.96l-1.37-1.37c-.4-.4-.92-.59-1.43-.59-.52 0-1.04.2-1.43.59L10.3 9.45l-7.72 7.72c-.78.78-.78 2.05 0 2.83L4 21.41c.39.39.9.59 1.41.59.51 0 1.02-.2 1.41-.59l7.78-7.78 2.81-2.81c.8-.78.8-2.07 0-2.86zM5.41 20L4 18.59l7.72-7.72 1.47 1.35L5.41 20z\"/>\n",
              "  </svg>\n",
              "      </button>\n",
              "      \n",
              "  <style>\n",
              "    .colab-df-container {\n",
              "      display:flex;\n",
              "      flex-wrap:wrap;\n",
              "      gap: 12px;\n",
              "    }\n",
              "\n",
              "    .colab-df-convert {\n",
              "      background-color: #E8F0FE;\n",
              "      border: none;\n",
              "      border-radius: 50%;\n",
              "      cursor: pointer;\n",
              "      display: none;\n",
              "      fill: #1967D2;\n",
              "      height: 32px;\n",
              "      padding: 0 0 0 0;\n",
              "      width: 32px;\n",
              "    }\n",
              "\n",
              "    .colab-df-convert:hover {\n",
              "      background-color: #E2EBFA;\n",
              "      box-shadow: 0px 1px 2px rgba(60, 64, 67, 0.3), 0px 1px 3px 1px rgba(60, 64, 67, 0.15);\n",
              "      fill: #174EA6;\n",
              "    }\n",
              "\n",
              "    [theme=dark] .colab-df-convert {\n",
              "      background-color: #3B4455;\n",
              "      fill: #D2E3FC;\n",
              "    }\n",
              "\n",
              "    [theme=dark] .colab-df-convert:hover {\n",
              "      background-color: #434B5C;\n",
              "      box-shadow: 0px 1px 3px 1px rgba(0, 0, 0, 0.15);\n",
              "      filter: drop-shadow(0px 1px 2px rgba(0, 0, 0, 0.3));\n",
              "      fill: #FFFFFF;\n",
              "    }\n",
              "  </style>\n",
              "\n",
              "      <script>\n",
              "        const buttonEl =\n",
              "          document.querySelector('#df-c60b7898-2413-4732-a94e-9e503d93df4c button.colab-df-convert');\n",
              "        buttonEl.style.display =\n",
              "          google.colab.kernel.accessAllowed ? 'block' : 'none';\n",
              "\n",
              "        async function convertToInteractive(key) {\n",
              "          const element = document.querySelector('#df-c60b7898-2413-4732-a94e-9e503d93df4c');\n",
              "          const dataTable =\n",
              "            await google.colab.kernel.invokeFunction('convertToInteractive',\n",
              "                                                     [key], {});\n",
              "          if (!dataTable) return;\n",
              "\n",
              "          const docLinkHtml = 'Like what you see? Visit the ' +\n",
              "            '<a target=\"_blank\" href=https://colab.research.google.com/notebooks/data_table.ipynb>data table notebook</a>'\n",
              "            + ' to learn more about interactive tables.';\n",
              "          element.innerHTML = '';\n",
              "          dataTable['output_type'] = 'display_data';\n",
              "          await google.colab.output.renderOutput(dataTable, element);\n",
              "          const docLink = document.createElement('div');\n",
              "          docLink.innerHTML = docLinkHtml;\n",
              "          element.appendChild(docLink);\n",
              "        }\n",
              "      </script>\n",
              "    </div>\n",
              "  </div>\n",
              "  "
            ]
          },
          "metadata": {},
          "execution_count": 12
        }
      ]
    },
    {
      "cell_type": "code",
      "source": [
        "df.to_csv('/content/drive/MyDrive/Team13_Project/reviews.csv')"
      ],
      "metadata": {
        "id": "SxbUiludXFWb"
      },
      "execution_count": null,
      "outputs": []
    },
    {
      "cell_type": "code",
      "source": [],
      "metadata": {
        "id": "t8fBzVV6bGba"
      },
      "execution_count": null,
      "outputs": []
    }
  ]
}